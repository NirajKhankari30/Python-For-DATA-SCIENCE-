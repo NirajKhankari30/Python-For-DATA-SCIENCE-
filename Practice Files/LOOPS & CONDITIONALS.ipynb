{
 "cells": [
  {
   "cell_type": "markdown",
   "id": "72adc96b-38a1-4649-ac69-427f16c33ab6",
   "metadata": {},
   "source": [
    "# LOOPS & CONDITIONALS"
   ]
  },
  {
   "cell_type": "markdown",
   "id": "017851d3-f127-43ad-a6b6-0018bd4e4fc1",
   "metadata": {},
   "source": [
    "# Conditional Statements"
   ]
  },
  {
   "cell_type": "markdown",
   "id": "ec3b3d7d-a1e2-42af-b3e0-ecd5c715c2ed",
   "metadata": {},
   "source": [
    "# If Statement"
   ]
  },
  {
   "cell_type": "code",
   "execution_count": 4,
   "id": "86f15a96-9b04-48b6-bf9b-c0a9e85ac488",
   "metadata": {},
   "outputs": [
    {
     "name": "stdout",
     "output_type": "stream",
     "text": [
      "x is greater than 0\n"
     ]
    }
   ],
   "source": [
    "x = 3\n",
    "if (x>0):\n",
    "    print(\"x is greater than 0\")"
   ]
  },
  {
   "cell_type": "markdown",
   "id": "c8ecd7f3-54b9-4c6a-aaec-8c8c82bf3c5c",
   "metadata": {},
   "source": [
    "# If-Else"
   ]
  },
  {
   "cell_type": "code",
   "execution_count": 7,
   "id": "9c05ea02-7ef8-4749-a82f-e66751ba49b0",
   "metadata": {},
   "outputs": [
    {
     "name": "stdout",
     "output_type": "stream",
     "text": [
      "x is not divisible by 2\n"
     ]
    }
   ],
   "source": [
    "x = 5\n",
    "if (x%2 == 0):\n",
    "    print('x is divisible by 2')\n",
    "\n",
    "else:\n",
    "    print('x is not divisible by 2')"
   ]
  },
  {
   "cell_type": "markdown",
   "id": "aa9cd32a-7879-46bf-b9ba-3e7c4ca3e02c",
   "metadata": {},
   "source": [
    "# If-Elif-Else"
   ]
  },
  {
   "cell_type": "code",
   "execution_count": 10,
   "id": "6af6eed8-1a4a-4812-a257-8319cac9955d",
   "metadata": {},
   "outputs": [
    {
     "name": "stdout",
     "output_type": "stream",
     "text": [
      "y is less than 10\n"
     ]
    }
   ],
   "source": [
    "y = 3\n",
    "if (y<10):\n",
    "    print('y is less than 10')\n",
    "\n",
    "elif(y>10 and y<30):\n",
    "    print('y is between 10 and 30')\n",
    "\n",
    "else:\n",
    "    print('y is greater than 30')"
   ]
  },
  {
   "cell_type": "markdown",
   "id": "40f8df29-71ab-4b37-8aa5-ceb3dcb82823",
   "metadata": {},
   "source": [
    "# For Loop"
   ]
  },
  {
   "cell_type": "code",
   "execution_count": 13,
   "id": "f5e2001e-0032-4f84-bbbd-3a3ec7e7cad6",
   "metadata": {},
   "outputs": [
    {
     "name": "stdout",
     "output_type": "stream",
     "text": [
      "Delhi\n",
      "Mumbai\n",
      "Bengal\n"
     ]
    }
   ],
   "source": [
    "a = ['Delhi', 'Mumbai', 'Bengal']\n",
    "for city in a:\n",
    "    print(city)"
   ]
  },
  {
   "cell_type": "code",
   "execution_count": 15,
   "id": "91ebcfbc-3b31-45b2-b49e-c3f37faf8aa6",
   "metadata": {},
   "outputs": [
    {
     "name": "stdout",
     "output_type": "stream",
     "text": [
      "3 is not divisible by 2\n",
      "5 is not divisible by 2\n",
      "7 is not divisible by 2\n",
      "9 is not divisible by 2\n"
     ]
    }
   ],
   "source": [
    "s = [2,3,4,5,6,7,8,9]\n",
    "\n",
    "for i in s:\n",
    "    if (i%2 != 0):\n",
    "        print(i, 'is not divisible by 2')"
   ]
  },
  {
   "cell_type": "markdown",
   "id": "075f91c7-39c7-453e-aeba-735d84fdb588",
   "metadata": {},
   "source": [
    "# While Loop"
   ]
  },
  {
   "cell_type": "code",
   "execution_count": 22,
   "id": "97521ba6-6dcd-4ae1-9547-80c70419085e",
   "metadata": {},
   "outputs": [
    {
     "name": "stdout",
     "output_type": "stream",
     "text": [
      "1\n",
      "2\n",
      "3\n",
      "4\n",
      "5\n"
     ]
    }
   ],
   "source": [
    "i = 1\n",
    "\n",
    "while i<=5:\n",
    "    print(i)\n",
    "    i = i + 1"
   ]
  },
  {
   "cell_type": "code",
   "execution_count": 20,
   "id": "3db18141-73c7-4bd3-ae0d-7ee180c3b61c",
   "metadata": {},
   "outputs": [
    {
     "name": "stdout",
     "output_type": "stream",
     "text": [
      "1\n",
      "2\n",
      "3\n",
      "4\n"
     ]
    }
   ],
   "source": [
    "i = 1\n",
    "\n",
    "while i<5:\n",
    "    print(i)\n",
    "    i += 1"
   ]
  },
  {
   "cell_type": "code",
   "execution_count": 24,
   "id": "6ef138d2-56a3-4adb-85e9-9793a1ebffac",
   "metadata": {},
   "outputs": [
    {
     "name": "stdout",
     "output_type": "stream",
     "text": [
      "1\n",
      "2\n",
      "3\n",
      "4\n",
      "5\n",
      "i is no longer less than 6\n"
     ]
    }
   ],
   "source": [
    "i = 1\n",
    "while i<=5:\n",
    "    print(i)\n",
    "    i=i+1\n",
    "\n",
    "else:\n",
    "    print(\"i is no longer less than 6\")"
   ]
  },
  {
   "cell_type": "markdown",
   "id": "a5e3fc05-f686-451f-a234-190fea8bf763",
   "metadata": {},
   "source": [
    "# Pass Statement"
   ]
  },
  {
   "cell_type": "code",
   "execution_count": 27,
   "id": "85c38c19-06a8-46a8-9642-d5def6d79fd5",
   "metadata": {},
   "outputs": [],
   "source": [
    "for i in range(2, 8):\n",
    "    pass"
   ]
  },
  {
   "cell_type": "markdown",
   "id": "1cb81dfb-e143-4006-9a76-6c96c6e631f9",
   "metadata": {},
   "source": [
    "# Break Statement"
   ]
  },
  {
   "cell_type": "code",
   "execution_count": 30,
   "id": "594d09b6-afad-4746-9079-f0ac5f2b125a",
   "metadata": {},
   "outputs": [
    {
     "name": "stdout",
     "output_type": "stream",
     "text": [
      "1\n",
      "2\n",
      "3\n",
      "4\n",
      "5\n"
     ]
    }
   ],
   "source": [
    "for i in range(1, 10):\n",
    "    print(i)\n",
    "\n",
    "    if i == 5:\n",
    "        break"
   ]
  },
  {
   "cell_type": "markdown",
   "id": "7028731c-d364-432d-9704-3e68ae509ce8",
   "metadata": {},
   "source": [
    "# Continue Statement"
   ]
  },
  {
   "cell_type": "code",
   "execution_count": 33,
   "id": "fc1142ef-8d35-405b-a2d0-86a737d3c157",
   "metadata": {},
   "outputs": [
    {
     "name": "stdout",
     "output_type": "stream",
     "text": [
      "1\n",
      "2\n",
      "3\n",
      "4\n",
      "6\n",
      "7\n",
      "8\n",
      "9\n"
     ]
    }
   ],
   "source": [
    "for i in range(1, 10):\n",
    "    if i == 5:\n",
    "        continue\n",
    "    print(i)\n",
    "\n",
    "        "
   ]
  },
  {
   "cell_type": "markdown",
   "id": "5fb0a5db-0f6e-41d8-bbed-d75adb5b5bd0",
   "metadata": {},
   "source": [
    "# Using Conditional Statements in Loops"
   ]
  },
  {
   "cell_type": "code",
   "execution_count": 38,
   "id": "abeb95da-cf4b-4de7-a2d3-a8c0e626aea5",
   "metadata": {},
   "outputs": [
    {
     "name": "stdout",
     "output_type": "stream",
     "text": [
      "1 is odd\n",
      "2 is even\n",
      "3 is odd\n",
      "4 is even\n",
      "5 is odd\n",
      "6 is even\n",
      "7 is odd\n",
      "8 is even\n",
      "111 is odd\n",
      "1111 is odd\n",
      "22222 is even\n"
     ]
    }
   ],
   "source": [
    "numbers = [1, 2, 3, 4, 5, 6, 7, 8, 111, 1111, 22222]\n",
    "for num in numbers:\n",
    "    if num % 2 == 0:\n",
    "        print(num, \"is even\")\n",
    "\n",
    "    else:\n",
    "        print(num, 'is odd')"
   ]
  },
  {
   "cell_type": "markdown",
   "id": "1499390e-41e2-4074-b81c-fb6856fee096",
   "metadata": {},
   "source": [
    "# While loop with Conditional Statement"
   ]
  },
  {
   "cell_type": "code",
   "execution_count": 41,
   "id": "aad9fe7e-1d4f-4304-afbf-80fbed3b7063",
   "metadata": {},
   "outputs": [
    {
     "name": "stdout",
     "output_type": "stream",
     "text": [
      "Count 0\n",
      "Count 1\n",
      "Count 2\n",
      "Count 3\n",
      "Count 4\n"
     ]
    }
   ],
   "source": [
    "count = 0\n",
    "\n",
    "while count < 5:\n",
    "    print(\"Count\",count)\n",
    "    count += 1"
   ]
  },
  {
   "cell_type": "markdown",
   "id": "675c6bdb-34ff-483d-ae81-6a866b26e599",
   "metadata": {},
   "source": [
    "# Loop Control Statements"
   ]
  },
  {
   "cell_type": "code",
   "execution_count": 46,
   "id": "204fb335-5109-49d7-83b6-41400459245e",
   "metadata": {},
   "outputs": [
    {
     "name": "stdout",
     "output_type": "stream",
     "text": [
      "1\n",
      "3\n"
     ]
    }
   ],
   "source": [
    "numbers = [1, 2, 3, 4, 5, 6, 7, 8, 9, 10]\n",
    "\n",
    "for num in numbers:\n",
    "    if num == 5:\n",
    "        break\n",
    "    if num % 2 == 0:\n",
    "        continue\n",
    "\n",
    "    print(num)"
   ]
  },
  {
   "cell_type": "markdown",
   "id": "31a75fe0-e66c-4984-bc7e-c872096e17f3",
   "metadata": {},
   "source": [
    "# Nested Loops & Conditional Statements"
   ]
  },
  {
   "cell_type": "code",
   "execution_count": 50,
   "id": "f09588f1-191e-47e2-bdbd-48f507e6624f",
   "metadata": {},
   "outputs": [
    {
     "name": "stdout",
     "output_type": "stream",
     "text": [
      "Outer Loop: 0\n",
      "Inner Loop: 0\n",
      "Inner Loop: 1\n",
      "Outer Loop: 1\n",
      "Inner Loop: 0\n",
      "Inner Loop: 1\n",
      "Outer Loop: 2\n",
      "Inner Loop: 0\n",
      "Inner Loop: 1\n"
     ]
    }
   ],
   "source": [
    "for i in range(3):\n",
    "    print(\"Outer Loop:\", i)\n",
    "\n",
    "    for j in range(2):\n",
    "        print(\"Inner Loop:\", j)"
   ]
  },
  {
   "cell_type": "code",
   "execution_count": 52,
   "id": "e31a3124-9747-43ac-9a24-2a1475c7f5ae",
   "metadata": {},
   "outputs": [
    {
     "name": "stdout",
     "output_type": "stream",
     "text": [
      "x is not positive\n"
     ]
    }
   ],
   "source": [
    "x = 5\n",
    "\n",
    "if x>5:\n",
    "    print(\"x is positive\")\n",
    "\n",
    "    if x % 2 == 0:\n",
    "        print(\"x is even\")\n",
    "\n",
    "    else:\n",
    "        print(\"x is odd\")\n",
    "\n",
    "else:\n",
    "    print(\"x is not positive\")"
   ]
  },
  {
   "cell_type": "code",
   "execution_count": 54,
   "id": "9d335b88-38fe-4cab-99c3-ebab5d499f93",
   "metadata": {},
   "outputs": [
    {
     "name": "stdout",
     "output_type": "stream",
     "text": [
      "x is positive\n",
      "x is odd\n"
     ]
    }
   ],
   "source": [
    "x = 5\n",
    "\n",
    "if x>0:\n",
    "    print(\"x is positive\")\n",
    "\n",
    "    if x % 2 == 0:\n",
    "        print(\"x is even\")\n",
    "\n",
    "    else:\n",
    "        print(\"x is odd\")\n",
    "\n",
    "else:\n",
    "    print(\"x is not positive\")"
   ]
  },
  {
   "cell_type": "code",
   "execution_count": 58,
   "id": "ee3e6937-ca47-46aa-a651-e261ae6b98b6",
   "metadata": {},
   "outputs": [
    {
     "name": "stdout",
     "output_type": "stream",
     "text": [
      "Outer Loop iteration: 1\n",
      "Inner Loop iteration: 1\n",
      "Inner Loop iteration: 2\n",
      "Inner Loop iteration: 3\n",
      "Both i & j are odd\n",
      "\n",
      "Outer Loop iteration: 2\n",
      "Inner Loop iteration: 1\n",
      "Inner Loop iteration: 2\n",
      "Inner Loop iteration: 3\n",
      " i is even , j is odd\n",
      "\n",
      "Outer Loop iteration: 3\n",
      "Inner Loop iteration: 1\n",
      "Inner Loop iteration: 2\n",
      "Inner Loop iteration: 3\n",
      "Both i & j are odd\n",
      "\n"
     ]
    }
   ],
   "source": [
    "# outer loop\n",
    "for i in range(1,4):\n",
    "    print(\"Outer Loop iteration:\", i)\n",
    "\n",
    "    # inner loop\n",
    "    for j in range(1,4):\n",
    "        print(\"Inner Loop iteration:\", j)\n",
    "\n",
    "    # outer condition\n",
    "    if i % 2 == 0:\n",
    "        # inner condition\n",
    "        if j % 2 == 0:\n",
    "            print(\"Both i & j are even\")\n",
    "\n",
    "        else:\n",
    "            print(\" i is even , j is odd\")\n",
    "\n",
    "    else:\n",
    "        if j % 2 == 0:\n",
    "            print(\"i is odd, j is even\")\n",
    "\n",
    "        else:\n",
    "            print(\"Both i & j are odd\")\n",
    "\n",
    "    print()"
   ]
  },
  {
   "cell_type": "code",
   "execution_count": null,
   "id": "4cae6cfd-bfd1-4851-81fa-a689557a6f03",
   "metadata": {},
   "outputs": [],
   "source": []
  }
 ],
 "metadata": {
  "kernelspec": {
   "display_name": "Python 3 (ipykernel)",
   "language": "python",
   "name": "python3"
  },
  "language_info": {
   "codemirror_mode": {
    "name": "ipython",
    "version": 3
   },
   "file_extension": ".py",
   "mimetype": "text/x-python",
   "name": "python",
   "nbconvert_exporter": "python",
   "pygments_lexer": "ipython3",
   "version": "3.12.4"
  }
 },
 "nbformat": 4,
 "nbformat_minor": 5
}
