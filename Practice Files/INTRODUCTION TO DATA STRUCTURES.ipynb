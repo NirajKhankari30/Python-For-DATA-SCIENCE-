{
 "cells": [
  {
   "cell_type": "markdown",
   "id": "39005d19-1acc-4482-97c9-8b9999be8e4b",
   "metadata": {},
   "source": [
    "# INTRODUCTION TO DATA STRUCTURES"
   ]
  },
  {
   "cell_type": "markdown",
   "id": "db6c64bb-170e-4d22-93da-cd81356b8724",
   "metadata": {},
   "source": [
    "# LISTS (mutable)"
   ]
  },
  {
   "cell_type": "code",
   "execution_count": 7,
   "id": "7e2d4510-6154-4af5-b9d8-fd093d990fc7",
   "metadata": {},
   "outputs": [
    {
     "name": "stdout",
     "output_type": "stream",
     "text": [
      "['Apple', 'Banana', 'Orange']\n"
     ]
    }
   ],
   "source": [
    "Fruits = ['Apple', 'Banana', 'Orange']\n",
    "print(Fruits)"
   ]
  },
  {
   "cell_type": "code",
   "execution_count": 9,
   "id": "6b3b8fe3-705c-4b88-81f8-562770384352",
   "metadata": {},
   "outputs": [
    {
     "name": "stdout",
     "output_type": "stream",
     "text": [
      "Banana\n"
     ]
    }
   ],
   "source": [
    "print(Fruits[1])"
   ]
  },
  {
   "cell_type": "markdown",
   "id": "1f7caf00-c69f-4515-9526-6967211e2901",
   "metadata": {},
   "source": [
    "### List Methods"
   ]
  },
  {
   "cell_type": "code",
   "execution_count": 13,
   "id": "b3e01f92-5614-454e-bb7c-1190aeb3343e",
   "metadata": {},
   "outputs": [
    {
     "name": "stdout",
     "output_type": "stream",
     "text": [
      "['Apple', 'Banana', 'Orange', 'grape']\n"
     ]
    }
   ],
   "source": [
    "# Add element in List\n",
    "Fruits.append('grape')\n",
    "print(Fruits)"
   ]
  },
  {
   "cell_type": "code",
   "execution_count": 15,
   "id": "406b0e8e-c5a2-454a-adc8-7df1ac2b09c7",
   "metadata": {},
   "outputs": [
    {
     "name": "stdout",
     "output_type": "stream",
     "text": [
      "['Apple', 'Banana', 'pineapple', 'Orange', 'grape']\n"
     ]
    }
   ],
   "source": [
    "# Inserting\n",
    "Fruits.insert(2, 'pineapple')\n",
    "print(Fruits)"
   ]
  },
  {
   "cell_type": "code",
   "execution_count": 23,
   "id": "ff40d188-5fda-4355-b1be-29952c6a4039",
   "metadata": {},
   "outputs": [
    {
     "name": "stdout",
     "output_type": "stream",
     "text": [
      "['Banana', 'pineapple', 'grape']\n"
     ]
    }
   ],
   "source": [
    "# Removing\n",
    "Fruits.remove(\"Orange\")\n",
    "print(Fruits)"
   ]
  },
  {
   "cell_type": "code",
   "execution_count": 25,
   "id": "9e99db09-77a4-4dc6-9369-5286fdd83618",
   "metadata": {},
   "outputs": [
    {
     "name": "stdout",
     "output_type": "stream",
     "text": [
      "['Banana', 'pineapple']\n"
     ]
    }
   ],
   "source": [
    "# pop \n",
    "Fruits.pop()\n",
    "print(Fruits)"
   ]
  },
  {
   "cell_type": "code",
   "execution_count": 27,
   "id": "22d0beaf-88d9-4d22-bf0e-9c0ed915deb7",
   "metadata": {},
   "outputs": [
    {
     "name": "stdout",
     "output_type": "stream",
     "text": [
      "['Banana', 'pineapple']\n"
     ]
    }
   ],
   "source": [
    "# Sorting\n",
    "Fruits.sort()\n",
    "print(Fruits)"
   ]
  },
  {
   "cell_type": "code",
   "execution_count": 29,
   "id": "7f10550e-a57d-4af5-9c95-e4c76bc9011c",
   "metadata": {},
   "outputs": [
    {
     "data": {
      "text/plain": [
       "2"
      ]
     },
     "execution_count": 29,
     "metadata": {},
     "output_type": "execute_result"
    }
   ],
   "source": [
    "# Getting Length\n",
    "\n",
    "len(Fruits)"
   ]
  },
  {
   "cell_type": "markdown",
   "id": "36b54298-dab3-43a3-8a38-3be5840e61a5",
   "metadata": {},
   "source": [
    "# TUPLE (immutable)"
   ]
  },
  {
   "cell_type": "code",
   "execution_count": 36,
   "id": "90b69c21-ee26-4880-a3ac-a74dedbf4d15",
   "metadata": {},
   "outputs": [
    {
     "name": "stdout",
     "output_type": "stream",
     "text": [
      "('apple', 'orange', 'coconut')\n"
     ]
    }
   ],
   "source": [
    "fruits = ('apple', 'orange', 'coconut')\n",
    "print(fruits)"
   ]
  },
  {
   "cell_type": "code",
   "execution_count": 38,
   "id": "8a365f7a-3fb8-42bb-8465-b473c1040eed",
   "metadata": {},
   "outputs": [
    {
     "name": "stdout",
     "output_type": "stream",
     "text": [
      "coconut\n"
     ]
    }
   ],
   "source": [
    "print(fruits[2])"
   ]
  },
  {
   "cell_type": "code",
   "execution_count": 42,
   "id": "8b016d15-ae87-4103-9227-f78eaa5a227b",
   "metadata": {},
   "outputs": [
    {
     "name": "stdout",
     "output_type": "stream",
     "text": [
      "apple\n"
     ]
    }
   ],
   "source": [
    "print(fruits[0])"
   ]
  },
  {
   "cell_type": "markdown",
   "id": "4a160165-96b2-4073-9192-f2e33943860d",
   "metadata": {},
   "source": [
    "### Tuple Operations"
   ]
  },
  {
   "cell_type": "code",
   "execution_count": 47,
   "id": "7d7ef3a8-1205-425c-9b53-e152ac82eb2b",
   "metadata": {},
   "outputs": [
    {
     "name": "stdout",
     "output_type": "stream",
     "text": [
      "('potato', 'tomato', 'somato', 'apple', 'orange', 'coconut')\n"
     ]
    }
   ],
   "source": [
    "# Concatenation\n",
    "\n",
    "veg =(\"potato\", \"tomato\", \"somato\")\n",
    "\n",
    "combine_tuple = veg + fruits\n",
    "print(combine_tuple)"
   ]
  },
  {
   "cell_type": "code",
   "execution_count": 49,
   "id": "608d06f3-3ebf-4f26-826e-bad40562e005",
   "metadata": {},
   "outputs": [
    {
     "name": "stdout",
     "output_type": "stream",
     "text": [
      "('apple', 'orange', 'coconut', 'apple', 'orange', 'coconut', 'apple', 'orange', 'coconut')\n"
     ]
    }
   ],
   "source": [
    "# Repetition\n",
    "\n",
    "repeat_tuple = fruits*3\n",
    "print(repeat_tuple)"
   ]
  },
  {
   "cell_type": "code",
   "execution_count": 51,
   "id": "99a9b844-66f7-45e5-8565-4de0469b04c9",
   "metadata": {},
   "outputs": [
    {
     "name": "stdout",
     "output_type": "stream",
     "text": [
      "('apple', 'orange', 'coconut')\n",
      "('orange', 'coconut')\n"
     ]
    }
   ],
   "source": [
    "# Slicing Operation in Tuple\n",
    "slice_tuple = fruits[1:]\n",
    "print(fruits)\n",
    "print(slice_tuple)"
   ]
  },
  {
   "cell_type": "markdown",
   "id": "f255a19d-dd65-4be0-8fa9-c727f8dd41b6",
   "metadata": {},
   "source": [
    "# SETS"
   ]
  },
  {
   "cell_type": "code",
   "execution_count": 54,
   "id": "b522b9d6-5ade-4fc9-b578-fad3d57b31c8",
   "metadata": {},
   "outputs": [],
   "source": [
    "fruits = {\"apple\", \"orange\"}\n",
    "vowels = set(\"aeiou\")"
   ]
  },
  {
   "cell_type": "code",
   "execution_count": 58,
   "id": "7d71d763-b1c9-4a84-aa63-2cae36e75e39",
   "metadata": {},
   "outputs": [
    {
     "data": {
      "text/plain": [
       "True"
      ]
     },
     "execution_count": 58,
     "metadata": {},
     "output_type": "execute_result"
    }
   ],
   "source": [
    "\"i\" in vowels"
   ]
  },
  {
   "cell_type": "code",
   "execution_count": 60,
   "id": "069ebe4c-773e-43ba-a7b2-36bdc324802b",
   "metadata": {},
   "outputs": [
    {
     "name": "stdout",
     "output_type": "stream",
     "text": [
      "{'mango', 'apple', 'orange'}\n"
     ]
    }
   ],
   "source": [
    "# Add in set \n",
    "fruits.add(\"mango\")\n",
    "print(fruits)"
   ]
  },
  {
   "cell_type": "code",
   "execution_count": 62,
   "id": "a29b909b-68f7-4d3f-9589-7bae49f0a6d7",
   "metadata": {},
   "outputs": [
    {
     "name": "stdout",
     "output_type": "stream",
     "text": [
      "{'jackfruit', 'apple', 'watermelon', 'mango', 'orange'}\n"
     ]
    }
   ],
   "source": [
    "# Update Set \n",
    "\n",
    "fruits.update({\"watermelon\", \"jackfruit\"})\n",
    "print(fruits)"
   ]
  },
  {
   "cell_type": "code",
   "execution_count": 70,
   "id": "a1930150-62a7-4895-936b-c1160e48e727",
   "metadata": {},
   "outputs": [
    {
     "name": "stdout",
     "output_type": "stream",
     "text": [
      "{'apple', 'watermelon', 'orange'}\n"
     ]
    }
   ],
   "source": [
    "# Remove from Set \n",
    "\n",
    "fruits.remove(\"jackfruit\")\n",
    "print(fruits)"
   ]
  },
  {
   "cell_type": "code",
   "execution_count": 72,
   "id": "859ad58d-4ff8-4198-8a3d-e9b6e2d9306e",
   "metadata": {},
   "outputs": [
    {
     "ename": "KeyError",
     "evalue": "'kiwi'",
     "output_type": "error",
     "traceback": [
      "\u001b[1;31m---------------------------------------------------------------------------\u001b[0m",
      "\u001b[1;31mKeyError\u001b[0m                                  Traceback (most recent call last)",
      "Cell \u001b[1;32mIn[72], line 1\u001b[0m\n\u001b[1;32m----> 1\u001b[0m fruits\u001b[38;5;241m.\u001b[39mremove(\u001b[38;5;124m\"\u001b[39m\u001b[38;5;124mkiwi\u001b[39m\u001b[38;5;124m\"\u001b[39m)\n\u001b[0;32m      2\u001b[0m \u001b[38;5;28mprint\u001b[39m(fruits)\n",
      "\u001b[1;31mKeyError\u001b[0m: 'kiwi'"
     ]
    }
   ],
   "source": [
    "fruits.remove(\"kiwi\")\n",
    "print(fruits)"
   ]
  },
  {
   "cell_type": "code",
   "execution_count": 74,
   "id": "3153780d-99e9-4ea9-ba0c-9c24c6f92c4d",
   "metadata": {},
   "outputs": [
    {
     "name": "stdout",
     "output_type": "stream",
     "text": [
      "{'apple', 'watermelon', 'orange'}\n"
     ]
    }
   ],
   "source": [
    "# Disard\n",
    "fruits.discard(\"kiwi\")\n",
    "print(fruits)"
   ]
  },
  {
   "cell_type": "code",
   "execution_count": 76,
   "id": "3969488a-8dfe-4f5e-acb4-627e606154d1",
   "metadata": {},
   "outputs": [
    {
     "name": "stdout",
     "output_type": "stream",
     "text": [
      "{'watermelon', 'orange'}\n"
     ]
    }
   ],
   "source": [
    "# Popping\n",
    "fruits.pop()\n",
    "print(fruits)"
   ]
  },
  {
   "cell_type": "code",
   "execution_count": 80,
   "id": "83a78f9b-bcbf-470a-864e-6dd92f210954",
   "metadata": {},
   "outputs": [
    {
     "name": "stdout",
     "output_type": "stream",
     "text": [
      "set()\n"
     ]
    }
   ],
   "source": [
    "# Length of Set \n",
    "fruits.clear()\n",
    "print(fruits)"
   ]
  },
  {
   "cell_type": "markdown",
   "id": "d0aac49f-bb22-4dcf-b3f8-ac8aa346ca1d",
   "metadata": {},
   "source": [
    "### Set Operations (Mathematical)"
   ]
  },
  {
   "cell_type": "code",
   "execution_count": 86,
   "id": "20ae2c2d-71b7-4da0-9d75-9f37c2e8c6e8",
   "metadata": {},
   "outputs": [
    {
     "name": "stdout",
     "output_type": "stream",
     "text": [
      "{1, 2, 3}\n",
      "{3, 4, 5, 6}\n"
     ]
    }
   ],
   "source": [
    "set = {1, 2, 3}\n",
    "set_ = {3, 4, 5, 6}\n",
    "\n",
    "print(set)\n",
    "print(set_)"
   ]
  },
  {
   "cell_type": "code",
   "execution_count": 91,
   "id": "51b5bb36-cea8-4622-9f5e-b88b62023b21",
   "metadata": {},
   "outputs": [
    {
     "name": "stdout",
     "output_type": "stream",
     "text": [
      "{1, 2, 3, 4, 5, 6}\n"
     ]
    }
   ],
   "source": [
    "# Union Operation\n",
    "\n",
    "union_set = set | set_\n",
    "\n",
    "print(union_set)"
   ]
  },
  {
   "cell_type": "code",
   "execution_count": 97,
   "id": "c7f00e63-127b-4d0b-8ac6-dae3f90118cd",
   "metadata": {},
   "outputs": [
    {
     "name": "stdout",
     "output_type": "stream",
     "text": [
      "{3}\n"
     ]
    }
   ],
   "source": [
    "# Intersection Operation\n",
    "\n",
    "intersection_set = set & set_\n",
    "print(intersection_set)"
   ]
  },
  {
   "cell_type": "code",
   "execution_count": 95,
   "id": "8cce9671-3401-40f2-bb1b-977a4b70f121",
   "metadata": {},
   "outputs": [
    {
     "name": "stdout",
     "output_type": "stream",
     "text": [
      "{1, 2}\n"
     ]
    }
   ],
   "source": [
    "# Difference Operation \n",
    "diff_set = set - set_\n",
    "print(diff_set)"
   ]
  },
  {
   "cell_type": "markdown",
   "id": "63a78878-7043-4aa4-b473-84e309ed2b22",
   "metadata": {},
   "source": [
    "# DICTIONARIES"
   ]
  },
  {
   "cell_type": "code",
   "execution_count": 100,
   "id": "f59f7116-a4a7-48ae-80a6-c7662a797403",
   "metadata": {},
   "outputs": [
    {
     "name": "stdout",
     "output_type": "stream",
     "text": [
      "{'Brand': 'Ford', 'Model': 'Mustang', 'Year': 1964}\n"
     ]
    }
   ],
   "source": [
    "car = {\"Brand\": \"Ford\", \n",
    "       \"Model\": \"Mustang\",\n",
    "      \"Year\": 1964}\n",
    "\n",
    "print(car)"
   ]
  },
  {
   "cell_type": "code",
   "execution_count": 104,
   "id": "87b0bdbc-acba-4abc-9dbc-9b5f40443253",
   "metadata": {},
   "outputs": [
    {
     "name": "stdout",
     "output_type": "stream",
     "text": [
      "Ford\n"
     ]
    }
   ],
   "source": [
    "# Get Operator\n",
    "\n",
    "print(car.get(\"Brand\"))"
   ]
  },
  {
   "cell_type": "code",
   "execution_count": 108,
   "id": "44ed23c5-926c-438c-9d1f-c825ba6148a4",
   "metadata": {},
   "outputs": [
    {
     "name": "stdout",
     "output_type": "stream",
     "text": [
      "Ford\n"
     ]
    }
   ],
   "source": [
    "print(car[\"Brand\"]) # Using Indexing Method"
   ]
  },
  {
   "cell_type": "code",
   "execution_count": 110,
   "id": "59524410-6793-4bda-bcab-e599186ab020",
   "metadata": {},
   "outputs": [
    {
     "name": "stdout",
     "output_type": "stream",
     "text": [
      "{'Brand': 'Maruti', 'Model': 'Mustang', 'Year': 1964}\n"
     ]
    }
   ],
   "source": [
    "# Modify\n",
    "\n",
    "car[\"Brand\"] = \"Maruti\"\n",
    "print(car)"
   ]
  },
  {
   "cell_type": "code",
   "execution_count": 112,
   "id": "2c34905a-55e4-47fc-932f-0f6e90c86cde",
   "metadata": {},
   "outputs": [
    {
     "name": "stdout",
     "output_type": "stream",
     "text": [
      "{'Brand': 'Maruti', 'Model': 'Mustang', 'Year': 1964, 'colour': 'Red'}\n"
     ]
    }
   ],
   "source": [
    "# Adding Key - value pair\n",
    "\n",
    "car[\"colour\"] = \"Red\"\n",
    "print(car)"
   ]
  },
  {
   "cell_type": "markdown",
   "id": "36d3023d-7ed6-4aba-8b65-cc61042f4dbd",
   "metadata": {},
   "source": [
    "### Nested dictionary"
   ]
  },
  {
   "cell_type": "code",
   "execution_count": 115,
   "id": "6313714a-ed04-472d-8d73-f193d955ed8e",
   "metadata": {},
   "outputs": [
    {
     "name": "stdout",
     "output_type": "stream",
     "text": [
      "{'Rakesh': {'Age': 27, 'Marks': 80, 'Sub': 'Hindi'}, 'Suresh': {'Age': 20, 'Marks': 89, 'Sub': 'Marathi'}, 'Mayuresh': {'Age': 25, 'Marks': 50, 'Sub': 'English'}}\n"
     ]
    }
   ],
   "source": [
    "student_marks = { \"Rakesh\": {\"Age\": 27, \"Marks\":80, \"Sub\": \"Hindi\" },\n",
    "                \"Suresh\": {\"Age\": 20, \"Marks\":89, \"Sub\": \"Marathi\" },\n",
    "                \"Mayuresh\": {\"Age\": 25, \"Marks\":50, \"Sub\": \"English\" }}\n",
    "\n",
    "print(student_marks)"
   ]
  },
  {
   "cell_type": "code",
   "execution_count": 119,
   "id": "759847a0-8872-4ab8-894f-8142e7270a12",
   "metadata": {},
   "outputs": [
    {
     "name": "stdout",
     "output_type": "stream",
     "text": [
      "{'Age': 27, 'Marks': 80, 'Sub': 'Hindi'}\n"
     ]
    }
   ],
   "source": [
    "print(student_marks[\"Rakesh\"])"
   ]
  },
  {
   "cell_type": "code",
   "execution_count": 123,
   "id": "cf0745b9-89cc-4080-98c2-f2d02326407c",
   "metadata": {},
   "outputs": [],
   "source": [
    "student_marks[\"Rohan\"] = {}\n",
    "student_marks[\"Rohan\"][\"Age\"] = 23\n",
    "student_marks[\"Rohan\"][\"Marks\"] = 100\n",
    "student_marks[\"Rohan\"][\"Sub\"] = \"Sanskrit\""
   ]
  },
  {
   "cell_type": "code",
   "execution_count": 125,
   "id": "65b573bd-66aa-40b4-8e03-5a1076c1eec8",
   "metadata": {},
   "outputs": [
    {
     "name": "stdout",
     "output_type": "stream",
     "text": [
      "{'Rakesh': {'Age': 27, 'Marks': 80, 'Sub': 'Hindi'}, 'Suresh': {'Age': 20, 'Marks': 89, 'Sub': 'Marathi'}, 'Mayuresh': {'Age': 25, 'Marks': 50, 'Sub': 'English'}, 'Rohan': {'Age': 23, 'Marks': 100, 'Sub': 'Sanskrit'}}\n"
     ]
    }
   ],
   "source": [
    "print(student_marks)"
   ]
  },
  {
   "cell_type": "code",
   "execution_count": 127,
   "id": "a555ef96-42ce-4c41-90dd-ac479ddda087",
   "metadata": {},
   "outputs": [
    {
     "name": "stdout",
     "output_type": "stream",
     "text": [
      "{'Age': 23, 'Marks': 100, 'Sub': 'Sanskrit'}\n"
     ]
    }
   ],
   "source": [
    "print(student_marks[\"Rohan\"])"
   ]
  },
  {
   "cell_type": "code",
   "execution_count": 133,
   "id": "1837ed02-62fe-47c7-ac02-a88342565469",
   "metadata": {},
   "outputs": [
    {
     "name": "stdout",
     "output_type": "stream",
     "text": [
      "{'Suresh': {'Age': 20, 'Marks': 89, 'Sub': 'Marathi'}, 'Mayuresh': {'Age': 25, 'Marks': 50, 'Sub': 'English'}, 'Rohan': {'Age': 23, 'Marks': 100, 'Sub': 'Sanskrit'}}\n"
     ]
    }
   ],
   "source": [
    "# Pop from Dictionary\n",
    "student_marks.pop(\"Rakesh\")\n",
    "print(student_marks)"
   ]
  },
  {
   "cell_type": "markdown",
   "id": "95d724fc-a1e5-4cdb-adef-6cb5a63f662a",
   "metadata": {},
   "source": [
    "# STACKS"
   ]
  },
  {
   "cell_type": "code",
   "execution_count": 3,
   "id": "6217197e-dc98-4f92-b875-f23f2ad4b370",
   "metadata": {},
   "outputs": [
    {
     "name": "stdout",
     "output_type": "stream",
     "text": [
      "[]\n"
     ]
    }
   ],
   "source": [
    "# Creating an Empty List \n",
    "\n",
    "letters = []\n",
    "print(letters)"
   ]
  },
  {
   "cell_type": "code",
   "execution_count": 5,
   "id": "f1879099-4bce-40b7-ad2a-e782d2aacfcd",
   "metadata": {},
   "outputs": [
    {
     "name": "stdout",
     "output_type": "stream",
     "text": [
      "['a', 'ae', 'aei', 'aeio', 'aeiou']\n"
     ]
    }
   ],
   "source": [
    "# Adding Elements using Push Operations\n",
    "\n",
    "letters.append(\"a\")\n",
    "letters.append(\"ae\")\n",
    "letters.append(\"aei\")\n",
    "letters.append(\"aeio\")\n",
    "letters.append(\"aeiou\")\n",
    "\n",
    "print(letters)"
   ]
  },
  {
   "cell_type": "code",
   "execution_count": 7,
   "id": "eab50d9d-6daf-4d51-b0c4-f0b326e7bd88",
   "metadata": {},
   "outputs": [
    {
     "name": "stdout",
     "output_type": "stream",
     "text": [
      "['a', 'ae', 'aei', 'aeio']\n"
     ]
    }
   ],
   "source": [
    "# Removing element using the Pop Operation\n",
    "\n",
    "letters.pop()\n",
    "print(letters)"
   ]
  },
  {
   "cell_type": "markdown",
   "id": "d0a69840-4c29-403b-a9e1-c88d24647085",
   "metadata": {},
   "source": [
    "### Stack using Deque"
   ]
  },
  {
   "cell_type": "code",
   "execution_count": 19,
   "id": "09689d65-eed4-49a4-a6ce-23a70e1e0135",
   "metadata": {},
   "outputs": [
    {
     "name": "stdout",
     "output_type": "stream",
     "text": [
      "deque([])\n"
     ]
    }
   ],
   "source": [
    "# Creating a stack using Deque\n",
    "\n",
    "from collections import deque\n",
    "\n",
    "numbers = deque()\n",
    "print(numbers)"
   ]
  },
  {
   "cell_type": "code",
   "execution_count": 21,
   "id": "7f4c21b3-f1d9-4a64-956b-d8063abfb997",
   "metadata": {},
   "outputs": [
    {
     "name": "stdout",
     "output_type": "stream",
     "text": [
      "deque([23, 3, 35])\n"
     ]
    }
   ],
   "source": [
    "# Adding items Push\n",
    "\n",
    "numbers.append(23)\n",
    "numbers.append(3)\n",
    "numbers.append(35)\n",
    "\n",
    "print(numbers)"
   ]
  },
  {
   "cell_type": "code",
   "execution_count": 23,
   "id": "72c4b2c5-c8a7-4535-bc67-685fa748ac47",
   "metadata": {},
   "outputs": [
    {
     "name": "stdout",
     "output_type": "stream",
     "text": [
      "deque([23, 3])\n"
     ]
    }
   ],
   "source": [
    "# Removing items using pop\n",
    "\n",
    "numbers.pop()\n",
    "print(numbers)"
   ]
  },
  {
   "cell_type": "markdown",
   "id": "f24b97b0-bad6-42d0-80aa-e4bd8c7022fc",
   "metadata": {},
   "source": [
    "# QUEUES"
   ]
  },
  {
   "cell_type": "code",
   "execution_count": 9,
   "id": "0fb95fca-397b-4219-a862-484d898f9d78",
   "metadata": {},
   "outputs": [
    {
     "name": "stdout",
     "output_type": "stream",
     "text": [
      "[]\n"
     ]
    }
   ],
   "source": [
    "# Creating an Empty List\n",
    "\n",
    "fruits = []\n",
    "print(fruits)"
   ]
  },
  {
   "cell_type": "code",
   "execution_count": 13,
   "id": "7943d30b-5f2e-4860-9fe7-5db2fe017327",
   "metadata": {},
   "outputs": [
    {
     "name": "stdout",
     "output_type": "stream",
     "text": [
      "['mango', 'mango', 'mango', 'mango', 'mango', 'orange', 'kiwi', 'apple']\n"
     ]
    }
   ],
   "source": [
    "# Adding items using enqueue operation\n",
    "\n",
    "fruits.append('mango')\n",
    "fruits.append('orange')\n",
    "fruits.append('kiwi')\n",
    "fruits.append('apple')\n",
    "\n",
    "print(fruits)"
   ]
  },
  {
   "cell_type": "code",
   "execution_count": 15,
   "id": "741d79f6-7bb3-4e7c-a75a-a8652d3c6e11",
   "metadata": {},
   "outputs": [
    {
     "name": "stdout",
     "output_type": "stream",
     "text": [
      "['mango', 'mango', 'mango', 'mango', 'orange', 'kiwi', 'apple']\n"
     ]
    }
   ],
   "source": [
    "# Removing item using dequeue operation\n",
    "\n",
    "fruits.pop(0)\n",
    "print(fruits)"
   ]
  },
  {
   "cell_type": "markdown",
   "id": "694a7a11-874b-4209-b988-13c9756e6351",
   "metadata": {},
   "source": [
    "### Queues using Deque"
   ]
  },
  {
   "cell_type": "code",
   "execution_count": 26,
   "id": "02f37d20-3efe-4a90-b324-0ddad93814be",
   "metadata": {},
   "outputs": [
    {
     "name": "stdout",
     "output_type": "stream",
     "text": [
      "deque([])\n"
     ]
    }
   ],
   "source": [
    "# Creating a Queue using Deque\n",
    "\n",
    "from collections import deque\n",
    "\n",
    "names = deque()\n",
    "print(names)"
   ]
  },
  {
   "cell_type": "code",
   "execution_count": 30,
   "id": "360e8ad4-94a4-4fbf-b679-4df882e5bb58",
   "metadata": {},
   "outputs": [
    {
     "name": "stdout",
     "output_type": "stream",
     "text": [
      "deque(['Raja', 'Mark', 'Rinkesh', 'Raja', 'Mark', 'Rinkesh'])\n"
     ]
    }
   ],
   "source": [
    "# Adding items using Enqueue\n",
    "\n",
    "names.append('Raja')\n",
    "names.append('Mark')\n",
    "names.append('Rinkesh')\n",
    "\n",
    "print(names)"
   ]
  },
  {
   "cell_type": "code",
   "execution_count": 32,
   "id": "44a1881a-87f8-493e-be2e-7a656c3811cf",
   "metadata": {},
   "outputs": [
    {
     "name": "stdout",
     "output_type": "stream",
     "text": [
      "deque(['Mark', 'Rinkesh', 'Raja', 'Mark', 'Rinkesh'])\n"
     ]
    }
   ],
   "source": [
    "# Removing item using dequeue\n",
    "\n",
    "names.popleft()\n",
    "print(names)"
   ]
  },
  {
   "cell_type": "markdown",
   "id": "096fa9d9-1651-41c8-af8b-ad49d79acfba",
   "metadata": {},
   "source": [
    "# TIME COMPLEXITY"
   ]
  },
  {
   "cell_type": "code",
   "execution_count": 36,
   "id": "620f64d1-e9b5-4b04-a765-6dfe698e0b37",
   "metadata": {},
   "outputs": [],
   "source": [
    "# Example where Time Complexity reamins constant\n",
    "\n",
    "def print_first_element(lst):\n",
    "    print(lst[0])"
   ]
  },
  {
   "cell_type": "code",
   "execution_count": 38,
   "id": "999b1023-04ba-4eb2-bb72-66e950e6e2c6",
   "metadata": {},
   "outputs": [
    {
     "name": "stdout",
     "output_type": "stream",
     "text": [
      "1\n",
      "CPU times: total: 0 ns\n",
      "Wall time: 0 ns\n"
     ]
    }
   ],
   "source": [
    "%time print_first_element([1, 2, 3, 4])"
   ]
  },
  {
   "cell_type": "code",
   "execution_count": 40,
   "id": "ab1efe16-9b94-454a-95f8-fa56091c9c0e",
   "metadata": {},
   "outputs": [
    {
     "name": "stdout",
     "output_type": "stream",
     "text": [
      "1\n",
      "CPU times: total: 0 ns\n",
      "Wall time: 0 ns\n"
     ]
    }
   ],
   "source": [
    "%time print_first_element([1, 2, 3, 4, 5, 6, 7, 8, 9, 10])"
   ]
  },
  {
   "cell_type": "code",
   "execution_count": 42,
   "id": "b938dd48-00bc-40f9-9e74-af5249c1e3ae",
   "metadata": {},
   "outputs": [],
   "source": [
    "# Here the Time Complexity increases linerly with the Input Size\n",
    "\n",
    "def print_list_elements(lst):\n",
    "    for item in lst:\n",
    "        print(item)"
   ]
  },
  {
   "cell_type": "code",
   "execution_count": 44,
   "id": "db2efa80-39ba-4835-a0db-4e596017fca8",
   "metadata": {},
   "outputs": [
    {
     "name": "stdout",
     "output_type": "stream",
     "text": [
      "1\n",
      "CPU times: total: 0 ns\n",
      "Wall time: 2.01 ms\n"
     ]
    }
   ],
   "source": [
    "%time print_first_element([1, 2, 3, 4])"
   ]
  },
  {
   "cell_type": "code",
   "execution_count": 46,
   "id": "abfaab35-c897-4045-88d6-d50100bcdb69",
   "metadata": {},
   "outputs": [
    {
     "name": "stdout",
     "output_type": "stream",
     "text": [
      "1\n",
      "CPU times: total: 0 ns\n",
      "Wall time: 0 ns\n"
     ]
    }
   ],
   "source": [
    "%time print_first_element([1, 2, 3, 4, 5, 6, 7, 8, 9, 10])"
   ]
  },
  {
   "cell_type": "code",
   "execution_count": 48,
   "id": "40556a33-1f88-49eb-ad77-c20fbed5624f",
   "metadata": {},
   "outputs": [],
   "source": [
    "# the Time Complexity increases quadratically with the Input Size\n",
    "\n",
    "def print_pairs(lst):\n",
    "    for i in lst:\n",
    "        for j in lst:\n",
    "            print(i, j)\n",
    "            "
   ]
  },
  {
   "cell_type": "code",
   "execution_count": 50,
   "id": "f63cb03d-ee1a-4142-8143-78a03aa9a875",
   "metadata": {},
   "outputs": [
    {
     "name": "stdout",
     "output_type": "stream",
     "text": [
      "1 1\n",
      "1 2\n",
      "1 3\n",
      "1 4\n",
      "2 1\n",
      "2 2\n",
      "2 3\n",
      "2 4\n",
      "3 1\n",
      "3 2\n",
      "3 3\n",
      "3 4\n",
      "4 1\n",
      "4 2\n",
      "4 3\n",
      "4 4\n",
      "CPU times: total: 0 ns\n",
      "Wall time: 0 ns\n"
     ]
    }
   ],
   "source": [
    "%time print_pairs([1, 2, 3, 4])"
   ]
  },
  {
   "cell_type": "code",
   "execution_count": 52,
   "id": "afde22c2-239c-42c8-b1f1-d6359739096f",
   "metadata": {},
   "outputs": [
    {
     "name": "stdout",
     "output_type": "stream",
     "text": [
      "1 1\n",
      "1 2\n",
      "1 3\n",
      "1 4\n",
      "1 5\n",
      "1 6\n",
      "1 7\n",
      "1 8\n",
      "1 9\n",
      "2 1\n",
      "2 2\n",
      "2 3\n",
      "2 4\n",
      "2 5\n",
      "2 6\n",
      "2 7\n",
      "2 8\n",
      "2 9\n",
      "3 1\n",
      "3 2\n",
      "3 3\n",
      "3 4\n",
      "3 5\n",
      "3 6\n",
      "3 7\n",
      "3 8\n",
      "3 9\n",
      "4 1\n",
      "4 2\n",
      "4 3\n",
      "4 4\n",
      "4 5\n",
      "4 6\n",
      "4 7\n",
      "4 8\n",
      "4 9\n",
      "5 1\n",
      "5 2\n",
      "5 3\n",
      "5 4\n",
      "5 5\n",
      "5 6\n",
      "5 7\n",
      "5 8\n",
      "5 9\n",
      "6 1\n",
      "6 2\n",
      "6 3\n",
      "6 4\n",
      "6 5\n",
      "6 6\n",
      "6 7\n",
      "6 8\n",
      "6 9\n",
      "7 1\n",
      "7 2\n",
      "7 3\n",
      "7 4\n",
      "7 5\n",
      "7 6\n",
      "7 7\n",
      "7 8\n",
      "7 9\n",
      "8 1\n",
      "8 2\n",
      "8 3\n",
      "8 4\n",
      "8 5\n",
      "8 6\n",
      "8 7\n",
      "8 8\n",
      "8 9\n",
      "9 1\n",
      "9 2\n",
      "9 3\n",
      "9 4\n",
      "9 5\n",
      "9 6\n",
      "9 7\n",
      "9 8\n",
      "9 9\n",
      "CPU times: total: 0 ns\n",
      "Wall time: 0 ns\n"
     ]
    }
   ],
   "source": [
    "%time print_pairs([1, 2, 3, 4, 5, 6, 7, 8, 9])"
   ]
  },
  {
   "cell_type": "markdown",
   "id": "f01f6690-cae2-4fd9-9e28-14002310b487",
   "metadata": {},
   "source": [
    "# SPACE "
   ]
  },
  {
   "cell_type": "code",
   "execution_count": 54,
   "id": "1e6a50ef-e913-4caa-a8f7-4e6ec3d6943b",
   "metadata": {},
   "outputs": [],
   "source": [
    "# Constant Space Complexity\n",
    "\n",
    "def sum_of_two_numbers(a, b):\n",
    "    total = a + b\n",
    "    return total"
   ]
  },
  {
   "cell_type": "code",
   "execution_count": 56,
   "id": "69501bd5-98d4-412b-a4a4-b4de6871860f",
   "metadata": {},
   "outputs": [
    {
     "data": {
      "text/plain": [
       "9"
      ]
     },
     "execution_count": 56,
     "metadata": {},
     "output_type": "execute_result"
    }
   ],
   "source": [
    "sum_of_two_numbers(4, 5)"
   ]
  },
  {
   "cell_type": "code",
   "execution_count": 58,
   "id": "857d9e6a-571d-4d06-8260-a65067308442",
   "metadata": {},
   "outputs": [
    {
     "data": {
      "text/plain": [
       "7202120328"
      ]
     },
     "execution_count": 58,
     "metadata": {},
     "output_type": "execute_result"
    }
   ],
   "source": [
    "sum_of_two_numbers(444444444, 6757675884)"
   ]
  },
  {
   "cell_type": "code",
   "execution_count": 60,
   "id": "a40bb341-ef98-4977-a17a-5ba638eb3eee",
   "metadata": {},
   "outputs": [],
   "source": [
    "# Linear Space Complexity\n",
    "\n",
    "def create_list(n):\n",
    "    lst = []\n",
    "    for i in range(n):\n",
    "        lst.append(i)\n",
    "    return lst    "
   ]
  },
  {
   "cell_type": "code",
   "execution_count": 62,
   "id": "7bec3174-1889-49d8-9d1c-1677c84a3c98",
   "metadata": {},
   "outputs": [
    {
     "data": {
      "text/plain": [
       "[0, 1, 2, 3]"
      ]
     },
     "execution_count": 62,
     "metadata": {},
     "output_type": "execute_result"
    }
   ],
   "source": [
    "create_list(4)"
   ]
  },
  {
   "cell_type": "code",
   "execution_count": 64,
   "id": "6fa850ed-b8db-414d-8306-ae7fc8897f50",
   "metadata": {},
   "outputs": [
    {
     "data": {
      "text/plain": [
       "[0, 1, 2, 3, 4, 5, 6, 7, 8, 9, 10, 11, 12, 13, 14, 15, 16, 17, 18, 19]"
      ]
     },
     "execution_count": 64,
     "metadata": {},
     "output_type": "execute_result"
    }
   ],
   "source": [
    "create_list(20)"
   ]
  },
  {
   "cell_type": "code",
   "execution_count": 66,
   "id": "f0197ff4-e92b-4fdb-ad3d-35567e883f25",
   "metadata": {},
   "outputs": [],
   "source": [
    "# Quadratic Space Complexity\n",
    "\n",
    "def generate_matrix(n):\n",
    "    matrix = [[0] * n for _ in range(n)]\n",
    "    return matrix"
   ]
  },
  {
   "cell_type": "code",
   "execution_count": 68,
   "id": "faa3a095-fb09-4f19-82f5-fbfde451aedb",
   "metadata": {},
   "outputs": [
    {
     "data": {
      "text/plain": [
       "[[0, 0, 0, 0], [0, 0, 0, 0], [0, 0, 0, 0], [0, 0, 0, 0]]"
      ]
     },
     "execution_count": 68,
     "metadata": {},
     "output_type": "execute_result"
    }
   ],
   "source": [
    "generate_matrix(4)"
   ]
  },
  {
   "cell_type": "markdown",
   "id": "80d5fbc1-9384-4140-91d6-2ea97d880a6c",
   "metadata": {},
   "source": [
    "# Sorting Algorithm (very very Important)"
   ]
  },
  {
   "cell_type": "markdown",
   "id": "746ea3d1-1a04-478f-a0c5-5660e7516211",
   "metadata": {},
   "source": [
    "# Bubble Sort "
   ]
  },
  {
   "cell_type": "code",
   "execution_count": 3,
   "id": "238cad84-3b4d-4d07-8c02-640cfb71a456",
   "metadata": {},
   "outputs": [],
   "source": [
    "# Implementation of Bubble Sort\n",
    "\n",
    "def bubble_sort(arr):\n",
    "    n = len(arr)\n",
    "    for i in range(n-1):\n",
    "        for j in range(n-1):\n",
    "            if arr[j] > arr[j+1]:\n",
    "                arr[j], arr[j+1] = arr[j+1], arr[j]"
   ]
  },
  {
   "cell_type": "markdown",
   "id": "24f72f12-6532-4144-84e5-03da5a35d7ad",
   "metadata": {},
   "source": [
    "# Selection Sort"
   ]
  },
  {
   "cell_type": "code",
   "execution_count": 8,
   "id": "4157eb67-36f6-43f4-b472-12963be0071b",
   "metadata": {},
   "outputs": [],
   "source": [
    "# Implementation of Selection Sort\n",
    "\n",
    "def selection_sort(arr):\n",
    "    n = len(arr)\n",
    "    for i in range(n-1):\n",
    "        min_idx = i\n",
    "        for j in range(i+1, n):\n",
    "            if arr[j] < arr[min_idx]:\n",
    "                min_idx = j\n",
    "        arr[i] , arr[min_idx] = arr[min_idx] , arr[i]      "
   ]
  },
  {
   "cell_type": "markdown",
   "id": "d1cbd9f4-5dcd-45b0-8c87-75865d0d1aa1",
   "metadata": {},
   "source": [
    "# Insertion Sort"
   ]
  },
  {
   "cell_type": "code",
   "execution_count": 10,
   "id": "c7ed00f2-0664-469f-9142-078834dcb160",
   "metadata": {},
   "outputs": [],
   "source": [
    "# Insertion Sort\n",
    "\n",
    "def insertion_sort(arr):\n",
    "    n = len(arr)\n",
    "    for i in range(i, n):\n",
    "        key = arr[i]\n",
    "        j = i-1\n",
    "        while j >= 0 and arr[j] > key:\n",
    "            arr[j+1] = arr[j]\n",
    "            j -= 1\n",
    "            arr[j+1] = key\n",
    "            "
   ]
  },
  {
   "cell_type": "markdown",
   "id": "b273fecf-9b7f-490e-9762-d5f5b44348df",
   "metadata": {},
   "source": [
    "# Searching Algorithm "
   ]
  },
  {
   "cell_type": "markdown",
   "id": "abeba97e-54e2-4eb6-aaab-93bbc0c510c3",
   "metadata": {},
   "source": [
    "# Linear Search"
   ]
  },
  {
   "cell_type": "code",
   "execution_count": 22,
   "id": "c6e636cb-1e74-4495-8963-01c592f89c7f",
   "metadata": {},
   "outputs": [],
   "source": [
    "# Implementation of Linear Search\n",
    "\n",
    "def linear_search(arr, target):\n",
    "    for i in range(len(arr)):\n",
    "        if arr[i] == target:\n",
    "            return i\n",
    "    return -1    "
   ]
  },
  {
   "cell_type": "code",
   "execution_count": 24,
   "id": "0abd7466-561d-4b97-a49d-41a41294c7c3",
   "metadata": {},
   "outputs": [
    {
     "name": "stdout",
     "output_type": "stream",
     "text": [
      "2\n"
     ]
    }
   ],
   "source": [
    "# Example of Linear Search\n",
    "\n",
    "numbers = [4, 2, 9, 7, 1, 6]\n",
    "target = 9\n",
    "\n",
    "result = linear_search(numbers, target)\n",
    "print(result)"
   ]
  },
  {
   "cell_type": "markdown",
   "id": "de56b6dd-3af0-4010-8b5e-7d498190c3e9",
   "metadata": {},
   "source": [
    "# Binary Search"
   ]
  },
  {
   "cell_type": "code",
   "execution_count": 33,
   "id": "6640f1de-a8dd-496e-be81-1097131f4085",
   "metadata": {},
   "outputs": [],
   "source": [
    "# Implementation of Binary Search\n",
    "\n",
    "def binary_search(arr, target):\n",
    "    low = 0\n",
    "    high = len(arr) - 1\n",
    "    while low <= high:\n",
    "        mid = (low + high) // 2\n",
    "        if arr[mid] == target:\n",
    "            return mid\n",
    "        elif arr[mid]  < target:\n",
    "            low = mid + 1\n",
    "        else:\n",
    "            high = mid - 1\n",
    "        return -1         "
   ]
  },
  {
   "cell_type": "code",
   "execution_count": 35,
   "id": "eca1f0ce-7e3b-4410-837c-3bc5fd733546",
   "metadata": {},
   "outputs": [
    {
     "name": "stdout",
     "output_type": "stream",
     "text": [
      "Target found at index : 3\n"
     ]
    }
   ],
   "source": [
    "# Example of Binary Search\n",
    "\n",
    "arr = [1, 3, 5, 7, 9, 11, 13]\n",
    "target = 7 \n",
    "\n",
    "index = binary_search(arr, target)\n",
    "print(f\"Target found at index : {index}\")"
   ]
  },
  {
   "cell_type": "code",
   "execution_count": null,
   "id": "470f58ce-8dcb-4e45-a6f3-eb81a5baa283",
   "metadata": {},
   "outputs": [],
   "source": []
  }
 ],
 "metadata": {
  "kernelspec": {
   "display_name": "Python 3 (ipykernel)",
   "language": "python",
   "name": "python3"
  },
  "language_info": {
   "codemirror_mode": {
    "name": "ipython",
    "version": 3
   },
   "file_extension": ".py",
   "mimetype": "text/x-python",
   "name": "python",
   "nbconvert_exporter": "python",
   "pygments_lexer": "ipython3",
   "version": "3.12.4"
  }
 },
 "nbformat": 4,
 "nbformat_minor": 5
}
