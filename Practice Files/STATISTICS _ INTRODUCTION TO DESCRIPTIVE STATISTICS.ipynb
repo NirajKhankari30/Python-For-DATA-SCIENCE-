{
 "cells": [
  {
   "cell_type": "markdown",
   "id": "1b68965a-f6b1-4cf3-bb60-150f4f825a40",
   "metadata": {},
   "source": [
    "# INTRODUCTION TO DESCRIPTIVE STATISTICS"
   ]
  },
  {
   "cell_type": "markdown",
   "id": "1f65b23c-cf20-47a7-8be3-c781b30aa7d9",
   "metadata": {},
   "source": [
    "# TYPES OF DATA"
   ]
  },
  {
   "cell_type": "markdown",
   "id": "095c68ca-f23d-4621-abe6-3b51ffed0364",
   "metadata": {},
   "source": [
    "# Descriptive Statistics"
   ]
  },
  {
   "cell_type": "code",
   "execution_count": 3,
   "id": "f5fdd45f-08e1-4c8e-8941-f73ff2322447",
   "metadata": {},
   "outputs": [],
   "source": [
    "import pandas as pd\n"
   ]
  },
  {
   "cell_type": "code",
   "execution_count": 11,
   "id": "9d895dff-9a7d-47a5-86cc-bc646f55c055",
   "metadata": {},
   "outputs": [
    {
     "data": {
      "text/html": [
       "<div>\n",
       "<style scoped>\n",
       "    .dataframe tbody tr th:only-of-type {\n",
       "        vertical-align: middle;\n",
       "    }\n",
       "\n",
       "    .dataframe tbody tr th {\n",
       "        vertical-align: top;\n",
       "    }\n",
       "\n",
       "    .dataframe thead th {\n",
       "        text-align: right;\n",
       "    }\n",
       "</style>\n",
       "<table border=\"1\" class=\"dataframe\">\n",
       "  <thead>\n",
       "    <tr style=\"text-align: right;\">\n",
       "      <th></th>\n",
       "      <th>YEAR</th>\n",
       "      <th>MONTH</th>\n",
       "      <th>TYPE</th>\n",
       "      <th>Incident_Counts</th>\n",
       "    </tr>\n",
       "  </thead>\n",
       "  <tbody>\n",
       "    <tr>\n",
       "      <th>0</th>\n",
       "      <td>2013</td>\n",
       "      <td>6</td>\n",
       "      <td>Vehicle Collision or Pedestrian Struck (with I...</td>\n",
       "      <td>NaN</td>\n",
       "    </tr>\n",
       "    <tr>\n",
       "      <th>1</th>\n",
       "      <td>2013</td>\n",
       "      <td>6</td>\n",
       "      <td>Theft of Vehicle</td>\n",
       "      <td>NaN</td>\n",
       "    </tr>\n",
       "    <tr>\n",
       "      <th>2</th>\n",
       "      <td>2013</td>\n",
       "      <td>6</td>\n",
       "      <td>Theft of Bicycle</td>\n",
       "      <td>NaN</td>\n",
       "    </tr>\n",
       "    <tr>\n",
       "      <th>3</th>\n",
       "      <td>2013</td>\n",
       "      <td>6</td>\n",
       "      <td>Theft from Vehicle</td>\n",
       "      <td>NaN</td>\n",
       "    </tr>\n",
       "    <tr>\n",
       "      <th>4</th>\n",
       "      <td>2013</td>\n",
       "      <td>6</td>\n",
       "      <td>Other Theft</td>\n",
       "      <td>NaN</td>\n",
       "    </tr>\n",
       "  </tbody>\n",
       "</table>\n",
       "</div>"
      ],
      "text/plain": [
       "   YEAR  MONTH                                               TYPE  \\\n",
       "0  2013      6  Vehicle Collision or Pedestrian Struck (with I...   \n",
       "1  2013      6                                   Theft of Vehicle   \n",
       "2  2013      6                                   Theft of Bicycle   \n",
       "3  2013      6                                 Theft from Vehicle   \n",
       "4  2013      6                                        Other Theft   \n",
       "\n",
       "   Incident_Counts  \n",
       "0              NaN  \n",
       "1              NaN  \n",
       "2              NaN  \n",
       "3              NaN  \n",
       "4              NaN  "
      ]
     },
     "execution_count": 11,
     "metadata": {},
     "output_type": "execute_result"
    }
   ],
   "source": [
    "df = pd.read_csv(\"Test.csv\")\n",
    "\n",
    "df.head()"
   ]
  },
  {
   "cell_type": "code",
   "execution_count": 13,
   "id": "2f2871a9-af35-4bf9-9e79-1cf56881fa70",
   "metadata": {},
   "outputs": [
    {
     "data": {
      "text/plain": [
       "Index(['YEAR', 'MONTH', 'TYPE', 'Incident_Counts'], dtype='object')"
      ]
     },
     "execution_count": 13,
     "metadata": {},
     "output_type": "execute_result"
    }
   ],
   "source": [
    "df.columns"
   ]
  },
  {
   "cell_type": "markdown",
   "id": "8c004bf8-348d-4930-8fbc-2a49c667f3d5",
   "metadata": {},
   "source": [
    "# Numerical Data"
   ]
  },
  {
   "cell_type": "code",
   "execution_count": 15,
   "id": "7ffc6abe-4e53-4e71-a7a4-cbce4c1d4345",
   "metadata": {},
   "outputs": [
    {
     "data": {
      "text/html": [
       "<div>\n",
       "<style scoped>\n",
       "    .dataframe tbody tr th:only-of-type {\n",
       "        vertical-align: middle;\n",
       "    }\n",
       "\n",
       "    .dataframe tbody tr th {\n",
       "        vertical-align: top;\n",
       "    }\n",
       "\n",
       "    .dataframe thead th {\n",
       "        text-align: right;\n",
       "    }\n",
       "</style>\n",
       "<table border=\"1\" class=\"dataframe\">\n",
       "  <thead>\n",
       "    <tr style=\"text-align: right;\">\n",
       "      <th></th>\n",
       "      <th>YEAR</th>\n",
       "      <th>MONTH</th>\n",
       "    </tr>\n",
       "  </thead>\n",
       "  <tbody>\n",
       "    <tr>\n",
       "      <th>0</th>\n",
       "      <td>2013</td>\n",
       "      <td>6</td>\n",
       "    </tr>\n",
       "    <tr>\n",
       "      <th>1</th>\n",
       "      <td>2013</td>\n",
       "      <td>6</td>\n",
       "    </tr>\n",
       "    <tr>\n",
       "      <th>2</th>\n",
       "      <td>2013</td>\n",
       "      <td>6</td>\n",
       "    </tr>\n",
       "    <tr>\n",
       "      <th>3</th>\n",
       "      <td>2013</td>\n",
       "      <td>6</td>\n",
       "    </tr>\n",
       "    <tr>\n",
       "      <th>4</th>\n",
       "      <td>2013</td>\n",
       "      <td>6</td>\n",
       "    </tr>\n",
       "    <tr>\n",
       "      <th>...</th>\n",
       "      <td>...</td>\n",
       "      <td>...</td>\n",
       "    </tr>\n",
       "    <tr>\n",
       "      <th>157</th>\n",
       "      <td>2012</td>\n",
       "      <td>1</td>\n",
       "    </tr>\n",
       "    <tr>\n",
       "      <th>158</th>\n",
       "      <td>2012</td>\n",
       "      <td>1</td>\n",
       "    </tr>\n",
       "    <tr>\n",
       "      <th>159</th>\n",
       "      <td>2012</td>\n",
       "      <td>1</td>\n",
       "    </tr>\n",
       "    <tr>\n",
       "      <th>160</th>\n",
       "      <td>2012</td>\n",
       "      <td>1</td>\n",
       "    </tr>\n",
       "    <tr>\n",
       "      <th>161</th>\n",
       "      <td>2012</td>\n",
       "      <td>1</td>\n",
       "    </tr>\n",
       "  </tbody>\n",
       "</table>\n",
       "<p>162 rows × 2 columns</p>\n",
       "</div>"
      ],
      "text/plain": [
       "     YEAR  MONTH\n",
       "0    2013      6\n",
       "1    2013      6\n",
       "2    2013      6\n",
       "3    2013      6\n",
       "4    2013      6\n",
       "..    ...    ...\n",
       "157  2012      1\n",
       "158  2012      1\n",
       "159  2012      1\n",
       "160  2012      1\n",
       "161  2012      1\n",
       "\n",
       "[162 rows x 2 columns]"
      ]
     },
     "execution_count": 15,
     "metadata": {},
     "output_type": "execute_result"
    }
   ],
   "source": [
    "df.select_dtypes(\"int\")"
   ]
  },
  {
   "cell_type": "markdown",
   "id": "29d4fd90-1e3e-4b3e-b5a9-a802c203f6d0",
   "metadata": {},
   "source": [
    "# Categorical Data"
   ]
  },
  {
   "cell_type": "code",
   "execution_count": 19,
   "id": "3fe79e94-b276-4987-b1e4-961bae43b895",
   "metadata": {},
   "outputs": [
    {
     "data": {
      "text/html": [
       "<div>\n",
       "<style scoped>\n",
       "    .dataframe tbody tr th:only-of-type {\n",
       "        vertical-align: middle;\n",
       "    }\n",
       "\n",
       "    .dataframe tbody tr th {\n",
       "        vertical-align: top;\n",
       "    }\n",
       "\n",
       "    .dataframe thead th {\n",
       "        text-align: right;\n",
       "    }\n",
       "</style>\n",
       "<table border=\"1\" class=\"dataframe\">\n",
       "  <thead>\n",
       "    <tr style=\"text-align: right;\">\n",
       "      <th></th>\n",
       "      <th>TYPE</th>\n",
       "    </tr>\n",
       "  </thead>\n",
       "  <tbody>\n",
       "    <tr>\n",
       "      <th>0</th>\n",
       "      <td>Vehicle Collision or Pedestrian Struck (with I...</td>\n",
       "    </tr>\n",
       "    <tr>\n",
       "      <th>1</th>\n",
       "      <td>Theft of Vehicle</td>\n",
       "    </tr>\n",
       "    <tr>\n",
       "      <th>2</th>\n",
       "      <td>Theft of Bicycle</td>\n",
       "    </tr>\n",
       "    <tr>\n",
       "      <th>3</th>\n",
       "      <td>Theft from Vehicle</td>\n",
       "    </tr>\n",
       "    <tr>\n",
       "      <th>4</th>\n",
       "      <td>Other Theft</td>\n",
       "    </tr>\n",
       "    <tr>\n",
       "      <th>...</th>\n",
       "      <td>...</td>\n",
       "    </tr>\n",
       "    <tr>\n",
       "      <th>157</th>\n",
       "      <td>Other Theft</td>\n",
       "    </tr>\n",
       "    <tr>\n",
       "      <th>158</th>\n",
       "      <td>Offence Against a Person</td>\n",
       "    </tr>\n",
       "    <tr>\n",
       "      <th>159</th>\n",
       "      <td>Mischief</td>\n",
       "    </tr>\n",
       "    <tr>\n",
       "      <th>160</th>\n",
       "      <td>Break and Enter Residential/Other</td>\n",
       "    </tr>\n",
       "    <tr>\n",
       "      <th>161</th>\n",
       "      <td>Break and Enter Commercial</td>\n",
       "    </tr>\n",
       "  </tbody>\n",
       "</table>\n",
       "<p>162 rows × 1 columns</p>\n",
       "</div>"
      ],
      "text/plain": [
       "                                                  TYPE\n",
       "0    Vehicle Collision or Pedestrian Struck (with I...\n",
       "1                                     Theft of Vehicle\n",
       "2                                     Theft of Bicycle\n",
       "3                                   Theft from Vehicle\n",
       "4                                          Other Theft\n",
       "..                                                 ...\n",
       "157                                        Other Theft\n",
       "158                           Offence Against a Person\n",
       "159                                           Mischief\n",
       "160                  Break and Enter Residential/Other\n",
       "161                         Break and Enter Commercial\n",
       "\n",
       "[162 rows x 1 columns]"
      ]
     },
     "execution_count": 19,
     "metadata": {},
     "output_type": "execute_result"
    }
   ],
   "source": [
    "df.select_dtypes(\"object\")"
   ]
  },
  {
   "cell_type": "markdown",
   "id": "cfdb5e05-c02e-433e-805c-4094dd28d4d8",
   "metadata": {},
   "source": [
    "# Measures of Central Tendency"
   ]
  },
  {
   "cell_type": "code",
   "execution_count": 27,
   "id": "c09836cc-94f8-4a08-99ce-e5295aad04bc",
   "metadata": {},
   "outputs": [
    {
     "name": "stdout",
     "output_type": "stream",
     "text": [
      "Vehicle Collision or Pedestrian Struck (with Injury)\n"
     ]
    }
   ],
   "source": [
    "# Find maximum value in column\n",
    "print(df[\"TYPE\"].max())"
   ]
  },
  {
   "cell_type": "code",
   "execution_count": 29,
   "id": "fcba70e0-1e82-48ab-9536-a972ce62e83d",
   "metadata": {},
   "outputs": [
    {
     "name": "stdout",
     "output_type": "stream",
     "text": [
      "12\n"
     ]
    }
   ],
   "source": [
    "# Find maximum value in column\n",
    "print(df[\"MONTH\"].max())"
   ]
  },
  {
   "cell_type": "code",
   "execution_count": 35,
   "id": "6a9c0a7f-430b-4ac8-ba74-eb467358c25c",
   "metadata": {},
   "outputs": [
    {
     "name": "stdout",
     "output_type": "stream",
     "text": [
      "2013\n"
     ]
    }
   ],
   "source": [
    "# Find maximum value in column\n",
    "print(df[\"YEAR\"].max())"
   ]
  },
  {
   "cell_type": "code",
   "execution_count": 25,
   "id": "5dfc0653-6db1-4b1b-a52a-dbc310d0fbc4",
   "metadata": {},
   "outputs": [
    {
     "name": "stdout",
     "output_type": "stream",
     "text": [
      "Break and Enter Commercial\n"
     ]
    }
   ],
   "source": [
    "# Find minimum value in column\n",
    "print(df[\"TYPE\"].min())"
   ]
  },
  {
   "cell_type": "code",
   "execution_count": 31,
   "id": "f6772b1f-a0ef-47d7-9d4c-3fabd8c39e7c",
   "metadata": {},
   "outputs": [
    {
     "name": "stdout",
     "output_type": "stream",
     "text": [
      "1\n"
     ]
    }
   ],
   "source": [
    "# Find minimum value in column\n",
    "print(df[\"MONTH\"].min())"
   ]
  },
  {
   "cell_type": "code",
   "execution_count": 33,
   "id": "56e2c11f-0b3d-4758-bda4-21279bc5ad8c",
   "metadata": {},
   "outputs": [
    {
     "name": "stdout",
     "output_type": "stream",
     "text": [
      "2012\n"
     ]
    }
   ],
   "source": [
    "# Find minimum value in column\n",
    "print(df[\"YEAR\"].min())"
   ]
  },
  {
   "cell_type": "code",
   "execution_count": 39,
   "id": "bf68d419-c514-482c-88f1-173910b510f9",
   "metadata": {},
   "outputs": [
    {
     "name": "stdout",
     "output_type": "stream",
     "text": [
      "Measures of Central Tendency - MONTH\n",
      "Mean MONTH 5.5\n",
      "Median MONTH 5.0\n",
      "Mode MONTH 0    1\n",
      "1    2\n",
      "2    3\n",
      "3    4\n",
      "4    5\n",
      "5    6\n",
      "Name: MONTH, dtype: int64\n"
     ]
    }
   ],
   "source": [
    "# Calculates measures of Central Tendency\n",
    "mean_of_month = df['MONTH'].mean()\n",
    "median_of_month = df['MONTH'].median()\n",
    "mode_of_month = df['MONTH'].mode()\n",
    "\n",
    "print(\"Measures of Central Tendency - MONTH\")\n",
    "print(\"Mean MONTH\", mean_of_month)\n",
    "print(\"Median MONTH\", median_of_month)\n",
    "print(\"Mode MONTH\", mode_of_month)"
   ]
  },
  {
   "cell_type": "markdown",
   "id": "3519db54-a964-4110-9e2a-d0889affd389",
   "metadata": {},
   "source": [
    "# Measures of Spread"
   ]
  },
  {
   "cell_type": "code",
   "execution_count": 42,
   "id": "adcee0d9-65dd-4fcd-b9c2-30c43aa1b107",
   "metadata": {},
   "outputs": [
    {
     "name": "stdout",
     "output_type": "stream",
     "text": [
      "Measures of Spread - MONTH : \n",
      "MONTH Range 11\n",
      "MONTH Variance 10.98447204968944\n",
      "MONTH Standard Deviation 3.314283037051821\n"
     ]
    }
   ],
   "source": [
    "# Calculate measures of spread\n",
    "\n",
    "month_range = df['MONTH'].max() - df['MONTH'].min()\n",
    "month_variance = df['MONTH'].var()\n",
    "month_std_dev = df['MONTH'].std()\n",
    "\n",
    "print(\"Measures of Spread - MONTH : \")\n",
    "print('MONTH Range',month_range)\n",
    "print('MONTH Variance',month_variance)\n",
    "print('MONTH Standard Deviation',month_std_dev)"
   ]
  },
  {
   "cell_type": "markdown",
   "id": "68169957-9e22-4375-8026-e36d483878d2",
   "metadata": {},
   "source": [
    "# Measures of Dependence"
   ]
  },
  {
   "cell_type": "code",
   "execution_count": 48,
   "id": "d1ee51f4-dc0d-4a0a-a412-ebfed7d20606",
   "metadata": {},
   "outputs": [
    {
     "name": "stdout",
     "output_type": "stream",
     "text": [
      "Corelation Coefficient : \n",
      "-0.4280258250038527\n"
     ]
    }
   ],
   "source": [
    "# \n",
    "\n",
    "correlation_coefficient = df['MONTH'].corr(df['YEAR'])\n",
    "\n",
    "print(\"Corelation Coefficient : \")\n",
    "print(correlation_coefficient)"
   ]
  },
  {
   "cell_type": "markdown",
   "id": "d8f6d8a2-543b-4226-b77d-e27269ac67d0",
   "metadata": {},
   "source": [
    "# Measures of Shape & Position"
   ]
  },
  {
   "cell_type": "markdown",
   "id": "89e5f8ef-44d1-401a-afd1-e3b4e8986ebb",
   "metadata": {},
   "source": [
    "# Meaures of Shape"
   ]
  },
  {
   "cell_type": "code",
   "execution_count": 51,
   "id": "ffa5b466-bf34-483e-af61-a670022ffdb7",
   "metadata": {},
   "outputs": [],
   "source": [
    "import scipy.stats as stats"
   ]
  },
  {
   "cell_type": "code",
   "execution_count": 53,
   "id": "9b503c9f-43cb-4db8-a451-d6d90fc702be",
   "metadata": {},
   "outputs": [
    {
     "name": "stdout",
     "output_type": "stream",
     "text": [
      "Skewness of MONTH :  0.44359322877536395\n",
      "Kurtosis of MONTH :  -0.8961016257793832\n"
     ]
    }
   ],
   "source": [
    "month_skewness = stats.skew(df['MONTH'])\n",
    "month_kurtosis = stats.kurtosis(df['MONTH'])\n",
    "\n",
    "print(\"Skewness of MONTH : \", month_skewness)\n",
    "print(\"Kurtosis of MONTH : \", month_kurtosis)"
   ]
  },
  {
   "cell_type": "markdown",
   "id": "df47c3ad-8467-462f-b1ae-8dc3828092f9",
   "metadata": {},
   "source": [
    "# Measures of Position"
   ]
  },
  {
   "cell_type": "code",
   "execution_count": 56,
   "id": "7e21effe-6c31-4bc9-bfcc-f26d1d9262fa",
   "metadata": {},
   "outputs": [],
   "source": [
    "import numpy as np"
   ]
  },
  {
   "cell_type": "code",
   "execution_count": 64,
   "id": "2016af46-b81f-4ae1-b449-85a98d7ffb22",
   "metadata": {},
   "outputs": [
    {
     "name": "stdout",
     "output_type": "stream",
     "text": [
      "Percentiles:\n",
      "15th Percentile: 2.0\n",
      "45th Percentile: 5.0\n",
      "65th Percentile: 6.0\n",
      "\n",
      "Quartiles:\n",
      "25th Percentile: 3.0\n",
      "50th Percentile, median: 5.0\n",
      "75th Percentile: 8.0\n"
     ]
    }
   ],
   "source": [
    "# Calculate Percentiles\n",
    "\n",
    "percentiles = np.percentile(df['MONTH'], [15, 45, 65])\n",
    "\n",
    "# Calculate Quartiles\n",
    "\n",
    "quartiles = np.percentile(df['MONTH'], [25, 50, 75])\n",
    "\n",
    "print(\"Percentiles:\")\n",
    "print(\"15th Percentile:\", percentiles[0])\n",
    "print(\"45th Percentile:\", percentiles[1])\n",
    "print(\"65th Percentile:\", percentiles[2])\n",
    "\n",
    "print(\"\\nQuartiles:\")\n",
    "print(\"25th Percentile:\", quartiles[0])\n",
    "print(\"50th Percentile, median:\", quartiles[1])\n",
    "print(\"75th Percentile:\", quartiles[2])"
   ]
  },
  {
   "cell_type": "markdown",
   "id": "614f46cf-2ce2-4963-beb6-c095eb36b0b1",
   "metadata": {},
   "source": [
    "# Measures of Standard Scores"
   ]
  },
  {
   "cell_type": "code",
   "execution_count": 71,
   "id": "eba76c5e-f79a-4adc-ad53-cdae4ec96979",
   "metadata": {},
   "outputs": [
    {
     "name": "stdout",
     "output_type": "stream",
     "text": [
      "Standard Scores (Z-Scores of Month) : \n",
      "0      0.15133\n",
      "1      0.15133\n",
      "2      0.15133\n",
      "3      0.15133\n",
      "4      0.15133\n",
      "        ...   \n",
      "157   -1.36197\n",
      "158   -1.36197\n",
      "159   -1.36197\n",
      "160   -1.36197\n",
      "161   -1.36197\n",
      "Name: MONTH, Length: 162, dtype: float64\n"
     ]
    }
   ],
   "source": [
    "import scipy.stats as stats\n",
    "\n",
    "month_zscores = stats.zscore(df['MONTH'])\n",
    "print(\"Standard Scores (Z-Scores of Month) : \")\n",
    "print(month_zscores)"
   ]
  },
  {
   "cell_type": "code",
   "execution_count": 85,
   "id": "65ea5def-b41c-458d-b854-5e15a499315d",
   "metadata": {},
   "outputs": [
    {
     "data": {
      "image/png": "[encoded data removed]",
      "text/plain": [
       "<Figure size 640x480 with 1 Axes>"
      ]
     },
     "metadata": {},
     "output_type": "display_data"
    }
   ],
   "source": [
    "import matplotlib.pyplot as plt  # Ensure you import this\n",
    "\n",
    "# Compute z-scores\n",
    "df['month_zscores'] = stats.zscore(df['MONTH'])\n",
    "\n",
    "# Now plot\n",
    "df.plot(kind='line', x='MONTH', y='month_zscores')\n",
    "plt.show()\n"
   ]
  },
  {
   "cell_type": "code",
   "execution_count": null,
   "id": "de9ca84f-f5ce-4718-b141-2896f9109c93",
   "metadata": {},
   "outputs": [],
   "source": []
  }
 ],
 "metadata": {
  "kernelspec": {
   "display_name": "Python 3 (ipykernel)",
   "language": "python",
   "name": "python3"
  },
  "language_info": {
   "codemirror_mode": {
    "name": "ipython",
    "version": 3
   },
   "file_extension": ".py",
   "mimetype": "text/x-python",
   "name": "python",
   "nbconvert_exporter": "python",
   "pygments_lexer": "ipython3",
   "version": "3.12.4"
  }
 },
 "nbformat": 4,
 "nbformat_minor": 5
}
