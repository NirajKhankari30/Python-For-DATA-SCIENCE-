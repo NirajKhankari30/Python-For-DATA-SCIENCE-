{
 "cells": [
  {
   "cell_type": "markdown",
   "id": "56c25da8-14c0-48c1-ae83-13fdefdae4dd",
   "metadata": {},
   "source": [
    "# INTRODUCTION TO FUNCTIONS IN PYTHON "
   ]
  },
  {
   "cell_type": "markdown",
   "id": "910fa830-fa00-4c41-aa1a-c2a3ab49c611",
   "metadata": {},
   "source": [
    "# Parameters & Arguments"
   ]
  },
  {
   "cell_type": "code",
   "execution_count": 4,
   "id": "d3ce5d49-fdba-4df6-a9f3-d30d268e72cc",
   "metadata": {},
   "outputs": [
    {
     "name": "stdout",
     "output_type": "stream",
     "text": [
      "The Sum is: 8\n"
     ]
    }
   ],
   "source": [
    "def add_number(a, b):\n",
    "    sum = a + b\n",
    "    print(\"The Sum is:\", sum)\n",
    "\n",
    "# Calling the add_number function with arguments 5 & 3\n",
    "add_number(5, 3)"
   ]
  },
  {
   "cell_type": "code",
   "execution_count": 6,
   "id": "24a4c6a7-f920-4544-a3f0-cf119e43d4c0",
   "metadata": {},
   "outputs": [
    {
     "data": {
      "text/plain": [
       "20"
      ]
     },
     "execution_count": 6,
     "metadata": {},
     "output_type": "execute_result"
    }
   ],
   "source": [
    "# example of Default Parameters\n",
    "\n",
    "def my_func(a, b=4):\n",
    "    return (a*b)\n",
    "\n",
    "my_func(5)"
   ]
  },
  {
   "cell_type": "code",
   "execution_count": 8,
   "id": "154c798f-2a87-4a80-b670-9054b27cb9ed",
   "metadata": {},
   "outputs": [
    {
     "data": {
      "text/plain": [
       "30"
      ]
     },
     "execution_count": 8,
     "metadata": {},
     "output_type": "execute_result"
    }
   ],
   "source": [
    "# lets try to override the default parameters\n",
    "\n",
    "my_func(5, 6)"
   ]
  },
  {
   "cell_type": "code",
   "execution_count": 10,
   "id": "18fe85aa-863e-4f1c-aabd-b8b1dd736a19",
   "metadata": {},
   "outputs": [
    {
     "data": {
      "text/plain": [
       "10"
      ]
     },
     "execution_count": 10,
     "metadata": {},
     "output_type": "execute_result"
    }
   ],
   "source": [
    "# Positional Arguments Example\n",
    "\n",
    "def func(a,b,c):\n",
    "    return(a*b+c)\n",
    "\n",
    "func(3, 2, 4)"
   ]
  },
  {
   "cell_type": "code",
   "execution_count": 12,
   "id": "58f18b45-608e-463a-a23f-7d9f78cedf79",
   "metadata": {},
   "outputs": [
    {
     "name": "stdout",
     "output_type": "stream",
     "text": [
      "240\n",
      "240\n",
      "240\n"
     ]
    }
   ],
   "source": [
    "# Keyword Arguments Example\n",
    "\n",
    "def marks(math, science, english):\n",
    "    return math + science + english\n",
    "\n",
    "# default way of passing values\n",
    "print(marks(70, 80, 90))\n",
    "\n",
    "# calling with keywords\n",
    "print(marks(math = 70, science = 80, english = 90))\n",
    "\n",
    "# Calling by changing positional argumnets with keywords\n",
    "print(marks(science = 80, math = 70, english = 90))"
   ]
  },
  {
   "cell_type": "code",
   "execution_count": 16,
   "id": "94a8724b-6df4-492d-9219-9b878f6ae354",
   "metadata": {},
   "outputs": [
    {
     "name": "stdout",
     "output_type": "stream",
     "text": [
      "\n",
      "[100, 2, 3, 4]\n"
     ]
    }
   ],
   "source": [
    "# pass by object reference\n",
    "\n",
    "def modify_list(my_list):\n",
    "    my_list.append(4)\n",
    "    my_list[0] = 100\n",
    "\n",
    "numbers = [1, 2, 3]\n",
    "modify_list(numbers)\n",
    "\n",
    "print()\n",
    "\n",
    "# print modified list\n",
    "print(numbers)"
   ]
  },
  {
   "cell_type": "markdown",
   "id": "27db48b7-389a-49d9-a6b7-b5c794502bcc",
   "metadata": {},
   "source": [
    "# Python Modules"
   ]
  },
  {
   "cell_type": "markdown",
   "id": "593b8b80-2c84-4af5-a975-c38c5b7b515c",
   "metadata": {},
   "source": [
    "### Importing an entire module"
   ]
  },
  {
   "cell_type": "code",
   "execution_count": 20,
   "id": "d6fc5687-e9a3-4f9a-a158-978a376d2a34",
   "metadata": {},
   "outputs": [
    {
     "name": "stdout",
     "output_type": "stream",
     "text": [
      "3.141592653589793\n",
      "5.0\n"
     ]
    }
   ],
   "source": [
    "# Importing Math Module\n",
    "\n",
    "import math\n",
    "\n",
    "# Accessing variable from math module\n",
    "print(math.pi)\n",
    "\n",
    "# Calling a function from the math module\n",
    "print(math.sqrt(25))"
   ]
  },
  {
   "cell_type": "code",
   "execution_count": 33,
   "id": "fab1d579-40bc-4738-89cb-af60aa3a8410",
   "metadata": {},
   "outputs": [
    {
     "name": "stdout",
     "output_type": "stream",
     "text": [
      "4\n",
      "kiwi\n"
     ]
    }
   ],
   "source": [
    "# Importing the randint and choice functions\n",
    "\n",
    "from random import randint, choice\n",
    "\n",
    "# Calling the randint() function directly\n",
    "print(randint(1, 10))\n",
    "\n",
    "# Calling the choice() function directly\n",
    "print(choice([\"apple\", \"banana\", \"kiwi\"]))"
   ]
  },
  {
   "cell_type": "markdown",
   "id": "4f5b4657-b60f-4104-b3dd-0405beadd33e",
   "metadata": {},
   "source": [
    "### Creating a module"
   ]
  },
  {
   "cell_type": "code",
   "execution_count": null,
   "id": "8a02d737-6587-4650-9039-78e76ad21d75",
   "metadata": {},
   "outputs": [],
   "source": [
    "# create module.py \n",
    "# Note : make file calculation.py with python code for functions mathematical operations \n",
    "\n",
    "\n",
    "def addition(a, b):\n",
    "    return a + b\n",
    "\n",
    "def subtraction(a, b):\n",
    "    return a - b\n",
    "\n",
    "def multiplication(a, b):\n",
    "    return a * b\n",
    "\n",
    "def division(a, b):\n",
    "    return a / b\n",
    "\n",
    "def modulus(a, b):\n",
    "    return a % b\n",
    "\n",
    "def floor-division(a, b):\n",
    "    return a // b"
   ]
  },
  {
   "cell_type": "code",
   "execution_count": 45,
   "id": "54bae23d-aa40-4937-b950-0e717af1c77b",
   "metadata": {},
   "outputs": [
    {
     "name": "stdout",
     "output_type": "stream",
     "text": [
      "18\n",
      "-2\n",
      "2.0\n"
     ]
    }
   ],
   "source": [
    "# Import the made file\n",
    "\n",
    "import calculation\n",
    "\n",
    "addition = calculation.addition(8, 10)\n",
    "\n",
    "subtraction = calculation.subtraction(8, 10)\n",
    "\n",
    "division = calculation.division(6, 3)\n",
    "\n",
    "print(addition)\n",
    "print(subtraction)\n",
    "print(division)"
   ]
  },
  {
   "cell_type": "markdown",
   "id": "79681198-24df-44c8-9c1f-67f9e24ae5da",
   "metadata": {},
   "source": [
    "# Filter, Map & Zip Functions"
   ]
  },
  {
   "cell_type": "markdown",
   "id": "c7628168-f015-4ca8-a421-7e9d02793e43",
   "metadata": {},
   "source": [
    "# Filter"
   ]
  },
  {
   "cell_type": "code",
   "execution_count": 59,
   "id": "e9a93aad-48f9-4d8a-a43d-f705f1cdd104",
   "metadata": {},
   "outputs": [
    {
     "name": "stdout",
     "output_type": "stream",
     "text": [
      "[2, 4, 6, 8, 10]\n"
     ]
    }
   ],
   "source": [
    "# Define a function to filter even numbers\n",
    "def is_even(num):\n",
    "    return num%2 == 0\n",
    "\n",
    "# Create a list of numbers\n",
    "numbers = [1, 2, 3, 4, 5, 6, 7, 8, 9, 10]\n",
    "\n",
    "# Use Filter() to filter even numbers from the list\n",
    "filtered_numbers = filter(is_even, numbers)\n",
    "\n",
    "# Convert the filtered result into a list\n",
    "even_numbers = list(filtered_numbers)\n",
    "\n",
    "# Print the output\n",
    "print(even_numbers)\n",
    "\n",
    "\n"
   ]
  },
  {
   "cell_type": "code",
   "execution_count": 61,
   "id": "53c91c5c-8763-4ee8-8d9d-e32dded33539",
   "metadata": {},
   "outputs": [
    {
     "name": "stdout",
     "output_type": "stream",
     "text": [
      "[1, 3, 5, 7, 9]\n"
     ]
    }
   ],
   "source": [
    "def is_odd(num):\n",
    "    return num%2 != 0\n",
    "\n",
    "# Use Filter() to filter odd numbers from the list\n",
    "filtered_numbers = filter(is_odd, numbers)\n",
    "\n",
    "# Convert the filtered result into a list\n",
    "odd_numbers = list(filtered_numbers)\n",
    "\n",
    "print(odd_numbers)"
   ]
  },
  {
   "cell_type": "code",
   "execution_count": 63,
   "id": "618b2c96-027a-46fc-a43c-1c83bb77a77d",
   "metadata": {},
   "outputs": [
    {
     "name": "stdout",
     "output_type": "stream",
     "text": [
      "78\n",
      "69\n",
      "87\n",
      "99\n"
     ]
    }
   ],
   "source": [
    "# Filter Function example\n",
    "\n",
    "# creating list name 'score'\n",
    "score = [78, 49, 69, 87, 99]\n",
    "\n",
    "# defining a function to check if the score is greater than 50.\n",
    "\n",
    "def score_check(score):\n",
    "    if score > 50:\n",
    "        return True\n",
    "\n",
    "    else:\n",
    "        return False\n",
    "\n",
    "# Lets apply filter to the list\n",
    "students_passed = filter(score_check, score)\n",
    "\n",
    "# print the output\n",
    "for i in students_passed:\n",
    "    print(i)"
   ]
  },
  {
   "cell_type": "markdown",
   "id": "72465b52-755b-456e-a862-ba36349b376b",
   "metadata": {},
   "source": [
    "# Map"
   ]
  },
  {
   "cell_type": "code",
   "execution_count": null,
   "id": "04dff70d-37ec-4d33-a9ca-21174df64c41",
   "metadata": {},
   "outputs": [],
   "source": []
  },
  {
   "cell_type": "code",
   "execution_count": 67,
   "id": "ddaaf4dc-bea7-490c-9693-82910c2cca54",
   "metadata": {},
   "outputs": [
    {
     "name": "stdout",
     "output_type": "stream",
     "text": [
      "[77.0, 109.4, 59.0, 50.0]\n"
     ]
    }
   ],
   "source": [
    "# Convert a list of temperature from celsius to fahrenheit\n",
    "\n",
    "celsius_temp = [25, 43, 15, 10]\n",
    "\n",
    "def converter(temp):\n",
    "    temp = (temp*9/5) + 32\n",
    "    return temp\n",
    "\n",
    "fahrenheit_temp = list(map(converter, celsius_temp))\n",
    "\n",
    "print(fahrenheit_temp)"
   ]
  },
  {
   "cell_type": "markdown",
   "id": "167c6c08-b959-4f10-a2bd-7d1824455054",
   "metadata": {},
   "source": [
    "# Zip "
   ]
  },
  {
   "cell_type": "markdown",
   "id": "0cf0c148-c690-47b2-a453-cd41f75e1a8e",
   "metadata": {},
   "source": [
    "# Ex. 1 - Combining Lists"
   ]
  },
  {
   "cell_type": "code",
   "execution_count": 70,
   "id": "5c6e31ff-b12f-4739-a5fe-9e84e0358d63",
   "metadata": {},
   "outputs": [
    {
     "name": "stdout",
     "output_type": "stream",
     "text": [
      "Ash 3\n",
      "Smash 5\n",
      "Bash 4\n"
     ]
    }
   ],
   "source": [
    "# Two Lists\n",
    "names = ['Ash', 'Smash', 'Bash']\n",
    "ages = [3, 5, 4]\n",
    "\n",
    "# Zip lists together\n",
    "combined = zip(names, ages)\n",
    "\n",
    "# iterate over the combined iterator\n",
    "for name, age in combined:\n",
    "    print(name, age)"
   ]
  },
  {
   "cell_type": "markdown",
   "id": "84f02b2d-1ad9-4a84-985b-3f50a6c43d17",
   "metadata": {},
   "source": [
    "# Ex. 2 - Unzipping Tuples"
   ]
  },
  {
   "cell_type": "code",
   "execution_count": 77,
   "id": "bcdb0c76-f240-4ade-a029-1fed5b1c1336",
   "metadata": {},
   "outputs": [
    {
     "name": "stdout",
     "output_type": "stream",
     "text": [
      "('Ajit', 'Manjit', 'Winjit')\n",
      "(35, 30, 56)\n"
     ]
    }
   ],
   "source": [
    "# Take list of student haveing name & age\n",
    "\n",
    "students = [('Ajit',35), ('Manjit',30), ('Winjit',56)]\n",
    "\n",
    "#Unzip the tuples\n",
    "names, ages = zip(*students)\n",
    "\n",
    "# print output\n",
    "print(names)\n",
    "print(ages)"
   ]
  },
  {
   "cell_type": "markdown",
   "id": "2886c6a8-f14f-4aff-a1b8-9ee4c0ba5923",
   "metadata": {},
   "source": [
    "# INTRODUCTION TO LIST, SET, & DICTIONARY COMPREHENSIONS"
   ]
  },
  {
   "cell_type": "markdown",
   "id": "3a56078f-88c0-4f7d-b9e9-53ffe74bedba",
   "metadata": {},
   "source": [
    "# List Comprehension"
   ]
  },
  {
   "cell_type": "code",
   "execution_count": 81,
   "id": "0e478ae3-be63-4857-ad3e-ab88e0ea533f",
   "metadata": {},
   "outputs": [
    {
     "name": "stdout",
     "output_type": "stream",
     "text": [
      "[4, 9, 16, 25, 36, 6084, 81]\n"
     ]
    }
   ],
   "source": [
    "my_list = [2,3,4,5,6,78,9]\n",
    "squared_list = [val**2 for val in my_list]\n",
    "\n",
    "print(squared_list)"
   ]
  },
  {
   "cell_type": "code",
   "execution_count": 83,
   "id": "90df1e0d-cc07-4303-9226-2075b6a16578",
   "metadata": {},
   "outputs": [
    {
     "name": "stdout",
     "output_type": "stream",
     "text": [
      "[2, 4, 6, 78]\n"
     ]
    }
   ],
   "source": [
    "even_list = [var for var in my_list if var%2 == 0]\n",
    "\n",
    "print(even_list)"
   ]
  },
  {
   "cell_type": "markdown",
   "id": "b8a07d66-c54b-4657-9b6a-9f4bf36dd090",
   "metadata": {},
   "source": [
    "# Set Comprehension"
   ]
  },
  {
   "cell_type": "code",
   "execution_count": 88,
   "id": "b16666b1-4680-4674-89cb-75d22a9213ec",
   "metadata": {},
   "outputs": [
    {
     "name": "stdout",
     "output_type": "stream",
     "text": [
      "{1, 2, 3, 4, 5, 6, 7, 8, 9}\n"
     ]
    }
   ],
   "source": [
    "numbers = {x for x in range(1, 10)}\n",
    "\n",
    "print(numbers)"
   ]
  },
  {
   "cell_type": "code",
   "execution_count": 90,
   "id": "ac8b0527-857e-4c34-9063-937d43549845",
   "metadata": {},
   "outputs": [
    {
     "name": "stdout",
     "output_type": "stream",
     "text": [
      "{2, 4, 6, 8, 10}\n"
     ]
    }
   ],
   "source": [
    "even_numbers = {x for x in range(1, 11) if x % 2 == 0}\n",
    "print(even_numbers)"
   ]
  },
  {
   "cell_type": "markdown",
   "id": "1f5c8e70-1ef4-4dbd-bf3c-55a713454cf4",
   "metadata": {},
   "source": [
    "# Dictionary Comprehension"
   ]
  },
  {
   "cell_type": "code",
   "execution_count": 97,
   "id": "ca416650-3fc3-4f01-9396-cbdbba5a3fa8",
   "metadata": {},
   "outputs": [
    {
     "name": "stdout",
     "output_type": "stream",
     "text": [
      "{1: 1, 2: 4, 3: 9, 4: 16, 5: 25, 6: 36, 7: 49, 8: 64, 9: 81, 10: 100, 11: 121, 12: 144, 13: 169, 14: 196, 15: 225, 16: 256, 17: 289, 18: 324, 19: 361, 20: 400, 21: 441, 22: 484, 23: 529, 24: 576, 25: 625, 26: 676, 27: 729, 28: 784, 29: 841, 30: 900, 31: 961, 32: 1024, 33: 1089, 34: 1156, 35: 1225, 36: 1296, 37: 1369, 38: 1444, 39: 1521, 40: 1600, 41: 1681, 42: 1764, 43: 1849, 44: 1936, 45: 2025, 46: 2116, 47: 2209, 48: 2304, 49: 2401, 50: 2500, 51: 2601, 52: 2704, 53: 2809, 54: 2916, 55: 3025, 56: 3136, 57: 3249, 58: 3364, 59: 3481, 60: 3600, 61: 3721, 62: 3844, 63: 3969, 64: 4096, 65: 4225, 66: 4356, 67: 4489, 68: 4624, 69: 4761, 70: 4900, 71: 5041, 72: 5184, 73: 5329, 74: 5476, 75: 5625, 76: 5776, 77: 5929, 78: 6084, 79: 6241, 80: 6400, 81: 6561, 82: 6724, 83: 6889, 84: 7056, 85: 7225, 86: 7396, 87: 7569, 88: 7744, 89: 7921, 90: 8100, 91: 8281, 92: 8464, 93: 8649, 94: 8836, 95: 9025, 96: 9216, 97: 9409, 98: 9604, 99: 9801}\n"
     ]
    }
   ],
   "source": [
    "d = {num:num*num for num in range(1,100)}\n",
    "\n",
    "print(d)"
   ]
  },
  {
   "cell_type": "code",
   "execution_count": 103,
   "id": "10536283-bdd1-486b-a58c-936803f2c111",
   "metadata": {},
   "outputs": [
    {
     "name": "stdout",
     "output_type": "stream",
     "text": [
      "{1: 1, 2: 4, 3: 9, 4: 16, 5: 25, 6: 36, 7: 49, 8: 64, 9: 81, 10: 100, 11: 121, 12: 144, 13: 169, 14: 196, 15: 225, 16: 256, 17: 289, 18: 324, 19: 361, 20: 400, 21: 441, 22: 484, 23: 529, 24: 576, 25: 625, 26: 676, 27: 729, 28: 784, 29: 841, 30: 900, 31: 961, 32: 1024, 33: 1089, 34: 1156, 35: 1225, 36: 1296, 37: 1369, 38: 1444, 39: 1521, 40: 1600, 41: 1681, 42: 1764, 43: 1849, 44: 1936, 45: 2025, 46: 2116, 47: 2209, 48: 2304, 49: 2401, 50: 2500, 51: 2601, 52: 2704, 53: 2809, 54: 2916, 55: 3025, 56: 3136, 57: 3249, 58: 3364, 59: 3481}\n"
     ]
    }
   ],
   "source": [
    "squares_dict = {x:x**2 for x in range(1,60)}\n",
    "\n",
    "print(squares_dict)"
   ]
  },
  {
   "cell_type": "markdown",
   "id": "31fed0aa-c231-4c64-b1cb-dd69317c6875",
   "metadata": {},
   "source": [
    "# INTRODUCTION TO LAMBDA FUNCTIONS (ANONYMOUS FUNCTIONS)"
   ]
  },
  {
   "cell_type": "code",
   "execution_count": 116,
   "id": "0e9e1ef4-15a4-4878-976f-ecc8a88a0ed9",
   "metadata": {},
   "outputs": [
    {
     "name": "stdout",
     "output_type": "stream",
     "text": [
      "3500\n"
     ]
    }
   ],
   "source": [
    "# Eg.1 : Add Two Numbers\n",
    "\n",
    "add = lambda x, y : x + y\n",
    "result = add(3000,500)\n",
    "\n",
    "print(result)"
   ]
  },
  {
   "cell_type": "code",
   "execution_count": 112,
   "id": "aabdeda2-8917-430c-9025-334efb43f2b7",
   "metadata": {},
   "outputs": [
    {
     "name": "stdout",
     "output_type": "stream",
     "text": [
      "400\n"
     ]
    }
   ],
   "source": [
    "# Eg.2 : Square a number\n",
    "\n",
    "square = lambda x: x**2\n",
    "result = square(20)\n",
    "\n",
    "print(result)"
   ]
  },
  {
   "cell_type": "markdown",
   "id": "21babd9d-a3c6-4929-a48d-a331939d701e",
   "metadata": {},
   "source": [
    "# Analytical Functions"
   ]
  },
  {
   "cell_type": "markdown",
   "id": "b400e942-7560-45f6-918a-3a8f7aa9afc5",
   "metadata": {},
   "source": [
    "# Eval Functions - eval() function"
   ]
  },
  {
   "cell_type": "code",
   "execution_count": 122,
   "id": "95658bfe-b7fb-45a8-bd6f-37de6f7c8da5",
   "metadata": {},
   "outputs": [
    {
     "data": {
      "text/plain": [
       "13"
      ]
     },
     "execution_count": 122,
     "metadata": {},
     "output_type": "execute_result"
    }
   ],
   "source": [
    "# eval() function\n",
    "\n",
    "x = 3\n",
    "\n",
    "eval('x**2 + 2*x - 2')"
   ]
  },
  {
   "cell_type": "code",
   "execution_count": 124,
   "id": "a2838d82-3ad0-42cd-a631-55b4d50c7068",
   "metadata": {},
   "outputs": [
    {
     "data": {
      "text/plain": [
       "5"
      ]
     },
     "execution_count": 124,
     "metadata": {},
     "output_type": "execute_result"
    }
   ],
   "source": [
    "# len() function\n",
    "\n",
    "numbers = [2, 45, 76, 89, 90]\n",
    "\n",
    "len(numbers)"
   ]
  },
  {
   "cell_type": "code",
   "execution_count": 135,
   "id": "48b44996-ab99-4e9b-826f-e999e8347cd5",
   "metadata": {},
   "outputs": [
    {
     "data": {
      "text/plain": [
       "120"
      ]
     },
     "execution_count": 135,
     "metadata": {},
     "output_type": "execute_result"
    }
   ],
   "source": [
    "# factorial() function\n",
    "\n",
    "import math\n",
    "\n",
    "math.factorial(5)"
   ]
  },
  {
   "cell_type": "code",
   "execution_count": 137,
   "id": "3d9b931e-af64-4cd4-9f4b-0550527e384d",
   "metadata": {},
   "outputs": [
    {
     "name": "stdout",
     "output_type": "stream",
     "text": [
      "[95, 85, 75, 65, 55, 45]\n"
     ]
    }
   ],
   "source": [
    "# sort() function\n",
    "runs = [45, 55, 65, 75, 85, 95]\n",
    "\n",
    "runs.sort(reverse=True)\n",
    "\n",
    "print(runs)"
   ]
  },
  {
   "cell_type": "markdown",
   "id": "98267b9e-81d0-4c05-8059-5daf859814c1",
   "metadata": {},
   "source": [
    "# Aggregate Functions"
   ]
  },
  {
   "cell_type": "code",
   "execution_count": 140,
   "id": "2fb5a86b-75c0-40f3-81a3-49861074e3db",
   "metadata": {},
   "outputs": [
    {
     "name": "stdout",
     "output_type": "stream",
     "text": [
      "9\n"
     ]
    }
   ],
   "source": [
    "list1 = [3, 4, 5, 6, 7, 1, 1, 4, 7 , 9]\n",
    "\n",
    "print(max(list1))"
   ]
  },
  {
   "cell_type": "code",
   "execution_count": 142,
   "id": "a13341a8-b5ac-4bf8-ac09-6337c5f06fad",
   "metadata": {},
   "outputs": [
    {
     "name": "stdout",
     "output_type": "stream",
     "text": [
      "1\n"
     ]
    }
   ],
   "source": [
    "print(min(list1))"
   ]
  },
  {
   "cell_type": "code",
   "execution_count": 144,
   "id": "e675c48e-0540-48d5-9b7b-dfb89934d95b",
   "metadata": {},
   "outputs": [
    {
     "name": "stdout",
     "output_type": "stream",
     "text": [
      "47\n"
     ]
    }
   ],
   "source": [
    "print(sum(list1))"
   ]
  },
  {
   "cell_type": "code",
   "execution_count": 146,
   "id": "7003b99b-b02f-4168-99dc-99f0244c53f6",
   "metadata": {},
   "outputs": [
    {
     "name": "stdout",
     "output_type": "stream",
     "text": [
      "4.7\n"
     ]
    }
   ],
   "source": [
    "# import statistics module\n",
    "\n",
    "import statistics as stat\n",
    "\n",
    "print(stat.mean(list1))"
   ]
  },
  {
   "cell_type": "code",
   "execution_count": 148,
   "id": "88c8934e-99e1-4d52-97c9-022be04a4eb4",
   "metadata": {},
   "outputs": [
    {
     "name": "stdout",
     "output_type": "stream",
     "text": [
      "4.5\n"
     ]
    }
   ],
   "source": [
    "print(stat.median(list1))"
   ]
  },
  {
   "cell_type": "code",
   "execution_count": 150,
   "id": "f2b93f3a-6626-4f35-975e-0d0cbd89b48e",
   "metadata": {},
   "outputs": [
    {
     "name": "stdout",
     "output_type": "stream",
     "text": [
      "4\n"
     ]
    }
   ],
   "source": [
    "print(stat.mode(list1))"
   ]
  },
  {
   "cell_type": "code",
   "execution_count": null,
   "id": "5202ff8d-cf50-45b9-9309-e4d04f720624",
   "metadata": {},
   "outputs": [],
   "source": []
  }
 ],
 "metadata": {
  "kernelspec": {
   "display_name": "Python 3 (ipykernel)",
   "language": "python",
   "name": "python3"
  },
  "language_info": {
   "codemirror_mode": {
    "name": "ipython",
    "version": 3
   },
   "file_extension": ".py",
   "mimetype": "text/x-python",
   "name": "python",
   "nbconvert_exporter": "python",
   "pygments_lexer": "ipython3",
   "version": "3.12.4"
  }
 },
 "nbformat": 4,
 "nbformat_minor": 5
}
