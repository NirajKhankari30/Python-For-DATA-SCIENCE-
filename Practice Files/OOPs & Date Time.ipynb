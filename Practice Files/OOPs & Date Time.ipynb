{
 "cells": [
  {
   "cell_type": "markdown",
   "id": "0e32afdc-4295-43ac-8939-a8015d98fd9e",
   "metadata": {},
   "source": [
    "# OOPs & Date Time"
   ]
  },
  {
   "cell_type": "markdown",
   "id": "d3ba121b-e78f-4de3-a5d2-971d4b705e29",
   "metadata": {},
   "source": [
    "# Introduction to OOPs"
   ]
  },
  {
   "cell_type": "code",
   "execution_count": 3,
   "id": "80a4014e-cca4-4125-83d9-56c08f06e77d",
   "metadata": {},
   "outputs": [
    {
     "name": "stdout",
     "output_type": "stream",
     "text": [
      "Nikki\n",
      "36\n"
     ]
    }
   ],
   "source": [
    "# create class\n",
    "\n",
    "class Person:\n",
    "    def __init__(self, name, age):\n",
    "        self.name = name # initialize the name attribute of the person\n",
    "        self.age = age # initialize the age attribute of the person\n",
    "\n",
    "p1 = Person(\"Nikki\", 36)\n",
    "\n",
    "print(p1.name)\n",
    "print(p1.age)"
   ]
  },
  {
   "cell_type": "code",
   "execution_count": 5,
   "id": "65b86e27-7a22-4cb1-bd94-3accfc1091f2",
   "metadata": {},
   "outputs": [],
   "source": [
    "# Update age\n",
    "p1.age = 26"
   ]
  },
  {
   "cell_type": "code",
   "execution_count": 7,
   "id": "ccfb6d19-a522-4612-b400-371a8621e089",
   "metadata": {},
   "outputs": [
    {
     "data": {
      "text/plain": [
       "26"
      ]
     },
     "execution_count": 7,
     "metadata": {},
     "output_type": "execute_result"
    }
   ],
   "source": [
    "p1.age"
   ]
  },
  {
   "cell_type": "code",
   "execution_count": 9,
   "id": "3f8bcbd5-8359-4396-8ea4-49ecc399fc1e",
   "metadata": {},
   "outputs": [],
   "source": [
    "del p1.age"
   ]
  },
  {
   "cell_type": "code",
   "execution_count": 11,
   "id": "f023432c-9817-4551-8eb7-fd52803708ea",
   "metadata": {},
   "outputs": [
    {
     "ename": "AttributeError",
     "evalue": "'Person' object has no attribute 'age'",
     "output_type": "error",
     "traceback": [
      "\u001b[1;31m---------------------------------------------------------------------------\u001b[0m",
      "\u001b[1;31mAttributeError\u001b[0m                            Traceback (most recent call last)",
      "Cell \u001b[1;32mIn[11], line 1\u001b[0m\n\u001b[1;32m----> 1\u001b[0m p1\u001b[38;5;241m.\u001b[39mage\n",
      "\u001b[1;31mAttributeError\u001b[0m: 'Person' object has no attribute 'age'"
     ]
    }
   ],
   "source": [
    "p1.age"
   ]
  },
  {
   "cell_type": "markdown",
   "id": "c1bd7718-93e7-4516-8589-f16bf039d2f5",
   "metadata": {},
   "source": [
    "# Introduction to Inheritance"
   ]
  },
  {
   "cell_type": "code",
   "execution_count": 22,
   "id": "2a5c8ec1-267d-4989-a388-b13e766cea3a",
   "metadata": {},
   "outputs": [
    {
     "name": "stdout",
     "output_type": "stream",
     "text": [
      "Hiten 37\n"
     ]
    }
   ],
   "source": [
    "class Person:\n",
    "    def __init__(self, name, age):\n",
    "        self.name = name\n",
    "        self.age = age\n",
    "\n",
    "    def display(self):\n",
    "        print(self.name , self.age)\n",
    "\n",
    "p1 = Person(\"Hiten\", 37)\n",
    "\n",
    "p1.display()\n"
   ]
  },
  {
   "cell_type": "code",
   "execution_count": 18,
   "id": "78bd87d9-9764-4db1-b13d-8868b5a7f70b",
   "metadata": {},
   "outputs": [
    {
     "name": "stdout",
     "output_type": "stream",
     "text": [
      "Kiran 17\n"
     ]
    }
   ],
   "source": [
    "class student(Person):\n",
    "    def __init__(self, name, age):\n",
    "        super().__init__(name, age)\n",
    "\n",
    "s1 = student(\"Kiran\", 17)\n",
    "\n",
    "s1.display()"
   ]
  },
  {
   "cell_type": "code",
   "execution_count": 20,
   "id": "1904241e-5420-4df0-80b3-98b4765862ca",
   "metadata": {},
   "outputs": [
    {
     "name": "stdout",
     "output_type": "stream",
     "text": [
      "Kiran 17\n"
     ]
    }
   ],
   "source": [
    "class Person:\n",
    "    def __init__(self, name, age):\n",
    "        self.name = name\n",
    "        self.age = age\n",
    "\n",
    "    def display(self):\n",
    "        print(self.name , self.age)\n",
    "\n",
    "p1 = Person(\"Hiten\", 37)\n",
    "\n",
    "p1.display\n",
    "\n",
    "class student(Person):\n",
    "    def __init__(self, name, age):\n",
    "        super().__init__(name, age)\n",
    "\n",
    "s1 = student(\"Kiran\", 17)\n",
    "\n",
    "s1.display()"
   ]
  },
  {
   "cell_type": "markdown",
   "id": "1ecf4b90-1b96-404d-a633-a6c58a925a9e",
   "metadata": {},
   "source": [
    "# Encapsulation"
   ]
  },
  {
   "cell_type": "code",
   "execution_count": 27,
   "id": "be914616-b2ef-4781-a14f-e072f1f8b6ba",
   "metadata": {},
   "outputs": [
    {
     "name": "stdout",
     "output_type": "stream",
     "text": [
      "Hitesh 37\n"
     ]
    }
   ],
   "source": [
    "class Person:\n",
    "    def __init__(self, name, age):\n",
    "        self.name = name\n",
    "        self.age = age\n",
    "\n",
    "    def display(self):\n",
    "        print(self.name , self.age)\n",
    "\n",
    "p1 = Person(\"Hitesh\", 37)\n",
    "\n",
    "p1.display()\n"
   ]
  },
  {
   "cell_type": "code",
   "execution_count": 31,
   "id": "030a87b9-e40f-48ca-b6f3-880a6460b5b9",
   "metadata": {},
   "outputs": [
    {
     "name": "stdout",
     "output_type": "stream",
     "text": [
      "Hitesh 26\n"
     ]
    }
   ],
   "source": [
    "# update age\n",
    "p1.age = 26\n",
    "p1.display()"
   ]
  },
  {
   "cell_type": "markdown",
   "id": "1f908740-a61a-4af4-8ecb-54a72038d738",
   "metadata": {},
   "source": [
    "# Polymorphism\n"
   ]
  },
  {
   "cell_type": "code",
   "execution_count": 34,
   "id": "92eb92a3-1f91-487f-ae45-bf12aab75a7c",
   "metadata": {},
   "outputs": [],
   "source": [
    "class SBI:\n",
    "    def rate_of_interest(self):\n",
    "        return 8\n",
    "\n",
    "class ICICI:\n",
    "    def rate_of_interest(self):\n",
    "        return 4\n",
    "        \n",
    "class HDFC:\n",
    "    def rate_of_interest(self):\n",
    "        return 7"
   ]
  },
  {
   "cell_type": "code",
   "execution_count": 36,
   "id": "c07264bc-3c91-4c59-8fc1-0fd017529901",
   "metadata": {},
   "outputs": [],
   "source": [
    "def common_interest(bank):\n",
    "    return bank.rate_of_interest()"
   ]
  },
  {
   "cell_type": "code",
   "execution_count": 38,
   "id": "443d741e-6088-42cc-86ee-cd238b111a26",
   "metadata": {},
   "outputs": [],
   "source": [
    "# Creating Objects\n",
    "\n",
    "s = SBI()\n",
    "ic = ICICI()\n",
    "h = HDFC()"
   ]
  },
  {
   "cell_type": "code",
   "execution_count": 40,
   "id": "bb19d152-0ac0-4f19-88cb-5513c92a41ac",
   "metadata": {},
   "outputs": [
    {
     "data": {
      "text/plain": [
       "8"
      ]
     },
     "execution_count": 40,
     "metadata": {},
     "output_type": "execute_result"
    }
   ],
   "source": [
    "common_interest(s)"
   ]
  },
  {
   "cell_type": "code",
   "execution_count": 42,
   "id": "6b783052-0071-4589-8f03-6b9aa3f7ffa1",
   "metadata": {},
   "outputs": [
    {
     "data": {
      "text/plain": [
       "4"
      ]
     },
     "execution_count": 42,
     "metadata": {},
     "output_type": "execute_result"
    }
   ],
   "source": [
    "common_interest(ic)"
   ]
  },
  {
   "cell_type": "code",
   "execution_count": 44,
   "id": "ca5fb6ae-6335-438d-a166-133d84d45e18",
   "metadata": {},
   "outputs": [
    {
     "data": {
      "text/plain": [
       "7"
      ]
     },
     "execution_count": 44,
     "metadata": {},
     "output_type": "execute_result"
    }
   ],
   "source": [
    "common_interest(h)"
   ]
  },
  {
   "cell_type": "markdown",
   "id": "01bf9596-5ee0-4d91-89a1-f3cc21272a7b",
   "metadata": {},
   "source": [
    "# Date Class"
   ]
  },
  {
   "cell_type": "code",
   "execution_count": 47,
   "id": "786c7407-6f3e-41b2-a2fc-f8e3617bc68e",
   "metadata": {},
   "outputs": [
    {
     "name": "stdout",
     "output_type": "stream",
     "text": [
      "Date is: 1998-07-20\n"
     ]
    }
   ],
   "source": [
    "from datetime import date\n",
    "\n",
    "mydate = date(year=1998, month=7, day=20)\n",
    "\n",
    "print(\"Date is:\", mydate)"
   ]
  },
  {
   "cell_type": "code",
   "execution_count": 49,
   "id": "fd502897-d58c-4cd6-b154-a7eafb870dee",
   "metadata": {},
   "outputs": [
    {
     "name": "stdout",
     "output_type": "stream",
     "text": [
      "Current Date:  2025-10-03\n"
     ]
    }
   ],
   "source": [
    "print(\"Current Date: \", date.today())"
   ]
  },
  {
   "cell_type": "code",
   "execution_count": 51,
   "id": "ee719954-b47b-4e80-aa66-9565d6161d99",
   "metadata": {},
   "outputs": [
    {
     "name": "stdout",
     "output_type": "stream",
     "text": [
      "10\n"
     ]
    }
   ],
   "source": [
    "print(date.today().month)"
   ]
  },
  {
   "cell_type": "code",
   "execution_count": 53,
   "id": "1df7c269-ea7f-4302-9fd4-3637a0ce89de",
   "metadata": {},
   "outputs": [
    {
     "name": "stdout",
     "output_type": "stream",
     "text": [
      "2025\n"
     ]
    }
   ],
   "source": [
    "print(date.today().year)"
   ]
  },
  {
   "cell_type": "code",
   "execution_count": 55,
   "id": "08122e34-c47b-4706-93c7-98b8815adbdb",
   "metadata": {},
   "outputs": [
    {
     "name": "stdout",
     "output_type": "stream",
     "text": [
      "3\n"
     ]
    }
   ],
   "source": [
    "print(date.today().day)"
   ]
  },
  {
   "cell_type": "markdown",
   "id": "39ce4b5d-9464-4124-92b4-d02564d70716",
   "metadata": {},
   "source": [
    "# Time Class"
   ]
  },
  {
   "cell_type": "code",
   "execution_count": 58,
   "id": "f16d8b95-b810-4383-af28-ae79951ca9e5",
   "metadata": {},
   "outputs": [
    {
     "name": "stdout",
     "output_type": "stream",
     "text": [
      "12:30:45\n"
     ]
    }
   ],
   "source": [
    "from datetime import time\n",
    "\n",
    "mytime = time(hour=12, minute=30, second =45)\n",
    "\n",
    "print(mytime)"
   ]
  },
  {
   "cell_type": "code",
   "execution_count": 60,
   "id": "173beae4-a972-45ee-a5a9-0f7a1668651a",
   "metadata": {},
   "outputs": [],
   "source": [
    "mytime = time(minute=45)"
   ]
  },
  {
   "cell_type": "code",
   "execution_count": 62,
   "id": "e0eef119-8340-49dd-bd63-e4fb05cdb74b",
   "metadata": {},
   "outputs": [
    {
     "name": "stdout",
     "output_type": "stream",
     "text": [
      "00:45:00\n"
     ]
    }
   ],
   "source": [
    "print(mytime)"
   ]
  },
  {
   "cell_type": "code",
   "execution_count": 71,
   "id": "1c579188-c497-4064-8419-80d8a06b6f22",
   "metadata": {},
   "outputs": [
    {
     "name": "stdout",
     "output_type": "stream",
     "text": [
      "0\n"
     ]
    }
   ],
   "source": [
    "print(mytime.hour)"
   ]
  },
  {
   "cell_type": "code",
   "execution_count": 73,
   "id": "5780bc33-c6db-4325-9397-c27de30b8003",
   "metadata": {},
   "outputs": [
    {
     "name": "stdout",
     "output_type": "stream",
     "text": [
      "45\n"
     ]
    }
   ],
   "source": [
    "print(mytime.minute)"
   ]
  },
  {
   "cell_type": "markdown",
   "id": "02b29e4a-fa99-48f6-a088-6f3bce8c7f57",
   "metadata": {},
   "source": [
    "# TimeDelta Class"
   ]
  },
  {
   "cell_type": "code",
   "execution_count": 76,
   "id": "45031d70-a2b9-4b93-b9be-300092f4fe75",
   "metadata": {},
   "outputs": [
    {
     "name": "stdout",
     "output_type": "stream",
     "text": [
      "2026-01-01 03:14:27.896962\n"
     ]
    }
   ],
   "source": [
    "from datetime import datetime, timedelta\n",
    "\n",
    "todays_date = datetime.now()\n",
    "\n",
    "dateafter_months = todays_date + timedelta(days=90)\n",
    "\n",
    "print(dateafter_months)"
   ]
  },
  {
   "cell_type": "code",
   "execution_count": 78,
   "id": "ea2b76a0-0dfa-4725-8d90-335cb15aba50",
   "metadata": {},
   "outputs": [
    {
     "name": "stdout",
     "output_type": "stream",
     "text": [
      "2025-07-05 03:14:27.896962\n"
     ]
    }
   ],
   "source": [
    "### Printing dates and time for 3 moths ago\n",
    "\n",
    "datebefore_months = todays_date - timedelta(days=90)\n",
    "\n",
    "print(datebefore_months)"
   ]
  },
  {
   "cell_type": "code",
   "execution_count": 80,
   "id": "48a7ebe6-1f3c-4ddc-bd43-87b5aff0353f",
   "metadata": {},
   "outputs": [
    {
     "name": "stdout",
     "output_type": "stream",
     "text": [
      "2592000.0\n"
     ]
    }
   ],
   "source": [
    "### Total number of seconds in a month\n",
    "\n",
    "seconds_in_a_month = timedelta(days=30).total_seconds()\n",
    "\n",
    "print(seconds_in_a_month)"
   ]
  },
  {
   "cell_type": "code",
   "execution_count": null,
   "id": "df5f666e-fa2a-421e-898f-8ee941ec9e02",
   "metadata": {},
   "outputs": [],
   "source": []
  }
 ],
 "metadata": {
  "kernelspec": {
   "display_name": "Python 3 (ipykernel)",
   "language": "python",
   "name": "python3"
  },
  "language_info": {
   "codemirror_mode": {
    "name": "ipython",
    "version": 3
   },
   "file_extension": ".py",
   "mimetype": "text/x-python",
   "name": "python",
   "nbconvert_exporter": "python",
   "pygments_lexer": "ipython3",
   "version": "3.12.4"
  }
 },
 "nbformat": 4,
 "nbformat_minor": 5
}
