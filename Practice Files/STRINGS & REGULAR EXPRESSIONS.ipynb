{
 "cells": [
  {
   "cell_type": "markdown",
   "id": "78c678da-323e-4a98-9f76-878f3c1f8777",
   "metadata": {},
   "source": [
    "# STRINGS & REGULAR EXPRESSIONS"
   ]
  },
  {
   "cell_type": "markdown",
   "id": "b8c11f59-ac25-40ff-addb-55e02f09285d",
   "metadata": {},
   "source": [
    "# Introduction to Strings"
   ]
  },
  {
   "cell_type": "code",
   "execution_count": 1,
   "id": "dbfcbfff-a159-40f6-97f5-f9719f3807b9",
   "metadata": {},
   "outputs": [
    {
     "name": "stdout",
     "output_type": "stream",
     "text": [
      "15\n"
     ]
    }
   ],
   "source": [
    "text = \" Python is Fun \"\n",
    "print(len(text))"
   ]
  },
  {
   "cell_type": "code",
   "execution_count": 3,
   "id": "5f69d70c-7876-4289-acb9-69263f08615a",
   "metadata": {},
   "outputs": [
    {
     "name": "stdout",
     "output_type": "stream",
     "text": [
      "HELLO, WORLD!!\n",
      "hello, world!!\n",
      "Hi, World!!\n"
     ]
    }
   ],
   "source": [
    "text = \"Hello, World!!\"\n",
    "\n",
    "print(text.upper())\n",
    "\n",
    "print(text.lower())\n",
    "\n",
    "print(text.replace(\"Hello\", \"Hi\"))"
   ]
  },
  {
   "cell_type": "code",
   "execution_count": 5,
   "id": "adefcac5-b2ed-42a9-811b-379f0d951293",
   "metadata": {},
   "outputs": [
    {
     "name": "stdout",
     "output_type": "stream",
     "text": [
      "Hello, World!\n"
     ]
    }
   ],
   "source": [
    "my_string = \"Hello, World!\"\n",
    "\n",
    "print(my_string.strip())"
   ]
  },
  {
   "cell_type": "code",
   "execution_count": 7,
   "id": "84371c9b-42d4-49a4-ae5a-f8282f456576",
   "metadata": {},
   "outputs": [
    {
     "name": "stdout",
     "output_type": "stream",
     "text": [
      "['Hello', 'World!!']\n"
     ]
    }
   ],
   "source": [
    "my_string = \"Hello, World!!\"\n",
    "\n",
    "print(my_string.split(\", \"))"
   ]
  },
  {
   "cell_type": "code",
   "execution_count": 9,
   "id": "5b4c1e9e-cde6-48c3-99b6-93d4854ee47c",
   "metadata": {},
   "outputs": [
    {
     "name": "stdout",
     "output_type": "stream",
     "text": [
      "True\n"
     ]
    }
   ],
   "source": [
    "print(my_string.startswith(\"Hello\"))"
   ]
  },
  {
   "cell_type": "code",
   "execution_count": 11,
   "id": "df54bb03-7b3f-4f07-9fe2-b052b961fa18",
   "metadata": {},
   "outputs": [
    {
     "name": "stdout",
     "output_type": "stream",
     "text": [
      "False\n"
     ]
    }
   ],
   "source": [
    "print(my_string.endswith(\"Hello\"))"
   ]
  },
  {
   "cell_type": "code",
   "execution_count": 13,
   "id": "87cbe333-58a1-48ae-aa0f-db4f1902d7ef",
   "metadata": {},
   "outputs": [
    {
     "name": "stdout",
     "output_type": "stream",
     "text": [
      "True\n"
     ]
    }
   ],
   "source": [
    "print(my_string.endswith(\"!\"))"
   ]
  },
  {
   "cell_type": "code",
   "execution_count": 15,
   "id": "f032ab41-4357-4724-9beb-8e119035cdd5",
   "metadata": {},
   "outputs": [
    {
     "name": "stdout",
     "output_type": "stream",
     "text": [
      "3\n"
     ]
    }
   ],
   "source": [
    "print(my_string.count(\"l\"))"
   ]
  },
  {
   "cell_type": "code",
   "execution_count": 19,
   "id": "d0d4f5c5-c200-4cc7-b5b6-d249d429dbca",
   "metadata": {},
   "outputs": [
    {
     "name": "stdout",
     "output_type": "stream",
     "text": [
      "Hello, World!!\n"
     ]
    }
   ],
   "source": [
    "my_list = [\"Hello, World!!\"]\n",
    "\n",
    "my_str = \", \".join(my_list)\n",
    "print(my_str)"
   ]
  },
  {
   "cell_type": "markdown",
   "id": "332f7be8-f76b-43a5-9953-9549856e136e",
   "metadata": {},
   "source": [
    "# String Formatting"
   ]
  },
  {
   "cell_type": "code",
   "execution_count": 30,
   "id": "3d2cca5d-8ee3-4834-b5bd-123787e0720a",
   "metadata": {},
   "outputs": [
    {
     "name": "stdout",
     "output_type": "stream",
     "text": [
      "3.3333333333333335\n",
      "The Output is 3.33\n"
     ]
    }
   ],
   "source": [
    "x = 10\n",
    "y = 3\n",
    "z = x/y\n",
    "\n",
    "print(z)\n",
    "\n",
    "print(\"The Output is {0:.2f}\".format(z))"
   ]
  },
  {
   "cell_type": "code",
   "execution_count": 24,
   "id": "de568cf8-a485-476c-b0d4-91c257dc58ad",
   "metadata": {},
   "outputs": [
    {
     "name": "stdout",
     "output_type": "stream",
     "text": [
      "My Name is Amit and I am 27 years old.\n"
     ]
    }
   ],
   "source": [
    "name = \"Amit\"\n",
    "age = 27\n",
    "\n",
    "print(\"My Name is {} and I am {} years old.\".format(name,age))"
   ]
  },
  {
   "cell_type": "markdown",
   "id": "402b43df-f841-4c67-8801-cf3f5f44fc7c",
   "metadata": {},
   "source": [
    "# User Input \n"
   ]
  },
  {
   "cell_type": "code",
   "execution_count": 33,
   "id": "2be82db7-7378-427c-84c4-8798e7288176",
   "metadata": {},
   "outputs": [
    {
     "name": "stdin",
     "output_type": "stream",
     "text": [
      " Niraj\n"
     ]
    },
    {
     "name": "stdout",
     "output_type": "stream",
     "text": [
      "My Name is Niraj\n"
     ]
    }
   ],
   "source": [
    "name = input()\n",
    "\n",
    "print(\"My Name is\", name)"
   ]
  },
  {
   "cell_type": "code",
   "execution_count": 35,
   "id": "76d1c694-a1a0-4d65-90b0-73d68cb0244d",
   "metadata": {},
   "outputs": [
    {
     "name": "stdin",
     "output_type": "stream",
     "text": [
      "Enter an integer:  6\n",
      "Enter an Float:  8.9\n"
     ]
    },
    {
     "name": "stdout",
     "output_type": "stream",
     "text": [
      "The product of x & y is:  53.400000000000006\n"
     ]
    }
   ],
   "source": [
    "# Integer Input\n",
    "x = int(input(\"Enter an integer: \"))\n",
    "\n",
    "# Float Input\n",
    "y = float(input(\"Enter an Float: \"))\n",
    "\n",
    "z = x*y\n",
    "\n",
    "print(\"The product of x & y is: \", z)"
   ]
  },
  {
   "cell_type": "markdown",
   "id": "8aefdd29-3028-4274-8c6e-3f9a371a67bf",
   "metadata": {},
   "source": [
    "# Meta Characters for Regular Expressions"
   ]
  },
  {
   "cell_type": "code",
   "execution_count": 38,
   "id": "386b2344-67cf-4db5-bb01-fc08b36b17f7",
   "metadata": {},
   "outputs": [],
   "source": [
    "import re"
   ]
  },
  {
   "cell_type": "code",
   "execution_count": 40,
   "id": "ce562747-4e93-443d-87e1-5510d32e3361",
   "metadata": {},
   "outputs": [
    {
     "name": "stdout",
     "output_type": "stream",
     "text": [
      "<re.Match object; span=(0, 3), match='cat'>\n",
      "<re.Match object; span=(0, 3), match='cut'>\n",
      "<re.Match object; span=(0, 3), match='cot'>\n",
      "None\n"
     ]
    }
   ],
   "source": [
    "s1 = \"cat\"\n",
    "s2 = \"cut\"\n",
    "s3 = \"cot\"\n",
    "s4 = \"pot\"\n",
    "\n",
    "print(re.search('c.t',s1))\n",
    "print(re.search('c.t',s2))\n",
    "print(re.search('c.t',s3))\n",
    "print(re.search('c.t',s4))"
   ]
  },
  {
   "cell_type": "code",
   "execution_count": 44,
   "id": "2ffd50c5-1c8d-4cd7-a6bf-325982e2616d",
   "metadata": {},
   "outputs": [
    {
     "name": "stdout",
     "output_type": "stream",
     "text": [
      "None\n",
      "None\n",
      "None\n",
      "None\n"
     ]
    }
   ],
   "source": [
    "s1 = 'Mumbai'\n",
    "s2 = 'Pune'\n",
    "s3 = 'Kolkata'\n",
    "s4 = 'Patna'\n",
    "\n",
    "print(re.search('^m', s1))\n",
    "print(re.search('^m', s2))\n",
    "print(re.search('^m', s3))\n",
    "print(re.search('^m', s4))"
   ]
  },
  {
   "cell_type": "code",
   "execution_count": 46,
   "id": "c4125e46-1b96-4908-9362-2d603f0c4f16",
   "metadata": {},
   "outputs": [
    {
     "name": "stdout",
     "output_type": "stream",
     "text": [
      "None\n",
      "None\n",
      "<re.Match object; span=(6, 7), match='a'>\n",
      "<re.Match object; span=(4, 5), match='a'>\n"
     ]
    }
   ],
   "source": [
    "s1 = 'Mumbai'\n",
    "s2 = 'Pune'\n",
    "s3 = 'Kolkata'\n",
    "s4 = 'Patna'\n",
    "\n",
    "print(re.search('a$', s1))\n",
    "print(re.search('a$', s2))\n",
    "print(re.search('a$', s3))\n",
    "print(re.search('a$', s4))"
   ]
  },
  {
   "cell_type": "code",
   "execution_count": 48,
   "id": "f5bc36a5-5ec2-4d2e-a801-8f41105bfcb4",
   "metadata": {},
   "outputs": [
    {
     "name": "stdout",
     "output_type": "stream",
     "text": [
      "<re.Match object; span=(0, 2), match='ac'>\n",
      "<re.Match object; span=(0, 3), match='abc'>\n",
      "<re.Match object; span=(0, 4), match='abbc'>\n",
      "None\n"
     ]
    }
   ],
   "source": [
    "s1 = 'ac'\n",
    "s2 = 'abc'\n",
    "s3 = 'abbc'\n",
    "s4 = 'cab'\n",
    "\n",
    "print(re.search('ab*c', s1))\n",
    "print(re.search('ab*c', s2))\n",
    "print(re.search('ab*c', s3))\n",
    "print(re.search('ab*c', s4))\n"
   ]
  },
  {
   "cell_type": "code",
   "execution_count": 50,
   "id": "ea7b43eb-9721-4fd9-b408-78b8957213a0",
   "metadata": {},
   "outputs": [
    {
     "name": "stdout",
     "output_type": "stream",
     "text": [
      "None\n",
      "<re.Match object; span=(0, 3), match='abc'>\n",
      "<re.Match object; span=(0, 4), match='abbc'>\n",
      "None\n"
     ]
    }
   ],
   "source": [
    "s1 = 'ac'\n",
    "s2 = 'abc'\n",
    "s3 = 'abbc'\n",
    "s4 = 'cab'\n",
    "\n",
    "print(re.search('ab+c', s1))\n",
    "print(re.search('ab+c', s2))\n",
    "print(re.search('ab+c', s3))\n",
    "print(re.search('ab+c', s4))\n"
   ]
  },
  {
   "cell_type": "code",
   "execution_count": 52,
   "id": "829bf0c2-52fd-4e78-8085-c111b93fc268",
   "metadata": {},
   "outputs": [
    {
     "name": "stdout",
     "output_type": "stream",
     "text": [
      "<re.Match object; span=(0, 5), match='color'>\n",
      "<re.Match object; span=(0, 6), match='colour'>\n",
      "None\n",
      "None\n"
     ]
    }
   ],
   "source": [
    "s1 = 'color'\n",
    "s2 = 'colour'\n",
    "s3 = 'colouur'\n",
    "s4 = 'colouer'\n",
    "\n",
    "print(re.search('colou?r', s1))\n",
    "print(re.search('colou?r', s2))\n",
    "print(re.search('colou?r', s3))\n",
    "print(re.search('colou?r', s4))\n"
   ]
  },
  {
   "cell_type": "code",
   "execution_count": 58,
   "id": "a4456c9e-92b8-451a-9baa-8f5df6323882",
   "metadata": {},
   "outputs": [
    {
     "name": "stdout",
     "output_type": "stream",
     "text": [
      "<re.Match object; span=(3, 4), match='n'>\n",
      "<re.Match object; span=(11, 12), match='n'>\n",
      "None\n"
     ]
    }
   ],
   "source": [
    "s1 = \"My name is Maria, I am waiter.\"\n",
    "s2 = \"I am a Queen\"\n",
    "s3 = \"He Never Loves to Go Out\"\n",
    "\n",
    "print(re.search('[in]',s1))\n",
    "print(re.search('[in]',s2))\n",
    "print(re.search('[in]',s3))"
   ]
  },
  {
   "cell_type": "code",
   "execution_count": 66,
   "id": "aaaf2a45-27ee-45be-afcc-936843ad4c48",
   "metadata": {},
   "outputs": [
    {
     "name": "stdout",
     "output_type": "stream",
     "text": [
      "<re.Match object; span=(0, 1), match='M'>\n",
      "<re.Match object; span=(0, 1), match='I'>\n",
      "<re.Match object; span=(0, 1), match='H'>\n"
     ]
    }
   ],
   "source": [
    "s1 = \"My name is Maria\"\n",
    "s2 = \"I am a Queen\"\n",
    "s3 = \"He Never Loves to Go Out\"\n",
    "\n",
    "\n",
    "print(re.search('[^0-9]', s1))\n",
    "print(re.search('[^0-9]', s2))\n",
    "print(re.search('[^0-9]', s3))"
   ]
  },
  {
   "cell_type": "code",
   "execution_count": 70,
   "id": "c40ef5e2-4b6d-4cbc-8581-c483c463f39d",
   "metadata": {},
   "outputs": [
    {
     "name": "stdout",
     "output_type": "stream",
     "text": [
      "<re.Match object; span=(14, 19), match='Mango'>\n",
      "<re.Match object; span=(14, 20), match='papaya'>\n",
      "None\n"
     ]
    }
   ],
   "source": [
    "s1 = 'I love to eat Mango'\n",
    "s2 = 'I love to eat papaya'\n",
    "s3 = 'I love to eat Watermelon'\n",
    "\n",
    "print(re.search('Mango|papaya',s1))\n",
    "print(re.search('Mango|papaya',s2))\n",
    "print(re.search('Mango|papaya',s3))"
   ]
  },
  {
   "cell_type": "markdown",
   "id": "7e171403-7582-40cc-8da4-924e2ecced72",
   "metadata": {},
   "source": [
    "# Intro. to Built-in Regular Expressions"
   ]
  },
  {
   "cell_type": "code",
   "execution_count": 75,
   "id": "d4519c9f-6cd1-4f49-a44a-aef291eae7e3",
   "metadata": {},
   "outputs": [
    {
     "name": "stdout",
     "output_type": "stream",
     "text": [
      "['Country', 'Country']\n",
      "[]\n"
     ]
    }
   ],
   "source": [
    "s1 = \"India is my Country, I love my Country\"\n",
    "\n",
    "print(re.findall('Country',s1))\n",
    "print(re.findall('she',s1))"
   ]
  },
  {
   "cell_type": "code",
   "execution_count": 77,
   "id": "fa676359-14ac-494d-98c6-3543427d66d6",
   "metadata": {},
   "outputs": [
    {
     "name": "stdout",
     "output_type": "stream",
     "text": [
      "None\n",
      "<re.Match object; span=(50, 56), match='Mumbai'>\n",
      "None\n"
     ]
    }
   ],
   "source": [
    "s1 = \"India is my Country, I love my Country, I live in Mumbai\"\n",
    "\n",
    "print(re.search('Delhi',s1))\n",
    "print(re.search('Mumbai',s1))\n",
    "print(re.search(\"Pune\",s1))"
   ]
  },
  {
   "cell_type": "code",
   "execution_count": 83,
   "id": "d1192280-e7ff-4d86-a550-8305bc28c5be",
   "metadata": {},
   "outputs": [
    {
     "name": "stdout",
     "output_type": "stream",
     "text": [
      "['India', 'is', 'my', 'Country']\n"
     ]
    },
    {
     "name": "stderr",
     "output_type": "stream",
     "text": [
      "<>:3: SyntaxWarning: invalid escape sequence '\\s'\n",
      "<>:3: SyntaxWarning: invalid escape sequence '\\s'\n",
      "C:\\Users\\hp\\AppData\\Local\\Temp\\ipykernel_2444\\2406550771.py:3: SyntaxWarning: invalid escape sequence '\\s'\n",
      "  print(re.split('\\s',s1))\n"
     ]
    }
   ],
   "source": [
    "s1 = \"India is my Country\"\n",
    "\n",
    "print(re.split('\\s',s1))"
   ]
  },
  {
   "cell_type": "code",
   "execution_count": 85,
   "id": "9cbd0975-9e5c-48d6-bb65-24092e3235a2",
   "metadata": {},
   "outputs": [
    {
     "name": "stdout",
     "output_type": "stream",
     "text": [
      "India@is@my@Country\n"
     ]
    },
    {
     "name": "stderr",
     "output_type": "stream",
     "text": [
      "<>:3: SyntaxWarning: invalid escape sequence '\\s'\n",
      "<>:3: SyntaxWarning: invalid escape sequence '\\s'\n",
      "C:\\Users\\hp\\AppData\\Local\\Temp\\ipykernel_2444\\3860518519.py:3: SyntaxWarning: invalid escape sequence '\\s'\n",
      "  print(re.sub('\\s','@',s1))\n"
     ]
    }
   ],
   "source": [
    "s1 = \"India is my Country\"\n",
    "\n",
    "print(re.sub('\\s','@',s1))"
   ]
  },
  {
   "cell_type": "markdown",
   "id": "bcebceee-77cb-4405-bddd-d795e23474cf",
   "metadata": {},
   "source": [
    "# Special Characters and Sets for Regular Expressions"
   ]
  },
  {
   "cell_type": "code",
   "execution_count": 88,
   "id": "a3473fa8-d64b-4332-930b-f9d4f4b8ef96",
   "metadata": {},
   "outputs": [],
   "source": [
    "import re"
   ]
  },
  {
   "cell_type": "code",
   "execution_count": 90,
   "id": "7c320e0a-4b56-4915-b2e9-452caa64b2fe",
   "metadata": {},
   "outputs": [
    {
     "name": "stdout",
     "output_type": "stream",
     "text": [
      "[]\n"
     ]
    },
    {
     "name": "stderr",
     "output_type": "stream",
     "text": [
      "<>:2: SyntaxWarning: invalid escape sequence '\\A'\n",
      "<>:2: SyntaxWarning: invalid escape sequence '\\A'\n",
      "C:\\Users\\hp\\AppData\\Local\\Temp\\ipykernel_2444\\2400476996.py:2: SyntaxWarning: invalid escape sequence '\\A'\n",
      "  print(re.findall(\"\\AThe\", s1))\n"
     ]
    }
   ],
   "source": [
    "s1 = \"I love wtaching movies\"\n",
    "print(re.findall(\"\\AThe\", s1))"
   ]
  },
  {
   "cell_type": "code",
   "execution_count": 92,
   "id": "35f39b42-110c-4b9d-a3c1-e08a133a7d62",
   "metadata": {},
   "outputs": [
    {
     "name": "stdout",
     "output_type": "stream",
     "text": [
      "[]\n"
     ]
    },
    {
     "name": "stderr",
     "output_type": "stream",
     "text": [
      "<>:2: SyntaxWarning: invalid escape sequence '\\B'\n",
      "<>:2: SyntaxWarning: invalid escape sequence '\\B'\n",
      "C:\\Users\\hp\\AppData\\Local\\Temp\\ipykernel_2444\\2337216756.py:2: SyntaxWarning: invalid escape sequence '\\B'\n",
      "  print(re.findall(\"\\BI\", s1))\n"
     ]
    }
   ],
   "source": [
    "s1 = \"I love wtaching movies\"\n",
    "print(re.findall(\"\\BI\", s1))"
   ]
  },
  {
   "cell_type": "code",
   "execution_count": 94,
   "id": "d7e60a93-def0-4491-8407-000e79a664c1",
   "metadata": {},
   "outputs": [
    {
     "name": "stdout",
     "output_type": "stream",
     "text": [
      "['I', ' ', 'l', 'o', 'v', 'e', ' ', 'w', 't', 'a', 'c', 'h', 'i', 'n', 'g', ' ', 'm', 'o', 'v', 'i', 'e', 's']\n"
     ]
    },
    {
     "name": "stderr",
     "output_type": "stream",
     "text": [
      "<>:2: SyntaxWarning: invalid escape sequence '\\D'\n",
      "<>:2: SyntaxWarning: invalid escape sequence '\\D'\n",
      "C:\\Users\\hp\\AppData\\Local\\Temp\\ipykernel_2444\\4003036156.py:2: SyntaxWarning: invalid escape sequence '\\D'\n",
      "  print(re.findall(\"\\D\", s1))\n"
     ]
    }
   ],
   "source": [
    "s1 = \"I love wtaching movies\"\n",
    "print(re.findall(\"\\D\", s1))"
   ]
  },
  {
   "cell_type": "code",
   "execution_count": 96,
   "id": "eb1a58e5-b2b5-4d6a-9efa-e0e4e1c17428",
   "metadata": {},
   "outputs": [
    {
     "name": "stdout",
     "output_type": "stream",
     "text": [
      "[]\n"
     ]
    },
    {
     "name": "stderr",
     "output_type": "stream",
     "text": [
      "<>:2: SyntaxWarning: invalid escape sequence '\\d'\n",
      "<>:2: SyntaxWarning: invalid escape sequence '\\d'\n",
      "C:\\Users\\hp\\AppData\\Local\\Temp\\ipykernel_2444\\882396323.py:2: SyntaxWarning: invalid escape sequence '\\d'\n",
      "  print(re.findall(\"\\d\", s1))\n"
     ]
    }
   ],
   "source": [
    "s1 = \"I love wtaching movies\"\n",
    "print(re.findall(\"\\d\", s1))"
   ]
  },
  {
   "cell_type": "code",
   "execution_count": 98,
   "id": "aade9d30-2d0e-4fc9-892c-8e0eb27c9187",
   "metadata": {},
   "outputs": [
    {
     "name": "stdout",
     "output_type": "stream",
     "text": [
      "[' ', ' ', ' ']\n"
     ]
    },
    {
     "name": "stderr",
     "output_type": "stream",
     "text": [
      "<>:2: SyntaxWarning: invalid escape sequence '\\s'\n",
      "<>:2: SyntaxWarning: invalid escape sequence '\\s'\n",
      "C:\\Users\\hp\\AppData\\Local\\Temp\\ipykernel_2444\\1705926529.py:2: SyntaxWarning: invalid escape sequence '\\s'\n",
      "  print(re.findall(\"\\s\", s1))\n"
     ]
    }
   ],
   "source": [
    "s1 = \"I love wtaching movies\"\n",
    "print(re.findall(\"\\s\", s1))"
   ]
  },
  {
   "cell_type": "markdown",
   "id": "7419918c-9b0e-4f2f-980a-7a4ab579902b",
   "metadata": {},
   "source": [
    "### Sets for Regular Expressions"
   ]
  },
  {
   "cell_type": "code",
   "execution_count": 105,
   "id": "e7051421-5215-4e36-be8c-698ffafe6139",
   "metadata": {},
   "outputs": [
    {
     "name": "stdout",
     "output_type": "stream",
     "text": [
      "['a', 'n']\n"
     ]
    }
   ],
   "source": [
    "s1 = \"I love watching movies\"\n",
    "print(re.findall(\"[arn]\", s1))"
   ]
  },
  {
   "cell_type": "code",
   "execution_count": 107,
   "id": "46872f70-fc7c-41fd-98e0-825dd62fc6ee",
   "metadata": {},
   "outputs": [
    {
     "name": "stdout",
     "output_type": "stream",
     "text": [
      "['l', 'e', 'a', 'c', 'h', 'i', 'n', 'g', 'm', 'i', 'e']\n"
     ]
    }
   ],
   "source": [
    "s1 = \"I love watching movies\"\n",
    "print(re.findall(\"[a-n]\", s1))"
   ]
  },
  {
   "cell_type": "code",
   "execution_count": 109,
   "id": "64e470f4-0cbb-4f46-acd0-f29dffb0aec4",
   "metadata": {},
   "outputs": [
    {
     "name": "stdout",
     "output_type": "stream",
     "text": [
      "['I', ' ', 'l', 'o', 'v', 'e', ' ', 'w', 't', 'c', 'h', 'i', 'g', ' ', 'm', 'o', 'v', 'i', 'e', 's']\n"
     ]
    }
   ],
   "source": [
    "s1 = \"I love watching movies\"\n",
    "print(re.findall(\"[^arn]\", s1))"
   ]
  },
  {
   "cell_type": "code",
   "execution_count": 111,
   "id": "72420f2b-9321-4bca-a455-b2d2980d8d1f",
   "metadata": {},
   "outputs": [
    {
     "name": "stdout",
     "output_type": "stream",
     "text": [
      "[]\n"
     ]
    }
   ],
   "source": [
    "s1 = \"I love watching movies\"\n",
    "print(re.findall(\"[0-9]\", s1))"
   ]
  },
  {
   "cell_type": "code",
   "execution_count": 113,
   "id": "fe0784f8-e130-4df2-9b17-5583cc7b3b23",
   "metadata": {},
   "outputs": [
    {
     "name": "stdout",
     "output_type": "stream",
     "text": [
      "['I', 'l', 'o', 'v', 'e', 'w', 'a', 't', 'c', 'h', 'i', 'n', 'g', 'm', 'o', 'v', 'i', 'e', 's']\n"
     ]
    }
   ],
   "source": [
    "s1 = \"I love watching movies\"\n",
    "print(re.findall(\"[a-zA-Z]\", s1))"
   ]
  },
  {
   "cell_type": "code",
   "execution_count": 115,
   "id": "562af965-aab6-4ee2-9076-4e9ef595bab9",
   "metadata": {},
   "outputs": [
    {
     "name": "stdout",
     "output_type": "stream",
     "text": [
      "[]\n"
     ]
    }
   ],
   "source": [
    "s1 = \"I love watching movies\"\n",
    "print(re.findall(\"[+]\", s1))"
   ]
  },
  {
   "cell_type": "code",
   "execution_count": null,
   "id": "d5e98f12-9a3e-4fd1-9a8c-51fa4895399f",
   "metadata": {},
   "outputs": [],
   "source": []
  }
 ],
 "metadata": {
  "kernelspec": {
   "display_name": "Python 3 (ipykernel)",
   "language": "python",
   "name": "python3"
  },
  "language_info": {
   "codemirror_mode": {
    "name": "ipython",
    "version": 3
   },
   "file_extension": ".py",
   "mimetype": "text/x-python",
   "name": "python",
   "nbconvert_exporter": "python",
   "pygments_lexer": "ipython3",
   "version": "3.12.4"
  }
 },
 "nbformat": 4,
 "nbformat_minor": 5
}
