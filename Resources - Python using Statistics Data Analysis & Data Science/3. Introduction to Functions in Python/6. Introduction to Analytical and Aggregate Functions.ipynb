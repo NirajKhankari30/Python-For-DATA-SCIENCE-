{
 "cells": [
  {
   "cell_type": "markdown",
   "id": "b275400a",
   "metadata": {},
   "source": [
    "# Analytical functions"
   ]
  },
  {
   "cell_type": "markdown",
   "id": "7e59aaa6",
   "metadata": {},
   "source": [
    "## Eval Function\n",
    "\n",
    "The eval() function in Python is a built-in function that evaluates and executes a string as a Python expression. It takes a string argument, which represents a valid Python expression, and returns the result of evaluating that expression."
   ]
  },
  {
   "cell_type": "markdown",
   "id": "643734ce",
   "metadata": {},
   "source": [
    "### eval() function"
   ]
  },
  {
   "cell_type": "code",
   "execution_count": 1,
   "id": "cd2475be",
   "metadata": {},
   "outputs": [
    {
     "data": {
      "text/plain": [
       "13"
      ]
     },
     "execution_count": 1,
     "metadata": {},
     "output_type": "execute_result"
    }
   ],
   "source": [
    "# Assign a value of 3 to the variable x\n",
    "x = 3\n",
    "\n",
    "# Evaluate the expression using the value of x\n",
    "eval('x**2 + 2*x - 2')"
   ]
  },
  {
   "cell_type": "markdown",
   "id": "c32b64ac",
   "metadata": {},
   "source": [
    "### len() function"
   ]
  },
  {
   "cell_type": "code",
   "execution_count": 2,
   "id": "206de45d",
   "metadata": {},
   "outputs": [
    {
     "data": {
      "text/plain": [
       "6"
      ]
     },
     "execution_count": 2,
     "metadata": {},
     "output_type": "execute_result"
    }
   ],
   "source": [
    "# Create a list called numbers\n",
    "numbers=[4, 76, 2, 34, 12, 9]\n",
    "\n",
    "# Get the length of the numbers list\n",
    "len(numbers)"
   ]
  },
  {
   "cell_type": "markdown",
   "id": "e236ebea",
   "metadata": {},
   "source": [
    "### factorial() function"
   ]
  },
  {
   "cell_type": "code",
   "execution_count": 3,
   "id": "126fffbb",
   "metadata": {},
   "outputs": [
    {
     "data": {
      "text/plain": [
       "120"
      ]
     },
     "execution_count": 3,
     "metadata": {},
     "output_type": "execute_result"
    }
   ],
   "source": [
    "# let's import the math module\n",
    "import math\n",
    "\n",
    "# let's find out the factorial of 5\n",
    "math.factorial(5)"
   ]
  },
  {
   "cell_type": "markdown",
   "id": "d8560fcc",
   "metadata": {},
   "source": [
    "### sort() function"
   ]
  },
  {
   "cell_type": "code",
   "execution_count": 4,
   "id": "b096b04f",
   "metadata": {},
   "outputs": [
    {
     "name": "stdout",
     "output_type": "stream",
     "text": [
      "[200, 150, 90, 76, 45, 28, 10]\n"
     ]
    }
   ],
   "source": [
    "# Create a list called runs\n",
    "runs=[45, 10, 150, 76, 28, 90, 200]\n",
    "\n",
    "# Sort the runs list in descending order\n",
    "runs.sort(reverse=True)\n",
    "\n",
    "# Print the sorted runs list\n",
    "print(runs)"
   ]
  },
  {
   "cell_type": "markdown",
   "id": "8de9d00e",
   "metadata": {},
   "source": [
    "# Aggregate functions"
   ]
  },
  {
   "cell_type": "code",
   "execution_count": 5,
   "id": "6faa9014",
   "metadata": {},
   "outputs": [
    {
     "name": "stdout",
     "output_type": "stream",
     "text": [
      "9\n",
      "1\n",
      "28\n"
     ]
    }
   ],
   "source": [
    "# Let's Create a list\n",
    "list1=[3, 5, 7, 9, 2, 1, 1]\n",
    "\n",
    "#Finding the maximum value of the list\n",
    "print(max(list1))\n",
    "\n",
    "#Finding the minimum value of the list\n",
    "print(min(list1))\n",
    "\n",
    "#Finding the sum of all values of the list\n",
    "print(sum(list1))"
   ]
  },
  {
   "cell_type": "code",
   "execution_count": 6,
   "id": "0e6038fb",
   "metadata": {},
   "outputs": [
    {
     "name": "stdout",
     "output_type": "stream",
     "text": [
      "4\n",
      "3\n",
      "1\n"
     ]
    }
   ],
   "source": [
    "# lets import the statistics module\n",
    "import statistics as stat\n",
    "\n",
    "# taking a list\n",
    "list1=[3, 5, 7, 9, 2, 1, 1]\n",
    "\n",
    "#Finding the mean value of the list\n",
    "print(stat.mean(list1))\n",
    "\n",
    "#finding the median of the list\n",
    "print(stat.median(list1))\n",
    "\n",
    "#Finding the mode of the list\n",
    "print(stat.mode(list1))"
   ]
  },
  {
   "cell_type": "code",
   "execution_count": null,
   "id": "11474419",
   "metadata": {},
   "outputs": [],
   "source": []
  }
 ],
 "metadata": {
  "kernelspec": {
   "display_name": "Python 3 (ipykernel)",
   "language": "python",
   "name": "python3"
  },
  "language_info": {
   "codemirror_mode": {
    "name": "ipython",
    "version": 3
   },
   "file_extension": ".py",
   "mimetype": "text/x-python",
   "name": "python",
   "nbconvert_exporter": "python",
   "pygments_lexer": "ipython3",
   "version": "3.10.9"
  }
 },
 "nbformat": 4,
 "nbformat_minor": 5
}
