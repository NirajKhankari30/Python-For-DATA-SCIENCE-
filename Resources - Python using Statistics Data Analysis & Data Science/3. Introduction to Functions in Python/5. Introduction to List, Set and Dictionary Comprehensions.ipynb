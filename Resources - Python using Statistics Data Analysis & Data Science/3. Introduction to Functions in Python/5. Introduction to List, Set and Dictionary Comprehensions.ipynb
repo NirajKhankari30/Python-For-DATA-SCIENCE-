{
 "cells": [
  {
   "cell_type": "markdown",
   "id": "96c23bb4",
   "metadata": {},
   "source": [
    "# List Comprehension\n",
    "List comprehension is used to create a new list by iterating over an iterable and applying an expression to each element. The resulting elements are collected in a new list.\n",
    "\n",
    "* Example:"
   ]
  },
  {
   "cell_type": "code",
   "execution_count": 1,
   "id": "1b5686d2",
   "metadata": {},
   "outputs": [
    {
     "name": "stdout",
     "output_type": "stream",
     "text": [
      "[4, 9, 16, 25, 36]\n"
     ]
    }
   ],
   "source": [
    "# Create a new list with squared values from my_list\n",
    "\n",
    "my_list=[2,3,4,5,6]\n",
    "squared_list=[val**2 for val in my_list]\n",
    "\n",
    "# Print the squared_list\n",
    "print(squared_list)"
   ]
  },
  {
   "cell_type": "code",
   "execution_count": 2,
   "id": "83ce1319",
   "metadata": {},
   "outputs": [
    {
     "name": "stdout",
     "output_type": "stream",
     "text": [
      "[2, 4, 6]\n"
     ]
    }
   ],
   "source": [
    "# Create a new list with even numbers from my_list\n",
    "\n",
    "even_list=[var for var in my_list if var%2==0]\n",
    "\n",
    "# Print the even_list\n",
    "print(even_list)"
   ]
  },
  {
   "cell_type": "markdown",
   "id": "e91015f2",
   "metadata": {},
   "source": [
    "# Set Comprehension\n",
    "Set comprehension is similar to list comprehension, but it creates a new set instead of a list. It eliminates duplicate elements, as sets cannot contain duplicates.\n",
    "\n",
    "* Example:"
   ]
  },
  {
   "cell_type": "code",
   "execution_count": 3,
   "id": "7e8b9026",
   "metadata": {},
   "outputs": [
    {
     "name": "stdout",
     "output_type": "stream",
     "text": [
      "{1, 2, 3, 4, 5, 6, 7, 8, 9}\n"
     ]
    }
   ],
   "source": [
    "# Create a set containing numbers from 1 to 9\n",
    "\n",
    "numbers={x for x in range(1,10)}\n",
    "\n",
    "# Print the numbers set\n",
    "print(numbers)"
   ]
  },
  {
   "cell_type": "code",
   "execution_count": 4,
   "id": "db3a8a67",
   "metadata": {},
   "outputs": [
    {
     "name": "stdout",
     "output_type": "stream",
     "text": [
      "{2, 4, 6, 8, 10}\n"
     ]
    }
   ],
   "source": [
    "# Create a set of even numbers from 1 to 10\n",
    "\n",
    "even_numbers = {x for x in range(1, 11) if x % 2 == 0}\n",
    "\n",
    "print(even_numbers)"
   ]
  },
  {
   "cell_type": "markdown",
   "id": "834fc82e",
   "metadata": {},
   "source": [
    "# Dictionary Comprehension\n",
    "Dictionary comprehension allows you to create a new dictionary by specifying key-value pairs. It iterates over an iterable and generates key-value pairs based on an expression.\n",
    "\n",
    "* Example:"
   ]
  },
  {
   "cell_type": "code",
   "execution_count": 5,
   "id": "13be5498",
   "metadata": {},
   "outputs": [
    {
     "name": "stdout",
     "output_type": "stream",
     "text": [
      "{1: 1, 2: 4, 3: 9, 4: 16, 5: 25, 6: 36, 7: 49, 8: 64, 9: 81}\n"
     ]
    }
   ],
   "source": [
    "# Create a dictionary with numbers and their squares\n",
    "\n",
    "d={num:num*num for num in range(1,10)}\n",
    "\n",
    "# Print the dictionary\n",
    "print(d)"
   ]
  },
  {
   "cell_type": "code",
   "execution_count": 6,
   "id": "555ddb68",
   "metadata": {},
   "outputs": [
    {
     "name": "stdout",
     "output_type": "stream",
     "text": [
      "{1: 1, 2: 4, 3: 9, 4: 16, 5: 25}\n"
     ]
    }
   ],
   "source": [
    "# Create a dictionary of squares for numbers from 1 to 5\n",
    "\n",
    "squares_dict = {x: x**2 for x in range(1, 6)}\n",
    "print(squares_dict)"
   ]
  },
  {
   "cell_type": "code",
   "execution_count": null,
   "id": "0fcd3f84",
   "metadata": {},
   "outputs": [],
   "source": []
  }
 ],
 "metadata": {
  "kernelspec": {
   "display_name": "Python 3 (ipykernel)",
   "language": "python",
   "name": "python3"
  },
  "language_info": {
   "codemirror_mode": {
    "name": "ipython",
    "version": 3
   },
   "file_extension": ".py",
   "mimetype": "text/x-python",
   "name": "python",
   "nbconvert_exporter": "python",
   "pygments_lexer": "ipython3",
   "version": "3.10.9"
  }
 },
 "nbformat": 4,
 "nbformat_minor": 5
}
