{
 "cells": [
  {
   "cell_type": "code",
   "execution_count": 1,
   "id": "97f2f8bd",
   "metadata": {},
   "outputs": [
    {
     "name": "stdout",
     "output_type": "stream",
     "text": [
      "3.141592653589793\n",
      "5.0\n"
     ]
    }
   ],
   "source": [
    "# Importing the Math Module\n",
    "import math\n",
    "\n",
    "# Accessing a variable from the math module\n",
    "print(math.pi)\n",
    "\n",
    "# Calling a function from the math module\n",
    "print(math.sqrt(25))"
   ]
  },
  {
   "cell_type": "markdown",
   "id": "b5eb0bac",
   "metadata": {},
   "source": [
    "**Importing specific items from a module:**"
   ]
  },
  {
   "cell_type": "code",
   "execution_count": 6,
   "id": "3e2840f8",
   "metadata": {},
   "outputs": [
    {
     "name": "stdout",
     "output_type": "stream",
     "text": [
      "3\n",
      "apple\n"
     ]
    }
   ],
   "source": [
    "# lets import the randint and choice functions\n",
    "from random import randint, choice\n",
    "\n",
    "# Calling the randint() function directly\n",
    "print(randint(1, 10))\n",
    "\n",
    "# Calling the choice() function directly\n",
    "print(choice(['apple', 'banana', 'orange']))"
   ]
  },
  {
   "cell_type": "markdown",
   "id": "528bcca9",
   "metadata": {},
   "source": [
    "## Creating Modules.\n",
    "\n",
    "### Example:"
   ]
  },
  {
   "cell_type": "code",
   "execution_count": 7,
   "id": "dfdbf2a3",
   "metadata": {},
   "outputs": [],
   "source": [
    "# Creating a Module named mymodule.py\n",
    "# Note:  save this code in a file and save as calculation.py extension.\n",
    "\n",
    "# creating an addition function\n",
    "def addition(a,b):\n",
    "\treturn (a+b)\n",
    "\n",
    "# creating a subtraction function\n",
    "def subtraction(a,b):\n",
    "\treturn (a-b)\n",
    "\n",
    "# creating a multiplication function\n",
    "def multiplication(a,b):\n",
    "\treturn (a*b)"
   ]
  },
  {
   "cell_type": "code",
   "execution_count": 8,
   "id": "bd26dd5d",
   "metadata": {},
   "outputs": [
    {
     "name": "stdout",
     "output_type": "stream",
     "text": [
      "18 6 30\n"
     ]
    }
   ],
   "source": [
    "# lets access the functions that we created in the calculator.py Module.\n",
    "\n",
    "import calculation\n",
    "\n",
    "# calling the addition function\n",
    "addition = calculation.addition(8, 10)\n",
    "\n",
    "# calling the subtraction function\n",
    "subtraction = calculation.subtraction(10, 4)\n",
    "\n",
    "# calling the multiplication function\n",
    "multiplication = calculation.multiplication(6, 5)\n",
    "\n",
    "print(addition,subtraction,multiplication)"
   ]
  },
  {
   "cell_type": "code",
   "execution_count": null,
   "id": "fe472f31",
   "metadata": {},
   "outputs": [],
   "source": []
  }
 ],
 "metadata": {
  "kernelspec": {
   "display_name": "Python 3 (ipykernel)",
   "language": "python",
   "name": "python3"
  },
  "language_info": {
   "codemirror_mode": {
    "name": "ipython",
    "version": 3
   },
   "file_extension": ".py",
   "mimetype": "text/x-python",
   "name": "python",
   "nbconvert_exporter": "python",
   "pygments_lexer": "ipython3",
   "version": "3.10.9"
  }
 },
 "nbformat": 4,
 "nbformat_minor": 5
}
