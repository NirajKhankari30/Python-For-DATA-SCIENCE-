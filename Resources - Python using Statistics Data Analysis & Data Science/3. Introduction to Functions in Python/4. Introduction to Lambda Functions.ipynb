{
 "cells": [
  {
   "cell_type": "markdown",
   "id": "7b935335",
   "metadata": {},
   "source": [
    "# Lambda function\n",
    "\n",
    "A lambda function, also known as an anonymous function, is a small and concise way to define a function in Python. It is often used when you need a simple function for a short period or when you don't want to define a separate function using the def keyword."
   ]
  },
  {
   "cell_type": "code",
   "execution_count": 1,
   "id": "cbbc1656",
   "metadata": {},
   "outputs": [
    {
     "name": "stdout",
     "output_type": "stream",
     "text": [
      "8\n"
     ]
    }
   ],
   "source": [
    "# Example 1: Add two numbers\n",
    "\n",
    "add = lambda x, y: x + y\n",
    "result = add(3, 5)\n",
    "\n",
    "print(result)"
   ]
  },
  {
   "cell_type": "code",
   "execution_count": 2,
   "id": "17a19743",
   "metadata": {},
   "outputs": [
    {
     "name": "stdout",
     "output_type": "stream",
     "text": [
      "16\n"
     ]
    }
   ],
   "source": [
    "# Example 2: Square a number\n",
    "\n",
    "square = lambda x: x**2\n",
    "result = square(4)\n",
    "\n",
    "print(result)"
   ]
  },
  {
   "cell_type": "code",
   "execution_count": null,
   "id": "3fcccb8d",
   "metadata": {},
   "outputs": [],
   "source": []
  }
 ],
 "metadata": {
  "kernelspec": {
   "display_name": "Python 3 (ipykernel)",
   "language": "python",
   "name": "python3"
  },
  "language_info": {
   "codemirror_mode": {
    "name": "ipython",
    "version": 3
   },
   "file_extension": ".py",
   "mimetype": "text/x-python",
   "name": "python",
   "nbconvert_exporter": "python",
   "pygments_lexer": "ipython3",
   "version": "3.10.9"
  }
 },
 "nbformat": 4,
 "nbformat_minor": 5
}
