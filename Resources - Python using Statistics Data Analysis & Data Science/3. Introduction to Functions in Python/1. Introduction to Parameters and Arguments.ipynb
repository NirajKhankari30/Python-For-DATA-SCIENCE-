{
 "cells": [
  {
   "cell_type": "markdown",
   "id": "08eae998",
   "metadata": {},
   "source": [
    "# Parameters and Arguments"
   ]
  },
  {
   "cell_type": "markdown",
   "id": "7eaacfa7",
   "metadata": {},
   "source": [
    "Functions are defined with parameters, which are placeholders for values that will be passed into the function when it is called. When the function is called, the actual values provided are called arguments, and they are assigned to the corresponding parameters of the function.\n",
    "\n",
    "Let's take a look at an example:"
   ]
  },
  {
   "cell_type": "code",
   "execution_count": 2,
   "id": "55af0234",
   "metadata": {},
   "outputs": [
    {
     "name": "stdout",
     "output_type": "stream",
     "text": [
      "The sum is: 8\n"
     ]
    }
   ],
   "source": [
    "def add_numbers(a, b):\n",
    "    sum = a + b\n",
    "    print(\"The sum is:\", sum)\n",
    "\n",
    "# Calling the add_numbers function with arguments 5 and 3\n",
    "add_numbers(5, 3)"
   ]
  },
  {
   "cell_type": "markdown",
   "id": "bc8100d7",
   "metadata": {},
   "source": [
    "In this case, the add_numbers function has two parameters, a and b. When we call the function add_numbers(5, 3), 5 is assigned to a, and 3 is assigned to b. The function calculates the sum of a and b and prints it out as \"The sum is: 8\"."
   ]
  },
  {
   "cell_type": "code",
   "execution_count": 3,
   "id": "8a5c80b4",
   "metadata": {},
   "outputs": [
    {
     "data": {
      "text/plain": [
       "20"
      ]
     },
     "execution_count": 3,
     "metadata": {},
     "output_type": "execute_result"
    }
   ],
   "source": [
    "# let's take an example of default parameters\n",
    "\n",
    "def my_func(a,b=4):\n",
    "  return (a*b)\n",
    "\n",
    "my_func(5)"
   ]
  },
  {
   "cell_type": "code",
   "execution_count": 4,
   "id": "31737bd5",
   "metadata": {},
   "outputs": [
    {
     "data": {
      "text/plain": [
       "30"
      ]
     },
     "execution_count": 4,
     "metadata": {},
     "output_type": "execute_result"
    }
   ],
   "source": [
    "# lets try to override the default parameters\n",
    "\n",
    "my_func(5, 6)"
   ]
  },
  {
   "cell_type": "code",
   "execution_count": 5,
   "id": "ead32ec6",
   "metadata": {},
   "outputs": [
    {
     "data": {
      "text/plain": [
       "10"
      ]
     },
     "execution_count": 5,
     "metadata": {},
     "output_type": "execute_result"
    }
   ],
   "source": [
    "# let's take an example for positional arguments\n",
    "\n",
    "def func(a,b,c):\n",
    "        return (a*b+c)\n",
    "\n",
    "func(3, 2, 4)"
   ]
  },
  {
   "cell_type": "code",
   "execution_count": 6,
   "id": "f6d4adf3",
   "metadata": {},
   "outputs": [
    {
     "name": "stdout",
     "output_type": "stream",
     "text": [
      "240\n",
      "240\n",
      "240\n"
     ]
    }
   ],
   "source": [
    "# let's take an example for keyword arguments\n",
    "\n",
    "def marks(math, science, english):\n",
    "          return math + science + english\n",
    "\n",
    "# default way of passing values\n",
    "print(marks(70, 80, 90))\n",
    "\n",
    "# calling function with keywords\n",
    "print(marks(math = 70, science = 80, english = 90))\n",
    "\n",
    "# calling function, by changing the position of arguments with keywords\n",
    "print(marks(science = 80, math = 70, english = 90))"
   ]
  },
  {
   "cell_type": "markdown",
   "id": "42b2db57",
   "metadata": {},
   "source": [
    "It's important to note that Python uses a concept called \"pass by object reference.\" This means that when you pass arguments to a function, a reference to the object is passed. If the object is mutable, such as a list, any modifications made to the object within the function will affect the original object outside the function. If the object is immutable, such as a string or number, the function operates on a copy of the object, and any modifications made within the function do not affect the original object.\n",
    "\n",
    "Here's an example to illustrate this behavior:"
   ]
  },
  {
   "cell_type": "code",
   "execution_count": 7,
   "id": "2f455884",
   "metadata": {},
   "outputs": [
    {
     "name": "stdout",
     "output_type": "stream",
     "text": [
      "[100, 2, 3, 4]\n"
     ]
    }
   ],
   "source": [
    "# pass by object reference\n",
    "\n",
    "def modify_list(my_list):\n",
    "    my_list.append(4)\n",
    "    my_list[0] = 100\n",
    "\n",
    "numbers = [1, 2, 3]\n",
    "modify_list(numbers)\n",
    "\n",
    "# Print the modified list\n",
    "print(numbers)"
   ]
  },
  {
   "cell_type": "markdown",
   "id": "68e94da3",
   "metadata": {},
   "source": [
    "In this example, the modify_list function takes a list as an argument and appends 4 to it and modifies the first element to 100. When we print the numbers list outside the function, the modifications made within the function are reflected in the original list."
   ]
  },
  {
   "cell_type": "code",
   "execution_count": null,
   "id": "aa312e3c",
   "metadata": {},
   "outputs": [],
   "source": []
  }
 ],
 "metadata": {
  "kernelspec": {
   "display_name": "Python 3 (ipykernel)",
   "language": "python",
   "name": "python3"
  },
  "language_info": {
   "codemirror_mode": {
    "name": "ipython",
    "version": 3
   },
   "file_extension": ".py",
   "mimetype": "text/x-python",
   "name": "python",
   "nbconvert_exporter": "python",
   "pygments_lexer": "ipython3",
   "version": "3.10.9"
  }
 },
 "nbformat": 4,
 "nbformat_minor": 5
}
