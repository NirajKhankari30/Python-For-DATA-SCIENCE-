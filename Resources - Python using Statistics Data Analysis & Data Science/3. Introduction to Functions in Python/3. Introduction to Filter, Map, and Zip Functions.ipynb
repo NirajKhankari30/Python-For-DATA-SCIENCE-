{
 "cells": [
  {
   "cell_type": "markdown",
   "id": "d8cccb65",
   "metadata": {},
   "source": [
    "# Filter Function\n",
    "\n",
    "The filter() function in Python is a built-in function that allows you to filter elements from an iterable based on a specified condition. It creates a new iterable containing only the elements that satisfy the given condition."
   ]
  },
  {
   "cell_type": "code",
   "execution_count": 1,
   "id": "36d5a254",
   "metadata": {},
   "outputs": [
    {
     "name": "stdout",
     "output_type": "stream",
     "text": [
      "[2, 4, 6, 8, 10]\n"
     ]
    }
   ],
   "source": [
    "# Define a function to filter even numbers\n",
    "def is_even(num):\n",
    "    return num % 2 == 0\n",
    "\n",
    "# Create a list of numbers\n",
    "numbers = [1, 2, 3, 4, 5, 6, 7, 8, 9, 10]\n",
    "\n",
    "# Use filter() to filter even numbers from the list\n",
    "filtered_numbers = filter(is_even, numbers)\n",
    "\n",
    "# Convert the filtered result into a list\n",
    "even_numbers = list(filtered_numbers)\n",
    "\n",
    "# Let's print the Output\n",
    "print(even_numbers)"
   ]
  },
  {
   "cell_type": "code",
   "execution_count": 2,
   "id": "8bfc5220",
   "metadata": {},
   "outputs": [
    {
     "name": "stdout",
     "output_type": "stream",
     "text": [
      "76\n",
      "54\n",
      "65\n"
     ]
    }
   ],
   "source": [
    "# Filter Function Example\n",
    "\n",
    "# creating a list named \"score\"\n",
    "score =[76, 23, 54, 12, 65, 43]\n",
    "\n",
    "# defining a function to check if the score is greater than 50.\n",
    "def score_check(score):\n",
    "\tif score > 50:\n",
    "\t\treturn True\n",
    "\telse:\n",
    "\t\treturn False\n",
    "\n",
    "# lets apply the filter to the list\n",
    "students_passed = filter(score_check, score)\n",
    "\n",
    "# lets print the output\n",
    "for i in students_passed:\n",
    "  print(i)"
   ]
  },
  {
   "cell_type": "markdown",
   "id": "32e0d5d9",
   "metadata": {},
   "source": [
    "# Map function"
   ]
  },
  {
   "cell_type": "markdown",
   "id": "391d705e",
   "metadata": {},
   "source": [
    "The map() function in Python is used to apply a given function to each element of an iterable (such as a list, tuple, or string) and returns an iterator with the results. It takes two arguments: the function to apply and the iterable to apply it on."
   ]
  },
  {
   "cell_type": "code",
   "execution_count": 3,
   "id": "b607da37",
   "metadata": {},
   "outputs": [
    {
     "name": "stdout",
     "output_type": "stream",
     "text": [
      "[1, 4, 9, 16, 25]\n"
     ]
    }
   ],
   "source": [
    "# Square each element in a list\n",
    "\n",
    "# lets take a list named as numbers\n",
    "numbers = [1, 2, 3, 4, 5]\n",
    "\n",
    "# lets create a function named as square\n",
    "def square(numbers):\n",
    "  return numbers**2\n",
    "\n",
    "# lets map the function to the list named as numbers\n",
    "squared_numbers = list(map(square, numbers))\n",
    "\n",
    "# lets print the values.\n",
    "print(squared_numbers)"
   ]
  },
  {
   "cell_type": "code",
   "execution_count": 4,
   "id": "8613b9b9",
   "metadata": {},
   "outputs": [
    {
     "name": "stdout",
     "output_type": "stream",
     "text": [
      "[77.0, 86.0, 59.0, 50.0]\n"
     ]
    }
   ],
   "source": [
    "# Convert a list of temperatures from Celsius to Fahrenheit\n",
    "\n",
    "# lets create a list of temperatures in celsius\n",
    "celsius_temperatures = [25, 30, 15, 10]\n",
    "\n",
    "# lets create a function called converter, which can convert the celsius temperature into fahrenheit temperature\n",
    "def converter(temp):\n",
    "  temp = (temp*9/5) + 32\n",
    "  return temp\n",
    "\n",
    "# lets map the converter function in the celsius temperatures list.\n",
    "fahrenheit_temperatures = list(map(converter, celsius_temperatures))\n",
    "\n",
    "# lets print the output\n",
    "print(fahrenheit_temperatures)"
   ]
  },
  {
   "cell_type": "markdown",
   "id": "03644c3a",
   "metadata": {},
   "source": [
    "# Zip\n",
    "The zip() function in Python is used to combine multiple iterables (such as lists, tuples, or strings) into a single iterator of tuples. Each tuple contains elements from all the iterables, paired together based on their positions. The resulting iterator stops when the shortest input iterable is exhausted.\n",
    "\n",
    "The zip() function takes in the iterables as arguments and returns an iterator that generates tuples. Here's the syntax:\n",
    "\n",
    "Let's see some examples to understand how the zip() function works:\n",
    "\n",
    "* Example 1: Combining Lists"
   ]
  },
  {
   "cell_type": "code",
   "execution_count": 5,
   "id": "fa2ed116",
   "metadata": {},
   "outputs": [
    {
     "name": "stdout",
     "output_type": "stream",
     "text": [
      "Alice 25\n",
      "Bob 30\n",
      "Charlie 35\n"
     ]
    }
   ],
   "source": [
    "# We have two lists, First List contains the name, and second list contains the ages.\n",
    "names = ['Alice', 'Bob', 'Charlie']\n",
    "ages = [25, 30, 35]\n",
    "\n",
    "# Zip the lists together\n",
    "combined = zip(names, ages)\n",
    "\n",
    "# Iterate over the combined iterator\n",
    "for name, age in combined:\n",
    "    print(name, age)"
   ]
  },
  {
   "cell_type": "markdown",
   "id": "5a5ae6d2",
   "metadata": {},
   "source": [
    "* Example 2: Unzipping Tuples"
   ]
  },
  {
   "cell_type": "code",
   "execution_count": 6,
   "id": "ca9f8d04",
   "metadata": {},
   "outputs": [
    {
     "name": "stdout",
     "output_type": "stream",
     "text": [
      "('Alice', 'Bob', 'Charlie')\n",
      "(25, 30, 35)\n"
     ]
    }
   ],
   "source": [
    "# lets take a list of students having the student's name and age.\n",
    "students = [('Alice', 25), ('Bob', 30), ('Charlie', 35)]\n",
    "\n",
    "# Unzip the tuples\n",
    "names, ages = zip(*students)\n",
    "\n",
    "# let's print the names and ages separately\n",
    "print(names)\n",
    "print(ages)"
   ]
  },
  {
   "cell_type": "markdown",
   "id": "bc69347b",
   "metadata": {},
   "source": [
    "In the last example, the zip(*students) syntax is used to unzip the tuples. The * operator is used to unpack the tuples, passing each element of the tuple as a separate argument to zip(). This effectively transposes the original list of tuples into separate lists."
   ]
  },
  {
   "cell_type": "code",
   "execution_count": null,
   "id": "e8b64ae1",
   "metadata": {},
   "outputs": [],
   "source": []
  }
 ],
 "metadata": {
  "kernelspec": {
   "display_name": "Python 3 (ipykernel)",
   "language": "python",
   "name": "python3"
  },
  "language_info": {
   "codemirror_mode": {
    "name": "ipython",
    "version": 3
   },
   "file_extension": ".py",
   "mimetype": "text/x-python",
   "name": "python",
   "nbconvert_exporter": "python",
   "pygments_lexer": "ipython3",
   "version": "3.10.9"
  }
 },
 "nbformat": 4,
 "nbformat_minor": 5
}
