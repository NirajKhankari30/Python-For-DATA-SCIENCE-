{
 "cells": [
  {
   "cell_type": "markdown",
   "id": "5fcb4fa4",
   "metadata": {},
   "source": [
    "# Encapsulation\n",
    "\n",
    "Encapsulation is a fundamental principle in object-oriented programming (OOP) that combines data and methods into a single unit called a class. It is the process of hiding internal details and providing a controlled interface to access and manipulate the data."
   ]
  },
  {
   "cell_type": "code",
   "execution_count": 1,
   "id": "c2c8ba60",
   "metadata": {},
   "outputs": [
    {
     "name": "stdout",
     "output_type": "stream",
     "text": [
      "Anita 36\n"
     ]
    }
   ],
   "source": [
    "# Lets create a class to combine data and methods\n",
    "class Person:\n",
    "    def __init__(self, name, _age):\n",
    "        # Initialize the 'name' attribute of the Person object\n",
    "        self.name = name\n",
    "        # Initialize the '_age' attribute of the Person object\n",
    "        self._age = _age\n",
    "    def display(self):\n",
    "        # Print the name and _age of the Person object\n",
    "        print(self.name, self._age)\n",
    "\n",
    "p1 = Person(\"Anita\", 36)\n",
    "\n",
    "# Call the 'display' method to print the name and _age of the Person object\n",
    "p1.display()"
   ]
  },
  {
   "cell_type": "code",
   "execution_count": 2,
   "id": "07134b3e",
   "metadata": {},
   "outputs": [
    {
     "name": "stdout",
     "output_type": "stream",
     "text": [
      "Anita 36\n"
     ]
    }
   ],
   "source": [
    "# Update the value of the 'age' attribute of the p1 object to 26\n",
    "p1.age=26\n",
    "\n",
    "# Call the 'display' method to print the name and _age of the p1 object\n",
    "p1.display()"
   ]
  },
  {
   "cell_type": "code",
   "execution_count": 4,
   "id": "5972652e",
   "metadata": {},
   "outputs": [
    {
     "name": "stdout",
     "output_type": "stream",
     "text": [
      "Anita 36\n",
      "Anita 26\n"
     ]
    }
   ],
   "source": [
    "# Create the Person class\n",
    "class Person:\n",
    "    def __init__(self, name, _age):\n",
    "        # Initialize the 'name' attribute of the Person object\n",
    "        self.name = name\n",
    "        # Initialize the '_age' attribute of the Person object\n",
    "        self._age = _age\n",
    "\n",
    "    def display(self):\n",
    "        # Print the name and _age of the Person object\n",
    "        print(self.name, self._age)\n",
    "\n",
    "    def modify_variable(self, new_age):\n",
    "        # Update the value of _age attribute with the new_age value\n",
    "        self._age = new_age\n",
    "\n",
    "\n",
    "# Create an instance of the Person class\n",
    "p1 = Person(\"Anita\", 36)\n",
    "\n",
    "# Display the initial name and age of the Person object\n",
    "p1.display()\n",
    "\n",
    "# Call the modify_variable method to update the age attribute\n",
    "p1.modify_variable(26)\n",
    "\n",
    "# Display the updated name and age of the Person object\n",
    "p1.display()"
   ]
  },
  {
   "cell_type": "code",
   "execution_count": null,
   "id": "3128f0a9",
   "metadata": {},
   "outputs": [],
   "source": []
  }
 ],
 "metadata": {
  "kernelspec": {
   "display_name": "Python 3 (ipykernel)",
   "language": "python",
   "name": "python3"
  },
  "language_info": {
   "codemirror_mode": {
    "name": "ipython",
    "version": 3
   },
   "file_extension": ".py",
   "mimetype": "text/x-python",
   "name": "python",
   "nbconvert_exporter": "python",
   "pygments_lexer": "ipython3",
   "version": "3.10.9"
  }
 },
 "nbformat": 4,
 "nbformat_minor": 5
}
