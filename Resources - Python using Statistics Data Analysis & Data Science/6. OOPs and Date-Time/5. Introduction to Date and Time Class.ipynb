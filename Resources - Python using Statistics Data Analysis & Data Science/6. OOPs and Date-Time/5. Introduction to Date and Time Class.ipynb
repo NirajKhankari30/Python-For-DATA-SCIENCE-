{
 "cells": [
  {
   "cell_type": "markdown",
   "id": "d0ab0602",
   "metadata": {},
   "source": [
    "# Date class\n",
    "The Date class is a common class found in many programming languages, including object-oriented programming (OOP) languages. It represents a specific date in a calendar system and provides various methods to manipulate and work with dates."
   ]
  },
  {
   "cell_type": "code",
   "execution_count": 1,
   "id": "9d04b652",
   "metadata": {},
   "outputs": [
    {
     "name": "stdout",
     "output_type": "stream",
     "text": [
      "Date is:  1998-07-19\n"
     ]
    }
   ],
   "source": [
    "from datetime import date\n",
    "\n",
    "# Create a date object representing July 19, 1998\n",
    "mydate = date(year=1998, month=7, day=19)\n",
    "\n",
    "# Print the date\n",
    "print(\"Date is: \", mydate)"
   ]
  },
  {
   "cell_type": "code",
   "execution_count": 2,
   "id": "e0f4879c",
   "metadata": {},
   "outputs": [
    {
     "name": "stdout",
     "output_type": "stream",
     "text": [
      "Current Date:  2023-07-20\n",
      "7\n",
      "2023\n",
      "20\n"
     ]
    }
   ],
   "source": [
    "# Get the current date\n",
    "print(\"Current Date: \", date.today())\n",
    "\n",
    "# Get the current month\n",
    "print(date.today().month)\n",
    "\n",
    "# get the current year\n",
    "print(date.today().year)\n",
    "\n",
    "# get the current day\n",
    "print(date.today().day)"
   ]
  },
  {
   "cell_type": "markdown",
   "id": "23da70cd",
   "metadata": {},
   "source": [
    "# Time class\n",
    "The Time class is a commonly used class in programming that represents a specific time of day. It allows developers to work with time-related data and perform operations on time values."
   ]
  },
  {
   "cell_type": "code",
   "execution_count": 3,
   "id": "9c4e8696",
   "metadata": {},
   "outputs": [
    {
     "name": "stdout",
     "output_type": "stream",
     "text": [
      "12:30:45\n",
      "00:15:00\n"
     ]
    }
   ],
   "source": [
    "from datetime import time\n",
    "\n",
    "# Create a time object with the specified hour, minute, and second\n",
    "mytime = time(hour=12, minute=30, second=45)\n",
    "\n",
    "# Display the time object\n",
    "print(mytime)\n",
    "\n",
    "# Create a time object with the specified minute\n",
    "mytime = time(minute=15)\n",
    "\n",
    "# Display the time object\n",
    "print(mytime)"
   ]
  },
  {
   "cell_type": "code",
   "execution_count": 4,
   "id": "b209289d",
   "metadata": {},
   "outputs": [
    {
     "name": "stdout",
     "output_type": "stream",
     "text": [
      "12:30:45\n",
      "12\n",
      "30\n",
      "45\n"
     ]
    }
   ],
   "source": [
    "# Create a time object with the specified hour, minute, and second\n",
    "mytime = time(hour=12, minute=30, second=45)\n",
    "\n",
    "# Display the time object\n",
    "print(mytime)\n",
    "\n",
    "# Access the components of the time object separately\n",
    "# Display the hour\n",
    "print(mytime.hour)\n",
    "\n",
    "# Display the Minute\n",
    "print(mytime.minute)\n",
    "\n",
    "# Display the Second\n",
    "print(mytime.second)"
   ]
  },
  {
   "cell_type": "code",
   "execution_count": null,
   "id": "36569165",
   "metadata": {},
   "outputs": [],
   "source": []
  }
 ],
 "metadata": {
  "kernelspec": {
   "display_name": "Python 3 (ipykernel)",
   "language": "python",
   "name": "python3"
  },
  "language_info": {
   "codemirror_mode": {
    "name": "ipython",
    "version": 3
   },
   "file_extension": ".py",
   "mimetype": "text/x-python",
   "name": "python",
   "nbconvert_exporter": "python",
   "pygments_lexer": "ipython3",
   "version": "3.10.9"
  }
 },
 "nbformat": 4,
 "nbformat_minor": 5
}
