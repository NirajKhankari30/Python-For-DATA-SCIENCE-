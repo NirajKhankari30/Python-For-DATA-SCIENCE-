{
 "cells": [
  {
   "cell_type": "markdown",
   "id": "07b5bfaf",
   "metadata": {},
   "source": [
    "# Inheritance\n",
    "Inheritance is a fundamental concept in object-oriented programming (OOP) that allows the creation of new classes based on existing classes. It enables the reuse of code and the establishment of hierarchical relationships between classes."
   ]
  },
  {
   "cell_type": "code",
   "execution_count": 1,
   "id": "f3bcca28",
   "metadata": {},
   "outputs": [
    {
     "name": "stdout",
     "output_type": "stream",
     "text": [
      "Anita 36\n",
      "Kiran 17\n"
     ]
    }
   ],
   "source": [
    "# Lets create a new class with existing class\n",
    "class Person:\n",
    "    def __init__(self, name, age):\n",
    "        # Initialize the 'name' attribute of the Person object\n",
    "        self.name = name\n",
    "        # Initialize the 'age' attribute of the Person object\n",
    "        self.age = age\n",
    "    def display(self):\n",
    "        # Print the name and age of the Person object\n",
    "        print(self.name, self.age)\n",
    "\n",
    "p1 = Person(\"Anita\", 36)\n",
    "\n",
    "# Call the 'display' method of the p1 object to print the name and age\n",
    "p1.display()\n",
    "\n",
    "class student(Person):\n",
    "    def __init__(self,name,age):\n",
    "        # Call the parent class's constructor to initialize name and age\n",
    "        super().__init__(name, age)\n",
    "\n",
    "s1=student(\"Kiran\", 17)\n",
    "\n",
    "# Call the 'display' method inherited from the Person class to print the name and age\n",
    "s1.display()"
   ]
  },
  {
   "cell_type": "code",
   "execution_count": null,
   "id": "6e9c6de4",
   "metadata": {},
   "outputs": [],
   "source": []
  }
 ],
 "metadata": {
  "kernelspec": {
   "display_name": "Python 3 (ipykernel)",
   "language": "python",
   "name": "python3"
  },
  "language_info": {
   "codemirror_mode": {
    "name": "ipython",
    "version": 3
   },
   "file_extension": ".py",
   "mimetype": "text/x-python",
   "name": "python",
   "nbconvert_exporter": "python",
   "pygments_lexer": "ipython3",
   "version": "3.10.9"
  }
 },
 "nbformat": 4,
 "nbformat_minor": 5
}
