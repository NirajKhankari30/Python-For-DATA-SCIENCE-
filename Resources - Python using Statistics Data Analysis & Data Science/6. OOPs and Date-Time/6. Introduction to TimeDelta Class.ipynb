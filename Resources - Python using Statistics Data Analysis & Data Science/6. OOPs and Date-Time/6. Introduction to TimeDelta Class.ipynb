{
 "cells": [
  {
   "cell_type": "markdown",
   "id": "f7d83d3d",
   "metadata": {},
   "source": [
    "# Timedelta class\n",
    "\n",
    "The Timedelta class is a class commonly used in programming to represent a duration or the difference between two points in time. It allows developers to perform calculations and manipulations on time intervals."
   ]
  },
  {
   "cell_type": "markdown",
   "id": "862d02da",
   "metadata": {},
   "source": [
    "Printing date and time after three months from now"
   ]
  },
  {
   "cell_type": "code",
   "execution_count": 2,
   "id": "08beb87a",
   "metadata": {},
   "outputs": [
    {
     "name": "stdout",
     "output_type": "stream",
     "text": [
      "2023-10-18 20:55:36.950347\n"
     ]
    }
   ],
   "source": [
    "# importing important library\n",
    "from datetime import datetime, timedelta\n",
    "\n",
    "\n",
    "# Get the current date and time\n",
    "todays_date = datetime.now()\n",
    "\n",
    "# Calculate the date after adding 90 days\n",
    "dateafter_months = todays_date + timedelta(days=90)\n",
    "\n",
    "# Display the resulting date\n",
    "print(dateafter_months)"
   ]
  },
  {
   "cell_type": "markdown",
   "id": "7f98eddb",
   "metadata": {},
   "source": [
    "Printing date and time 3 months before"
   ]
  },
  {
   "cell_type": "code",
   "execution_count": 3,
   "id": "bbff60a1",
   "metadata": {},
   "outputs": [
    {
     "name": "stdout",
     "output_type": "stream",
     "text": [
      "2023-04-21 20:55:36.950347\n"
     ]
    }
   ],
   "source": [
    "# Calculate the date before subtracting 90 days\n",
    "datebefore_months = todays_date - timedelta(days=90)\n",
    "\n",
    "# Display the resulting date\n",
    "print(datebefore_months)"
   ]
  },
  {
   "cell_type": "markdown",
   "id": "e9696d09",
   "metadata": {},
   "source": [
    "Total number of seconds in 30 days"
   ]
  },
  {
   "cell_type": "code",
   "execution_count": 4,
   "id": "8524571d",
   "metadata": {},
   "outputs": [
    {
     "name": "stdout",
     "output_type": "stream",
     "text": [
      "Total seconds in a month: 2592000.0\n"
     ]
    }
   ],
   "source": [
    "# Calculate the total number of seconds in a month (30 days)\n",
    "seconds_in_a_month = timedelta(days=30).total_seconds()\n",
    "\n",
    "# Display the result\n",
    "print(\"Total seconds in a month:\", seconds_in_a_month)"
   ]
  },
  {
   "cell_type": "code",
   "execution_count": null,
   "id": "9b0d70c1",
   "metadata": {},
   "outputs": [],
   "source": []
  }
 ],
 "metadata": {
  "kernelspec": {
   "display_name": "Python 3 (ipykernel)",
   "language": "python",
   "name": "python3"
  },
  "language_info": {
   "codemirror_mode": {
    "name": "ipython",
    "version": 3
   },
   "file_extension": ".py",
   "mimetype": "text/x-python",
   "name": "python",
   "nbconvert_exporter": "python",
   "pygments_lexer": "ipython3",
   "version": "3.10.9"
  }
 },
 "nbformat": 4,
 "nbformat_minor": 5
}
