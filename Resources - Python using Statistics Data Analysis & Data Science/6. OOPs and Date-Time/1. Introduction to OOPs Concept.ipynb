{
 "cells": [
  {
   "cell_type": "markdown",
   "id": "4fb5ab55",
   "metadata": {},
   "source": [
    "# Introduction to OOPs Concept\n",
    "\n",
    "Object-Oriented Programming (OOP) is a programming paradigm that organizes code and data into reusable structures called objects. It revolves around the concept of objects, which are instances of classes that encapsulate data and behaviors."
   ]
  },
  {
   "cell_type": "markdown",
   "id": "af1bc2e2",
   "metadata": {},
   "source": [
    "### Classes and Objects\n",
    "\n",
    "Classes and objects are fundamental concepts in object-oriented programming (OOP). They are key building blocks that enable the implementation of the OOP paradigm."
   ]
  },
  {
   "cell_type": "code",
   "execution_count": 1,
   "id": "cdb63155",
   "metadata": {},
   "outputs": [
    {
     "name": "stdout",
     "output_type": "stream",
     "text": [
      "Nikhil\n",
      "36\n"
     ]
    }
   ],
   "source": [
    "# Lets create a class\n",
    "class Person:\n",
    "    def __init__(self, name, age):\n",
    "        # Initialize the 'name' attribute of the Person object\n",
    "        self.name = name\n",
    "        # Initialize the 'age' attribute of the Person object\n",
    "        self.age = age\n",
    "\n",
    "p1 = Person(\"Nikhil\", 36)\n",
    "\n",
    "# Print the 'name' attribute of the Person object, which is \"Nikhil\"\n",
    "print(p1.name)\n",
    "\n",
    "# Print the 'age' attribute of the Person object, which is 36\n",
    "print(p1.age)"
   ]
  },
  {
   "cell_type": "code",
   "execution_count": 2,
   "id": "d8955d22",
   "metadata": {},
   "outputs": [
    {
     "ename": "AttributeError",
     "evalue": "'Person' object has no attribute 'age'",
     "output_type": "error",
     "traceback": [
      "\u001b[1;31m---------------------------------------------------------------------------\u001b[0m",
      "\u001b[1;31mAttributeError\u001b[0m                            Traceback (most recent call last)",
      "Cell \u001b[1;32mIn[2], line 11\u001b[0m\n\u001b[0;32m      8\u001b[0m \u001b[38;5;28;01mdel\u001b[39;00m p1\u001b[38;5;241m.\u001b[39mage\n\u001b[0;32m     10\u001b[0m \u001b[38;5;66;03m# This line will raise an AttributeError\u001b[39;00m\n\u001b[1;32m---> 11\u001b[0m \u001b[43mp1\u001b[49m\u001b[38;5;241;43m.\u001b[39;49m\u001b[43mage\u001b[49m\n",
      "\u001b[1;31mAttributeError\u001b[0m: 'Person' object has no attribute 'age'"
     ]
    }
   ],
   "source": [
    "# Update the 'age' attribute of the p1 object to 26\n",
    "p1.age=26\n",
    "\n",
    "# Print the updated 'age' attribute of the p1 object, which is 26\n",
    "p1.age\n",
    "\n",
    "# Delete the 'age' attribute of the p1 object\n",
    "del p1.age\n",
    "\n",
    "# This line will raise an AttributeError\n",
    "p1.age"
   ]
  },
  {
   "cell_type": "code",
   "execution_count": null,
   "id": "5c1d7b49",
   "metadata": {},
   "outputs": [],
   "source": []
  }
 ],
 "metadata": {
  "kernelspec": {
   "display_name": "Python 3 (ipykernel)",
   "language": "python",
   "name": "python3"
  },
  "language_info": {
   "codemirror_mode": {
    "name": "ipython",
    "version": 3
   },
   "file_extension": ".py",
   "mimetype": "text/x-python",
   "name": "python",
   "nbconvert_exporter": "python",
   "pygments_lexer": "ipython3",
   "version": "3.10.9"
  }
 },
 "nbformat": 4,
 "nbformat_minor": 5
}
