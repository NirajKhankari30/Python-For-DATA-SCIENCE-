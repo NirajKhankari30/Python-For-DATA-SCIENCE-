{
 "cells": [
  {
   "cell_type": "markdown",
   "id": "6f88705a",
   "metadata": {},
   "source": [
    "# Polymorphism\n",
    "Polymorphism is a fundamental concept in object-oriented programming (OOP) that allows objects of different classes to be treated as objects of a common superclass. It enables objects to exhibit different behaviors based on their specific class type while sharing a common interface."
   ]
  },
  {
   "cell_type": "markdown",
   "id": "c954032a",
   "metadata": {},
   "source": [
    "### Define three classes having function with same name"
   ]
  },
  {
   "cell_type": "code",
   "execution_count": 1,
   "id": "b802a654",
   "metadata": {},
   "outputs": [],
   "source": [
    "# In this code, we define three classes: SBI, ICICI, and HDFC.\n",
    "# Each class represents a bank and has a method called rate_of_interest().\n",
    "\n",
    "class SBI:\n",
    "    def rate_of_interest(self):\n",
    "        return 8\n",
    "        # The rate_of_interest() method of the SBI class returns the rate of interest offered by the SBI bank.\n",
    "        # In this case, it returns the value 8.\n",
    "\n",
    "class ICICI:\n",
    "    def rate_of_interest(self):\n",
    "        return 4\n",
    "        # The rate_of_interest() method of the ICICI class returns the rate of interest offered by the ICICI bank.\n",
    "        # In this case, it returns the value 4.\n",
    "\n",
    "\n",
    "class HDFC:\n",
    "    def rate_of_interest(self):\n",
    "        return 7\n",
    "        # The rate_of_interest() method of the HDFC class returns the rate of interest offered by the HDFC bank.\n",
    "        # In this case, it returns the value 7."
   ]
  },
  {
   "cell_type": "markdown",
   "id": "45c3b01a",
   "metadata": {},
   "source": [
    "### Common Interface\n",
    "\n",
    "The common interface is defined as an abstract class or an interface in most programming languages. It serves as a contract or blueprint that specifies the methods that must be implemented by any class that implements the interface. This promotes code reusability, modularity, and enables polymorphism."
   ]
  },
  {
   "cell_type": "code",
   "execution_count": 2,
   "id": "b184c109",
   "metadata": {},
   "outputs": [],
   "source": [
    "# Lets create a class\n",
    "def common_interest(bank):\n",
    "    return bank.rate_of_interest()"
   ]
  },
  {
   "cell_type": "markdown",
   "id": "152230c6",
   "metadata": {},
   "source": [
    "### Creating objects\n",
    "Creating objects is a fundamental concept in object-oriented programming (OOP) that involves the instantiation of a class to create individual instances known as objects. An object represents a real-world entity or concept and encapsulates both data (attributes) and behaviors (methods) associated with that entity."
   ]
  },
  {
   "cell_type": "code",
   "execution_count": 3,
   "id": "ea2a5ba7",
   "metadata": {},
   "outputs": [],
   "source": [
    "# Lets create objects\n",
    "s=SBI()\n",
    "ic=ICICI()\n",
    "h=HDFC()"
   ]
  },
  {
   "cell_type": "markdown",
   "id": "243dcf6c",
   "metadata": {},
   "source": [
    "### Passing objects in the interface"
   ]
  },
  {
   "cell_type": "code",
   "execution_count": 4,
   "id": "b9159770",
   "metadata": {},
   "outputs": [
    {
     "data": {
      "text/plain": [
       "8"
      ]
     },
     "execution_count": 4,
     "metadata": {},
     "output_type": "execute_result"
    }
   ],
   "source": [
    "common_interest(s)"
   ]
  },
  {
   "cell_type": "code",
   "execution_count": 5,
   "id": "e232689a",
   "metadata": {},
   "outputs": [
    {
     "data": {
      "text/plain": [
       "4"
      ]
     },
     "execution_count": 5,
     "metadata": {},
     "output_type": "execute_result"
    }
   ],
   "source": [
    "common_interest(ic)"
   ]
  },
  {
   "cell_type": "code",
   "execution_count": 6,
   "id": "a7c2b156",
   "metadata": {},
   "outputs": [
    {
     "data": {
      "text/plain": [
       "7"
      ]
     },
     "execution_count": 6,
     "metadata": {},
     "output_type": "execute_result"
    }
   ],
   "source": [
    "common_interest(h)"
   ]
  },
  {
   "cell_type": "code",
   "execution_count": null,
   "id": "4add6667",
   "metadata": {},
   "outputs": [],
   "source": []
  }
 ],
 "metadata": {
  "kernelspec": {
   "display_name": "Python 3 (ipykernel)",
   "language": "python",
   "name": "python3"
  },
  "language_info": {
   "codemirror_mode": {
    "name": "ipython",
    "version": 3
   },
   "file_extension": ".py",
   "mimetype": "text/x-python",
   "name": "python",
   "nbconvert_exporter": "python",
   "pygments_lexer": "ipython3",
   "version": "3.10.9"
  }
 },
 "nbformat": 4,
 "nbformat_minor": 5
}
