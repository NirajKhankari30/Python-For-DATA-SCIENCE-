{
 "cells": [
  {
   "cell_type": "markdown",
   "id": "08a5f0b6",
   "metadata": {},
   "source": [
    "# Break statement\n",
    "\n",
    "The break statement is used to prematurely exit a loop when a certain condition is met. When encountered, the break statement terminates the execution of the innermost loop and transfers control to the next statement after the loop."
   ]
  },
  {
   "cell_type": "code",
   "execution_count": 2,
   "id": "f50a9cea",
   "metadata": {},
   "outputs": [
    {
     "name": "stdout",
     "output_type": "stream",
     "text": [
      "1\n",
      "2\n",
      "3\n",
      "4\n",
      "5\n"
     ]
    }
   ],
   "source": [
    "# Lets take an example\n",
    "for i in range(1,10):\n",
    "\n",
    "    # Print the value of i\n",
    "    print(i)\n",
    "    if i==5:\n",
    "\n",
    "        # Exit the loop if i is equal to 5\n",
    "        break"
   ]
  },
  {
   "cell_type": "markdown",
   "id": "fbd9678d",
   "metadata": {},
   "source": [
    "# Continue statement\n",
    "\n",
    "The continue statement is used to skip the remaining code within a loop iteration and move to the next iteration. When encountered, the continue statement immediately jumps to the next iteration without executing the remaining code in the loop body."
   ]
  },
  {
   "cell_type": "code",
   "execution_count": 3,
   "id": "25db7d55",
   "metadata": {},
   "outputs": [
    {
     "name": "stdout",
     "output_type": "stream",
     "text": [
      "1\n",
      "2\n",
      "3\n",
      "4\n",
      "6\n",
      "7\n",
      "8\n",
      "9\n"
     ]
    }
   ],
   "source": [
    "# Lets take an example\n",
    "for i in range(1,10):\n",
    "    if i==5:\n",
    "\n",
    "        # Skip the current iteration if i is equal to 5\n",
    "        continue\n",
    "    # Print the value of i\n",
    "    print(i)"
   ]
  },
  {
   "cell_type": "code",
   "execution_count": null,
   "id": "0a03baf4",
   "metadata": {},
   "outputs": [],
   "source": []
  }
 ],
 "metadata": {
  "kernelspec": {
   "display_name": "Python 3 (ipykernel)",
   "language": "python",
   "name": "python3"
  },
  "language_info": {
   "codemirror_mode": {
    "name": "ipython",
    "version": 3
   },
   "file_extension": ".py",
   "mimetype": "text/x-python",
   "name": "python",
   "nbconvert_exporter": "python",
   "pygments_lexer": "ipython3",
   "version": "3.10.9"
  }
 },
 "nbformat": 4,
 "nbformat_minor": 5
}
