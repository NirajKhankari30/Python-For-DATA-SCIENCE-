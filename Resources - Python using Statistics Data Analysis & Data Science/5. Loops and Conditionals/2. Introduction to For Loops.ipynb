{
 "cells": [
  {
   "cell_type": "markdown",
   "id": "12241690",
   "metadata": {},
   "source": [
    "# For loop\n",
    "\n",
    "\n",
    "A for loop in Python is used to iterate over a sequence (such as a list, tuple, string, or range) or any iterable object. It allows you to perform a certain block of code repeatedly for each item in the sequence."
   ]
  },
  {
   "cell_type": "code",
   "execution_count": 1,
   "id": "7a22e2de",
   "metadata": {},
   "outputs": [
    {
     "name": "stdout",
     "output_type": "stream",
     "text": [
      "Delhi\n",
      "Mumbai\n",
      "Kolkata\n",
      "Bangalore\n",
      "Chennai\n"
     ]
    }
   ],
   "source": [
    "# Lets create a list\n",
    "a=['Delhi','Mumbai','Kolkata','Bangalore','Chennai']\n",
    "\n",
    "for city in a:\n",
    "    # Print each city in the list\n",
    "    print(city)"
   ]
  },
  {
   "cell_type": "code",
   "execution_count": 2,
   "id": "8815a05d",
   "metadata": {},
   "outputs": [
    {
     "name": "stdout",
     "output_type": "stream",
     "text": [
      "5 not divisible by 2\n",
      "3 not divisible by 2\n"
     ]
    }
   ],
   "source": [
    "# Lets create a list\n",
    "s=[2,6,5,8,3]\n",
    "\n",
    "for i in s:\n",
    "    if(i%2!=0):\n",
    "\n",
    "        # Print the number if it's not divisible by 2\n",
    "        print(i,'not divisible by 2')"
   ]
  },
  {
   "cell_type": "code",
   "execution_count": null,
   "id": "753a0eb8",
   "metadata": {},
   "outputs": [],
   "source": []
  }
 ],
 "metadata": {
  "kernelspec": {
   "display_name": "Python 3 (ipykernel)",
   "language": "python",
   "name": "python3"
  },
  "language_info": {
   "codemirror_mode": {
    "name": "ipython",
    "version": 3
   },
   "file_extension": ".py",
   "mimetype": "text/x-python",
   "name": "python",
   "nbconvert_exporter": "python",
   "pygments_lexer": "ipython3",
   "version": "3.10.9"
  }
 },
 "nbformat": 4,
 "nbformat_minor": 5
}
