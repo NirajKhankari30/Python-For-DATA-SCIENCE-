{
 "cells": [
  {
   "cell_type": "markdown",
   "id": "40441311",
   "metadata": {},
   "source": [
    "# Nested Loops and Conditional Statements"
   ]
  },
  {
   "cell_type": "markdown",
   "id": "315d883c",
   "metadata": {},
   "source": [
    "Nested statements in Python refer to the practice of having one statement or block of code inside another statement or block of code. This is often used to perform more complex operations and control the flow of execution based on multiple conditions. Here's an example of nested statements in Python:"
   ]
  },
  {
   "cell_type": "code",
   "execution_count": 1,
   "id": "3edcb165",
   "metadata": {},
   "outputs": [
    {
     "name": "stdout",
     "output_type": "stream",
     "text": [
      "Outer loop: 0\n",
      "Inner loop: 0\n",
      "Inner loop: 1\n",
      "Outer loop: 1\n",
      "Inner loop: 0\n",
      "Inner loop: 1\n",
      "Outer loop: 2\n",
      "Inner loop: 0\n",
      "Inner loop: 1\n"
     ]
    }
   ],
   "source": [
    "# Lets take an example\n",
    "for i in range(3):\n",
    "    # Print the current value of i in the outer loop\n",
    "    print(\"Outer loop:\", i)\n",
    "    for j in range(2):\n",
    "        # Print the current value of j in the inner loop\n",
    "        print(\"Inner loop:\", j)"
   ]
  },
  {
   "cell_type": "markdown",
   "id": "c8ec2694",
   "metadata": {},
   "source": [
    "In this example, there is an outer for loop that iterates from 0 to 2. Inside the outer loop, there is a nested for loop that iterates from 0 to 1. The inner loop is executed for each iteration of the outer loop, resulting in the printing of both the outer and inner loop values.\n",
    "\n",
    "*Nested statements are a powerful tool for creating complex program logic and controlling the flow of execution in Python. They allow you to combine multiple conditions and operations to achieve the desired behavior in your code.*"
   ]
  },
  {
   "cell_type": "code",
   "execution_count": 2,
   "id": "d5f1d92b",
   "metadata": {},
   "outputs": [
    {
     "name": "stdout",
     "output_type": "stream",
     "text": [
      "x is positive\n",
      "x is odd\n"
     ]
    }
   ],
   "source": [
    "# Lets take an example\n",
    "x = 5\n",
    "\n",
    "if x > 0:\n",
    "    # Print a message indicating that x is positive\n",
    "    print(\"x is positive\")\n",
    "    if x % 2 == 0:\n",
    "        # Print a message indicating that x is even\n",
    "        print(\"x is even\")\n",
    "    else:\n",
    "        # Print a message indicating that x is odd\n",
    "        print(\"x is odd\")\n",
    "else:\n",
    "    # Print a message indicating that x is not positive\n",
    "    print(\"x is not positive\")"
   ]
  },
  {
   "cell_type": "markdown",
   "id": "f29179c7",
   "metadata": {},
   "source": [
    "In this example, there is an outer if statement that checks if x is greater than 0. If it is, the code inside the outer if statement is executed, which includes another if statement nested inside. The nested if statement checks if x is even or odd and prints the corresponding message.\n",
    "\n",
    "Nested statements can also be used with other types of statements, such as loops and functions. Here's an example of a nested loop:"
   ]
  },
  {
   "cell_type": "markdown",
   "id": "d629ca1c",
   "metadata": {},
   "source": [
    "#  Nested loop with a conditional statement:"
   ]
  },
  {
   "cell_type": "code",
   "execution_count": 3,
   "id": "7d325a11",
   "metadata": {},
   "outputs": [
    {
     "name": "stdout",
     "output_type": "stream",
     "text": [
      "Outer loop iteration: 1\n",
      "Inner loop iteration: 1\n",
      "Both i and j are odd\n",
      "Inner loop iteration: 2\n",
      "i is odd, j is even\n",
      "Inner loop iteration: 3\n",
      "Both i and j are odd\n",
      "\n",
      "Outer loop iteration: 2\n",
      "Inner loop iteration: 1\n",
      "i is even, j is odd\n",
      "Inner loop iteration: 2\n",
      "Both i and j are even\n",
      "Inner loop iteration: 3\n",
      "i is even, j is odd\n",
      "\n",
      "Outer loop iteration: 3\n",
      "Inner loop iteration: 1\n",
      "Both i and j are odd\n",
      "Inner loop iteration: 2\n",
      "i is odd, j is even\n",
      "Inner loop iteration: 3\n",
      "Both i and j are odd\n",
      "\n"
     ]
    }
   ],
   "source": [
    "# lets take an example, where nested conditional statements are used for nested loops\n",
    "\n",
    "# outer loop\n",
    "for i in range(1, 4):\n",
    "    print(\"Outer loop iteration:\", i)\n",
    "\n",
    "    # inner loop\n",
    "    for j in range(1, 4):\n",
    "        print(\"Inner loop iteration:\", j)\n",
    "\n",
    "        # outer condition\n",
    "        if i % 2 == 0:\n",
    "            # inner condition\n",
    "            if j % 2 == 0:\n",
    "                print(\"Both i and j are even\")\n",
    "            else:\n",
    "                print(\"i is even, j is odd\")\n",
    "        else:\n",
    "            if j % 2 == 0:\n",
    "                print(\"i is odd, j is even\")\n",
    "            else:\n",
    "                print(\"Both i and j are odd\")\n",
    "\n",
    "    print()  # Print an empty line after each iteration of the outer loop"
   ]
  },
  {
   "cell_type": "markdown",
   "id": "bb6e6308",
   "metadata": {},
   "source": [
    "In this example, we have an outer loop that iterates from 1 to 3, and an inner loop that also iterates from 1 to 3. Inside the nested loops, we have a conditional statement that checks if the values of i and j are equal. If they are equal, it prints a message stating that they are equal. Otherwise, it prints a message stating that they are not equal."
   ]
  },
  {
   "cell_type": "code",
   "execution_count": null,
   "id": "7d16836f",
   "metadata": {},
   "outputs": [],
   "source": []
  }
 ],
 "metadata": {
  "kernelspec": {
   "display_name": "Python 3 (ipykernel)",
   "language": "python",
   "name": "python3"
  },
  "language_info": {
   "codemirror_mode": {
    "name": "ipython",
    "version": 3
   },
   "file_extension": ".py",
   "mimetype": "text/x-python",
   "name": "python",
   "nbconvert_exporter": "python",
   "pygments_lexer": "ipython3",
   "version": "3.10.9"
  }
 },
 "nbformat": 4,
 "nbformat_minor": 5
}
