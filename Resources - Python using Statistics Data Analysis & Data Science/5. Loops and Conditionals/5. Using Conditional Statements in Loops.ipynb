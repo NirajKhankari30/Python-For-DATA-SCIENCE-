{
 "cells": [
  {
   "cell_type": "markdown",
   "id": "a80de972",
   "metadata": {},
   "source": [
    "# Using Conditional Statements in Loops"
   ]
  },
  {
   "cell_type": "markdown",
   "id": "db482150",
   "metadata": {},
   "source": [
    "Conditional statements can be used in loops to control the flow of execution based on certain conditions. Here are a few examples of using conditional statements in loops in Python:\n",
    "\n",
    "**For Loop with Conditional Statement:**"
   ]
  },
  {
   "cell_type": "code",
   "execution_count": 1,
   "id": "73887a2d",
   "metadata": {},
   "outputs": [
    {
     "name": "stdout",
     "output_type": "stream",
     "text": [
      "1 is odd\n",
      "2 is even\n",
      "3 is odd\n",
      "4 is even\n",
      "5 is odd\n",
      "6 is even\n",
      "7 is odd\n",
      "8 is even\n",
      "9 is odd\n",
      "10 is even\n"
     ]
    }
   ],
   "source": [
    "# Lets create a list\n",
    "numbers = [1, 2, 3, 4, 5, 6, 7, 8, 9, 10]\n",
    "\n",
    "for num in numbers:\n",
    "    if num % 2 == 0:\n",
    "\n",
    "        # Print the number and indicate that it is even\n",
    "        print(num, \"is even\")\n",
    "    else:\n",
    "\n",
    "        # Print the number and indicate that it is odd\n",
    "        print(num, \"is odd\")"
   ]
  },
  {
   "cell_type": "markdown",
   "id": "f7e412df",
   "metadata": {},
   "source": [
    "In this example, a for loop iterates over a list of numbers. Within the loop, a conditional statement is used to check if the current number is even or odd.\n",
    "\n",
    "**While Loop with Conditional Statement:**"
   ]
  },
  {
   "cell_type": "code",
   "execution_count": 2,
   "id": "23698035",
   "metadata": {},
   "outputs": [
    {
     "name": "stdout",
     "output_type": "stream",
     "text": [
      "Count: 0\n",
      "Count: 1\n",
      "Count: 2\n",
      "Count: 3\n",
      "Count: 4\n"
     ]
    }
   ],
   "source": [
    "# Lets take an example\n",
    "count = 0\n",
    "\n",
    "while count < 5:\n",
    "    # Print the current value of count\n",
    "    print(\"Count:\", count)\n",
    "    count += 1"
   ]
  },
  {
   "cell_type": "markdown",
   "id": "052b4e59",
   "metadata": {},
   "source": [
    "In this example, a while loop is used to execute a block of code as long as the condition count < 5 is true. The loop continues until the count reaches 5.\n",
    "\n",
    "**Loop Control Statements:**\n",
    "\n",
    "Conditional statements can be combined with loop control statements like break and continue to further control the loop execution."
   ]
  },
  {
   "cell_type": "code",
   "execution_count": 4,
   "id": "c8048eac",
   "metadata": {},
   "outputs": [
    {
     "name": "stdout",
     "output_type": "stream",
     "text": [
      "1\n",
      "3\n"
     ]
    }
   ],
   "source": [
    "# Lets create a list\n",
    "numbers = [1, 2, 3, 4, 5, 6, 7, 8, 9, 10]\n",
    "\n",
    "for num in numbers:\n",
    "    if num == 5:\n",
    "        break  # exit thea loop if num is 5\n",
    "    if num % 2 == 0:\n",
    "        continue  # skip even numbers\n",
    "    print(num)"
   ]
  },
  {
   "cell_type": "markdown",
   "id": "273dfce7",
   "metadata": {},
   "source": [
    "In this example, the loop iterates over a list of numbers. If the current number is 5, the loop is terminated using the break statement. If the number is even, it is skipped using the continue statement.\n",
    "\n",
    "*Conditional statements in loops allow you to control the flow of execution based on specific conditions, enabling you to perform different actions or skip certain iterations as needed.*"
   ]
  },
  {
   "cell_type": "code",
   "execution_count": null,
   "id": "3d4678df",
   "metadata": {},
   "outputs": [],
   "source": []
  }
 ],
 "metadata": {
  "kernelspec": {
   "display_name": "Python 3 (ipykernel)",
   "language": "python",
   "name": "python3"
  },
  "language_info": {
   "codemirror_mode": {
    "name": "ipython",
    "version": 3
   },
   "file_extension": ".py",
   "mimetype": "text/x-python",
   "name": "python",
   "nbconvert_exporter": "python",
   "pygments_lexer": "ipython3",
   "version": "3.10.9"
  }
 },
 "nbformat": 4,
 "nbformat_minor": 5
}
