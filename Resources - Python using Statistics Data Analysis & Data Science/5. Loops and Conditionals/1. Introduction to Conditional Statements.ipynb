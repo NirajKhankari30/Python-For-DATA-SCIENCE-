{
 "cells": [
  {
   "cell_type": "markdown",
   "id": "31b745f4",
   "metadata": {},
   "source": [
    "# Conditional Statements\n",
    "\n",
    "In Python, conditional statements allow you to make decisions based on certain conditions. They help control the flow of your program by executing different blocks of code depending on whether a condition is true or false."
   ]
  },
  {
   "cell_type": "markdown",
   "id": "cb365e4c",
   "metadata": {},
   "source": [
    "### If Statement:\n",
    "\n",
    "The if statement is used in programming to execute a block of code only if a certain condition is true. It allows you to control the flow of execution based on the evaluation of a Boolean expression."
   ]
  },
  {
   "cell_type": "code",
   "execution_count": 1,
   "id": "79fc1b05",
   "metadata": {},
   "outputs": [
    {
     "name": "stdout",
     "output_type": "stream",
     "text": [
      "x is greater than 0\n"
     ]
    }
   ],
   "source": [
    "# Assign a value of 3 to the variable x\n",
    "x=3\n",
    "if(x>0):\n",
    "\n",
    "    # Print the message if x is greater than 0\n",
    "    print('x is greater than 0')"
   ]
  },
  {
   "cell_type": "markdown",
   "id": "366e2814",
   "metadata": {},
   "source": [
    "### If-Else Statement:\n",
    "\n",
    "The if-else statement is used in programming to execute one block of code if a certain condition is true, and another block of code if the condition is false. It allows for branching logic based on the evaluation of a Boolean expression."
   ]
  },
  {
   "cell_type": "code",
   "execution_count": 2,
   "id": "f68c8ada",
   "metadata": {
    "scrolled": true
   },
   "outputs": [
    {
     "name": "stdout",
     "output_type": "stream",
     "text": [
      "x is not divisible by 2\n"
     ]
    }
   ],
   "source": [
    "# Assign a value of 5 to the variable x\n",
    "x=5\n",
    "if(x%2==0):\n",
    "\n",
    "    # Print the message if x is divisible by 2\n",
    "    print('x is divisible by 2')\n",
    "else:\n",
    "\n",
    "    # Print the message if x is not divisible by 2\n",
    "    print('x is not divisible by 2')"
   ]
  },
  {
   "cell_type": "markdown",
   "id": "e7a6d1ce",
   "metadata": {},
   "source": [
    "### If-Elif-Else Statement:\n",
    "\n",
    "The if-elif-else statement is an extension of the if-else statement and is used when there are multiple conditions to be evaluated. It allows for branching logic based on multiple conditions."
   ]
  },
  {
   "cell_type": "code",
   "execution_count": 3,
   "id": "af1bfe0e",
   "metadata": {},
   "outputs": [
    {
     "name": "stdout",
     "output_type": "stream",
     "text": [
      "y is greater than 30\n"
     ]
    }
   ],
   "source": [
    "# Assign a value of 34 to the variable y\n",
    "y=34\n",
    "if(y<10):\n",
    "\n",
    "    # Print the message if y is less than 10\n",
    "    print('y is less than 10')\n",
    "elif(y>10 and y<30):\n",
    "\n",
    "    # Print the message if y is between 10 and 30\n",
    "    print('y is between 10 and 30')\n",
    "else:\n",
    "\n",
    "    # Print the message if y is greater than 30\n",
    "    print('y is greater than 30')"
   ]
  },
  {
   "cell_type": "code",
   "execution_count": null,
   "id": "cde739d8",
   "metadata": {},
   "outputs": [],
   "source": []
  }
 ],
 "metadata": {
  "kernelspec": {
   "display_name": "Python 3 (ipykernel)",
   "language": "python",
   "name": "python3"
  },
  "language_info": {
   "codemirror_mode": {
    "name": "ipython",
    "version": 3
   },
   "file_extension": ".py",
   "mimetype": "text/x-python",
   "name": "python",
   "nbconvert_exporter": "python",
   "pygments_lexer": "ipython3",
   "version": "3.10.9"
  }
 },
 "nbformat": 4,
 "nbformat_minor": 5
}
