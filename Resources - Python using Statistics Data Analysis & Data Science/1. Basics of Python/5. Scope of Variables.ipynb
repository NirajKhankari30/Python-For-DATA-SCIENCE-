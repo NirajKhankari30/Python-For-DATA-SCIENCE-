{
 "cells": [
  {
   "cell_type": "markdown",
   "id": "50f4d2e3",
   "metadata": {},
   "source": [
    "# Scope of Variables"
   ]
  },
  {
   "cell_type": "markdown",
   "id": "147b1d14",
   "metadata": {},
   "source": [
    "## Local Variables\n",
    "\n",
    " * A local variable is a variable that is defined within the scope of a function or a block of code. Local variables are only accessible within the block or function where they are defined. They have a limited lifespan and exist only as long as the block or function is being executed."
   ]
  },
  {
   "cell_type": "code",
   "execution_count": 1,
   "id": "b8419cb8",
   "metadata": {},
   "outputs": [
    {
     "name": "stdout",
     "output_type": "stream",
     "text": [
      "10\n"
     ]
    },
    {
     "ename": "NameError",
     "evalue": "name 'a' is not defined",
     "output_type": "error",
     "traceback": [
      "\u001b[1;31m---------------------------------------------------------------------------\u001b[0m",
      "\u001b[1;31mNameError\u001b[0m                                 Traceback (most recent call last)",
      "Cell \u001b[1;32mIn[1], line 9\u001b[0m\n\u001b[0;32m      6\u001b[0m func()  \u001b[38;5;66;03m# Output: 10\u001b[39;00m\n\u001b[0;32m      8\u001b[0m \u001b[38;5;66;03m# Trying to access the local variable outside the function will result in an error\u001b[39;00m\n\u001b[1;32m----> 9\u001b[0m \u001b[38;5;28mprint\u001b[39m(\u001b[43ma\u001b[49m)\n",
      "\u001b[1;31mNameError\u001b[0m: name 'a' is not defined"
     ]
    }
   ],
   "source": [
    "def func():\n",
    "    a = 10 # a is a local variable defined within the function\n",
    "    b = a + 15\n",
    "    print(a)\n",
    "\n",
    "func()  # Output: 10\n",
    "\n",
    "# Trying to access the local variable outside the function will result in an error\n",
    "print(a)  # Raises NameError: name 'a' is not defined"
   ]
  },
  {
   "cell_type": "code",
   "execution_count": 2,
   "id": "d192bb60",
   "metadata": {},
   "outputs": [
    {
     "name": "stdout",
     "output_type": "stream",
     "text": [
      "10\n"
     ]
    },
    {
     "ename": "NameError",
     "evalue": "name 'a' is not defined",
     "output_type": "error",
     "traceback": [
      "\u001b[1;31m---------------------------------------------------------------------------\u001b[0m",
      "\u001b[1;31mNameError\u001b[0m                                 Traceback (most recent call last)",
      "Cell \u001b[1;32mIn[2], line 4\u001b[0m\n\u001b[0;32m      1\u001b[0m func()  \u001b[38;5;66;03m# Output: 10\u001b[39;00m\n\u001b[0;32m      3\u001b[0m \u001b[38;5;66;03m# Trying to access the local variable outside the function will result in an error\u001b[39;00m\n\u001b[1;32m----> 4\u001b[0m \u001b[38;5;28mprint\u001b[39m(\u001b[43ma\u001b[49m)\n",
      "\u001b[1;31mNameError\u001b[0m: name 'a' is not defined"
     ]
    }
   ],
   "source": [
    "func()  # Output: 10\n",
    "\n",
    "# Trying to access the local variable outside the function will result in an error\n",
    "print(a)"
   ]
  },
  {
   "cell_type": "markdown",
   "id": "71fe6bd3",
   "metadata": {},
   "source": [
    "### Global Variables\n",
    "\n",
    "* Global Variables are Variables which are created Outside of the Function. But, They can accessed from anywhere."
   ]
  },
  {
   "cell_type": "code",
   "execution_count": 3,
   "id": "ffef5ec1",
   "metadata": {},
   "outputs": [
    {
     "name": "stdout",
     "output_type": "stream",
     "text": [
      "27.63\n"
     ]
    }
   ],
   "source": [
    "# Example for Global Scope of Variables\n",
    "\n",
    "x = 27.63\n",
    "\n",
    "def function():\n",
    "    print(x)\n",
    "\n",
    "function()  # here, we are able to access variable from outside of the variable"
   ]
  },
  {
   "cell_type": "code",
   "execution_count": 4,
   "id": "2e9c769a",
   "metadata": {},
   "outputs": [
    {
     "name": "stdout",
     "output_type": "stream",
     "text": [
      "78\n"
     ]
    }
   ],
   "source": [
    "x = 89564.23\n",
    "\n",
    "def function():\n",
    "    x = 78\n",
    "    print(x)\n",
    "\n",
    "function()  # here, we are able to access the local variable"
   ]
  },
  {
   "cell_type": "markdown",
   "id": "e67c3bbb",
   "metadata": {},
   "source": [
    "### The Global Keyword\n",
    "\n",
    "* Normally, when you create a variable inside a function, that variable is local, and can only be used inside that function.\n",
    "\n",
    "* To create a global variable inside a function, you can use the global keyword."
   ]
  },
  {
   "cell_type": "code",
   "execution_count": 5,
   "id": "279c31bb",
   "metadata": {},
   "outputs": [
    {
     "name": "stdout",
     "output_type": "stream",
     "text": [
      "Awesome\n",
      "Awesome\n"
     ]
    }
   ],
   "source": [
    "def function():\n",
    "    global x\n",
    "    x = \"Awesome\"\n",
    "    print(x)\n",
    "\n",
    "function()\n",
    "print(x)"
   ]
  },
  {
   "cell_type": "code",
   "execution_count": null,
   "id": "d243a632",
   "metadata": {},
   "outputs": [],
   "source": []
  }
 ],
 "metadata": {
  "kernelspec": {
   "display_name": "Python 3 (ipykernel)",
   "language": "python",
   "name": "python3"
  },
  "language_info": {
   "codemirror_mode": {
    "name": "ipython",
    "version": 3
   },
   "file_extension": ".py",
   "mimetype": "text/x-python",
   "name": "python",
   "nbconvert_exporter": "python",
   "pygments_lexer": "ipython3",
   "version": "3.10.9"
  }
 },
 "nbformat": 4,
 "nbformat_minor": 5
}
