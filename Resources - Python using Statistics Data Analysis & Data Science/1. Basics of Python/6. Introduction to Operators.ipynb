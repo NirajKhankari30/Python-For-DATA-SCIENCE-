{
 "cells": [
  {
   "cell_type": "markdown",
   "id": "4fa5462b",
   "metadata": {},
   "source": [
    "# Operators in Python\n",
    "\n",
    "* In Python, operators are special symbols or characters that are used to perform operations on operands (variables, values, or expressions). They allow you to perform mathematical, logical, comparison, assignment, and other operations in your code."
   ]
  },
  {
   "cell_type": "markdown",
   "id": "62783d93",
   "metadata": {},
   "source": [
    "# Arithematic Operators\n",
    "Arithmetic operators are used in Python to perform basic mathematical calculations. They operate on numerical values and return a new value as a result."
   ]
  },
  {
   "cell_type": "markdown",
   "id": "2d88b43e",
   "metadata": {},
   "source": [
    "## 1. Addition Operator\n",
    "Addition operator adds two values.\n",
    "### x+y"
   ]
  },
  {
   "cell_type": "code",
   "execution_count": 3,
   "id": "67925b87",
   "metadata": {},
   "outputs": [
    {
     "name": "stdout",
     "output_type": "stream",
     "text": [
      "13\n"
     ]
    }
   ],
   "source": [
    "# Adding two numbers\n",
    "\n",
    "x = 5\n",
    "y = 8\n",
    "\n",
    "z = x + y\n",
    "\n",
    "print(z)"
   ]
  },
  {
   "cell_type": "code",
   "execution_count": 4,
   "id": "3beda7cf",
   "metadata": {},
   "outputs": [
    {
     "name": "stdout",
     "output_type": "stream",
     "text": [
      "346\n"
     ]
    }
   ],
   "source": [
    "# Adding two numbers\n",
    "\n",
    "x = 100\n",
    "y = 246\n",
    "\n",
    "z = x + y\n",
    "\n",
    "print(z)"
   ]
  },
  {
   "cell_type": "markdown",
   "id": "6401bd47",
   "metadata": {},
   "source": [
    "## 2. Subtraction Operator\n",
    "\n",
    "Subtraction Operator subtracts two values."
   ]
  },
  {
   "cell_type": "code",
   "execution_count": 5,
   "id": "63c7a195",
   "metadata": {},
   "outputs": [
    {
     "name": "stdout",
     "output_type": "stream",
     "text": [
      "100\n"
     ]
    }
   ],
   "source": [
    "# Lets Subtract two Values\n",
    "\n",
    "x = 200\n",
    "y = 100\n",
    "\n",
    "z = x - y\n",
    "\n",
    "print(z)"
   ]
  },
  {
   "cell_type": "code",
   "execution_count": 6,
   "id": "14c5b18d",
   "metadata": {},
   "outputs": [
    {
     "name": "stdout",
     "output_type": "stream",
     "text": [
      "-200\n"
     ]
    }
   ],
   "source": [
    "# Let's take one more example\n",
    "\n",
    "x = 100\n",
    "y = 300\n",
    "\n",
    "z = x - y\n",
    "\n",
    "print(z)"
   ]
  },
  {
   "cell_type": "markdown",
   "id": "8e2d125f",
   "metadata": {},
   "source": [
    "# 3. Multiplication Operator\n",
    "Multiplication operator multiplies two values.\n",
    "### x*y"
   ]
  },
  {
   "cell_type": "code",
   "execution_count": 7,
   "id": "58ecbd87",
   "metadata": {},
   "outputs": [
    {
     "name": "stdout",
     "output_type": "stream",
     "text": [
      "1500\n"
     ]
    }
   ],
   "source": [
    "# multiplies two values\n",
    "\n",
    "x = 50\n",
    "y = 30\n",
    "\n",
    "z = x*y\n",
    "\n",
    "print(z)"
   ]
  },
  {
   "cell_type": "code",
   "execution_count": 8,
   "id": "e159f36e",
   "metadata": {},
   "outputs": [
    {
     "name": "stdout",
     "output_type": "stream",
     "text": [
      "1548\n"
     ]
    }
   ],
   "source": [
    "# Multiplication Example\n",
    "\n",
    "x = 387\n",
    "y = 4\n",
    "\n",
    "z = x*y\n",
    "\n",
    "print(z)"
   ]
  },
  {
   "cell_type": "markdown",
   "id": "0226d5c5",
   "metadata": {},
   "source": [
    "# 4. Dividend Operator\n",
    "Dividend operator divides one operand by another.\n",
    "### x/y"
   ]
  },
  {
   "cell_type": "code",
   "execution_count": 9,
   "id": "6fb38c68",
   "metadata": {},
   "outputs": [
    {
     "name": "stdout",
     "output_type": "stream",
     "text": [
      "15.0\n"
     ]
    }
   ],
   "source": [
    "# let's take an example\n",
    "\n",
    "x = 45\n",
    "y = 3\n",
    "\n",
    "z = x/y\n",
    "\n",
    "print(z)"
   ]
  },
  {
   "cell_type": "code",
   "execution_count": 10,
   "id": "0b13bb94",
   "metadata": {},
   "outputs": [
    {
     "name": "stdout",
     "output_type": "stream",
     "text": [
      "13.642857142857142\n"
     ]
    }
   ],
   "source": [
    "# let's take one more example\n",
    "\n",
    "x = 764\n",
    "y = 56\n",
    "\n",
    "z = x/y\n",
    "\n",
    "print(z)"
   ]
  },
  {
   "cell_type": "markdown",
   "id": "f343ae19",
   "metadata": {},
   "source": [
    "## 5. Modulus Operator\n",
    "\n",
    " The Modulus Operators Returns the Remainder of the division between two operands/Values.\n",
    "\n",
    " x%y"
   ]
  },
  {
   "cell_type": "code",
   "execution_count": 11,
   "id": "d420ce3d",
   "metadata": {},
   "outputs": [
    {
     "name": "stdout",
     "output_type": "stream",
     "text": [
      "1\n"
     ]
    }
   ],
   "source": [
    "# Let's take an example to understand the Modulus Operator\n",
    "\n",
    "x = 10\n",
    "y = 3\n",
    "\n",
    "z = x%y\n",
    "\n",
    "print(z)"
   ]
  },
  {
   "cell_type": "code",
   "execution_count": 12,
   "id": "e0c4cf7e",
   "metadata": {},
   "outputs": [
    {
     "name": "stdout",
     "output_type": "stream",
     "text": [
      "2\n"
     ]
    }
   ],
   "source": [
    "# Let's take one more example\n",
    "\n",
    "x = 10\n",
    "y = 4\n",
    "\n",
    "z = x%y\n",
    "\n",
    "print(z)"
   ]
  },
  {
   "cell_type": "markdown",
   "id": "3b498661",
   "metadata": {},
   "source": [
    "# 6. Exponent Operator\n",
    "Exponent Operator raises the power of left operand to the right operand.\n",
    "### x**y"
   ]
  },
  {
   "cell_type": "code",
   "execution_count": 13,
   "id": "f8107542",
   "metadata": {},
   "outputs": [
    {
     "name": "stdout",
     "output_type": "stream",
     "text": [
      "8\n"
     ]
    }
   ],
   "source": [
    "# Let's take an example for Exponent Operator\n",
    "\n",
    "x = 2\n",
    "y = 3\n",
    "\n",
    "z = x**y\n",
    "\n",
    "print(z)"
   ]
  },
  {
   "cell_type": "code",
   "execution_count": 14,
   "id": "ee421429",
   "metadata": {},
   "outputs": [
    {
     "name": "stdout",
     "output_type": "stream",
     "text": [
      "16\n"
     ]
    }
   ],
   "source": [
    "# Let's take one more example\n",
    "\n",
    "x = 2\n",
    "y = 4\n",
    "\n",
    "z = x**y\n",
    "\n",
    "print(z)"
   ]
  },
  {
   "cell_type": "markdown",
   "id": "189432c0",
   "metadata": {},
   "source": [
    "## 7. Floor Division Operator\n",
    "Floor division operator returns quotient rounded off to the nearest integer.\n",
    "### x//y"
   ]
  },
  {
   "cell_type": "code",
   "execution_count": 15,
   "id": "d63d3f61",
   "metadata": {},
   "outputs": [
    {
     "name": "stdout",
     "output_type": "stream",
     "text": [
      "2\n"
     ]
    }
   ],
   "source": [
    "# Let's take an example for floor division operator\n",
    "\n",
    "x = 13\n",
    "y = 5\n",
    "\n",
    "z = x//y\n",
    "\n",
    "print(z)"
   ]
  },
  {
   "cell_type": "markdown",
   "id": "e1868dbf",
   "metadata": {},
   "source": [
    "# Assignment Operators\n",
    "Assignment operators are used to assign a value to the variable."
   ]
  },
  {
   "cell_type": "markdown",
   "id": "137478d3",
   "metadata": {},
   "source": [
    "## 1. Equals to (=) Operator\n",
    "Equals to (=) operator assigne the value of right hand operand to the left hand operand."
   ]
  },
  {
   "cell_type": "code",
   "execution_count": 16,
   "id": "afc11368",
   "metadata": {},
   "outputs": [
    {
     "name": "stdout",
     "output_type": "stream",
     "text": [
      "7\n",
      "3.65\n"
     ]
    }
   ],
   "source": [
    "# Let's take an Example\n",
    "\n",
    "x = 7\n",
    "y = 3.65\n",
    "\n",
    "print(x)\n",
    "print(y)"
   ]
  },
  {
   "cell_type": "markdown",
   "id": "746269d2",
   "metadata": {},
   "source": [
    "## 2. Add Equal to (+=) Operator\n",
    "Add equal to (+=) Operator adds right hand operand to the left hand operand and assign the result to the left hand operand.\n",
    "###  x+=y       x=x+y"
   ]
  },
  {
   "cell_type": "code",
   "execution_count": 17,
   "id": "fc69200d",
   "metadata": {},
   "outputs": [
    {
     "name": "stdout",
     "output_type": "stream",
     "text": [
      "11 4\n"
     ]
    }
   ],
   "source": [
    "# Let's take an Example\n",
    "\n",
    "x = 7\n",
    "y = 4\n",
    "x+=y\n",
    "\n",
    "print(x, y)"
   ]
  },
  {
   "cell_type": "code",
   "execution_count": 18,
   "id": "806f6397",
   "metadata": {},
   "outputs": [
    {
     "name": "stdout",
     "output_type": "stream",
     "text": [
      "15\n"
     ]
    }
   ],
   "source": [
    "# Let's take one more example\n",
    "\n",
    "x = 10\n",
    "x += 5\n",
    "\n",
    "print(x)"
   ]
  },
  {
   "cell_type": "markdown",
   "id": "f2baa60d",
   "metadata": {},
   "source": [
    "## 3. Subtract Equal to (-=) Operator\n",
    "Subtract equal to (-=) operator subtracts right hand operand from the left hand operand and assign the result to the left hand operand.\n",
    "### x-=y  x=x-y"
   ]
  },
  {
   "cell_type": "code",
   "execution_count": 19,
   "id": "c05b7902",
   "metadata": {},
   "outputs": [
    {
     "data": {
      "text/plain": [
       "33"
      ]
     },
     "execution_count": 19,
     "metadata": {},
     "output_type": "execute_result"
    }
   ],
   "source": [
    "# Let's take an Example\n",
    "\n",
    "x = 45\n",
    "y = 12\n",
    "x-=y\n",
    "x"
   ]
  },
  {
   "cell_type": "markdown",
   "id": "44e77598",
   "metadata": {},
   "source": [
    "## 4. Mutliply Equal to (*=) Operator\n",
    "Multiply equal to (*=) operator multiplies right hand operand by left hand operand and assign the result to the left hand operand.\n",
    "### x*=y x=x*y"
   ]
  },
  {
   "cell_type": "code",
   "execution_count": 20,
   "id": "ef8c0229",
   "metadata": {},
   "outputs": [
    {
     "data": {
      "text/plain": [
       "92"
      ]
     },
     "execution_count": 20,
     "metadata": {},
     "output_type": "execute_result"
    }
   ],
   "source": [
    "# Let's take an Example\n",
    "\n",
    "x = 23\n",
    "y = 4\n",
    "x*=y\n",
    "x"
   ]
  },
  {
   "cell_type": "markdown",
   "id": "aceca959",
   "metadata": {},
   "source": [
    "## 5. Divide Equal to (/=) Operator\n",
    "Divide equal to (/=) operator divides left operand by right operand and assign the result to left hand operand.\n",
    "### x/=y    x=x/y"
   ]
  },
  {
   "cell_type": "code",
   "execution_count": 21,
   "id": "16bbd44e",
   "metadata": {},
   "outputs": [
    {
     "name": "stdout",
     "output_type": "stream",
     "text": [
      "7.0\n"
     ]
    }
   ],
   "source": [
    "# Let's take an Example\n",
    "\n",
    "x = 35\n",
    "y = 5\n",
    "\n",
    "x/=y\n",
    "\n",
    "print(x)"
   ]
  },
  {
   "cell_type": "markdown",
   "id": "07adde4c",
   "metadata": {},
   "source": [
    "\n",
    "# Comparison Operator\n",
    "Comparison operators are used to compare one value to another. The result of a comparison is a Boolean value, which can be either True or False."
   ]
  },
  {
   "cell_type": "markdown",
   "id": "7034c1d0",
   "metadata": {},
   "source": [
    "## 1. Equal to (==) Operator\n",
    "Equal to (==) operator checks whether the value of the operands are equal. If yes it returns True."
   ]
  },
  {
   "cell_type": "code",
   "execution_count": 22,
   "id": "34b37b5a",
   "metadata": {},
   "outputs": [
    {
     "data": {
      "text/plain": [
       "True"
      ]
     },
     "execution_count": 22,
     "metadata": {},
     "output_type": "execute_result"
    }
   ],
   "source": [
    "# let's take an example\n",
    "\n",
    "2==2"
   ]
  },
  {
   "cell_type": "code",
   "execution_count": 23,
   "id": "31eb3282",
   "metadata": {},
   "outputs": [
    {
     "data": {
      "text/plain": [
       "False"
      ]
     },
     "execution_count": 23,
     "metadata": {},
     "output_type": "execute_result"
    }
   ],
   "source": [
    "# let's take an example\n",
    "\n",
    "x = 7\n",
    "y = 6\n",
    "x==y"
   ]
  },
  {
   "cell_type": "markdown",
   "id": "250c1f3b",
   "metadata": {},
   "source": [
    "## 2. Not Equal to (!=) Operator\n",
    "Not equal to (!=) operator checks If the values of the two operands are not equal, then the condition becomes true."
   ]
  },
  {
   "cell_type": "code",
   "execution_count": 24,
   "id": "df12961a",
   "metadata": {},
   "outputs": [
    {
     "data": {
      "text/plain": [
       "True"
      ]
     },
     "execution_count": 24,
     "metadata": {},
     "output_type": "execute_result"
    }
   ],
   "source": [
    "# let's take an example\n",
    "\n",
    "4!=7"
   ]
  },
  {
   "cell_type": "code",
   "execution_count": 25,
   "id": "d1ba9e7a",
   "metadata": {},
   "outputs": [
    {
     "data": {
      "text/plain": [
       "False"
      ]
     },
     "execution_count": 25,
     "metadata": {},
     "output_type": "execute_result"
    }
   ],
   "source": [
    "# let's take an example\n",
    "\n",
    "x = 8\n",
    "y = 8\n",
    "x!=y"
   ]
  },
  {
   "cell_type": "markdown",
   "id": "d004715e",
   "metadata": {},
   "source": [
    " ## 3. Greater than (>) Operator\n",
    "Greater than (>) operator checks If the value of the left operand is greater than the value of the right operand, then the condition becomes true."
   ]
  },
  {
   "cell_type": "code",
   "execution_count": 26,
   "id": "74c06e38",
   "metadata": {},
   "outputs": [
    {
     "data": {
      "text/plain": [
       "False"
      ]
     },
     "execution_count": 26,
     "metadata": {},
     "output_type": "execute_result"
    }
   ],
   "source": [
    "# let's take an example\n",
    "\n",
    "5>9"
   ]
  },
  {
   "cell_type": "code",
   "execution_count": 27,
   "id": "68c60e8b",
   "metadata": {},
   "outputs": [
    {
     "data": {
      "text/plain": [
       "True"
      ]
     },
     "execution_count": 27,
     "metadata": {},
     "output_type": "execute_result"
    }
   ],
   "source": [
    "# let's take an example\n",
    "\n",
    "x = 34\n",
    "y = 12\n",
    "x>y"
   ]
  },
  {
   "cell_type": "markdown",
   "id": "4c680704",
   "metadata": {},
   "source": [
    "## 4. Less than (<) Operator\n",
    "Less than (<) operator checks If the value of the left operand is less than the value of the right operand, then the condition becomes true."
   ]
  },
  {
   "cell_type": "code",
   "execution_count": 28,
   "id": "cc31f75b",
   "metadata": {},
   "outputs": [
    {
     "data": {
      "text/plain": [
       "True"
      ]
     },
     "execution_count": 28,
     "metadata": {},
     "output_type": "execute_result"
    }
   ],
   "source": [
    "# let's take an example\n",
    "\n",
    "6<10"
   ]
  },
  {
   "cell_type": "code",
   "execution_count": 29,
   "id": "1e8007ee",
   "metadata": {},
   "outputs": [
    {
     "data": {
      "text/plain": [
       "False"
      ]
     },
     "execution_count": 29,
     "metadata": {},
     "output_type": "execute_result"
    }
   ],
   "source": [
    "# let's take an example\n",
    "\n",
    "x = 87\n",
    "y = 10\n",
    "\n",
    "x<y"
   ]
  },
  {
   "cell_type": "markdown",
   "id": "46a83cfb",
   "metadata": {},
   "source": [
    "## 5. Greater than equal to (>=) Operator\n",
    "Greater than equal to (>=) operator checks If the value of the left operand is greater than or equal to the value of the right operand, then the condition becomes true."
   ]
  },
  {
   "cell_type": "code",
   "execution_count": 30,
   "id": "0bade0c1",
   "metadata": {},
   "outputs": [
    {
     "data": {
      "text/plain": [
       "False"
      ]
     },
     "execution_count": 30,
     "metadata": {},
     "output_type": "execute_result"
    }
   ],
   "source": [
    "# let's take an example\n",
    "\n",
    "4>=5"
   ]
  },
  {
   "cell_type": "code",
   "execution_count": 31,
   "id": "4dd1e36b",
   "metadata": {},
   "outputs": [
    {
     "data": {
      "text/plain": [
       "True"
      ]
     },
     "execution_count": 31,
     "metadata": {},
     "output_type": "execute_result"
    }
   ],
   "source": [
    "# let's take an example\n",
    "\n",
    "x = 76\n",
    "y = 36\n",
    "x>=y"
   ]
  },
  {
   "cell_type": "markdown",
   "id": "e57a7a0a",
   "metadata": {},
   "source": [
    "## 6. Less than equal to (<=) Operator\n",
    "Less than equal to (<=) operator  checks If the value of the left operand is less than or equal to the value of the right operand, then the condition becomes true."
   ]
  },
  {
   "cell_type": "code",
   "execution_count": 32,
   "id": "240a7ec5",
   "metadata": {},
   "outputs": [
    {
     "data": {
      "text/plain": [
       "True"
      ]
     },
     "execution_count": 32,
     "metadata": {},
     "output_type": "execute_result"
    }
   ],
   "source": [
    "# let's take an example\n",
    "\n",
    "12<=13"
   ]
  },
  {
   "cell_type": "code",
   "execution_count": 33,
   "id": "6cf42db5",
   "metadata": {},
   "outputs": [
    {
     "data": {
      "text/plain": [
       "False"
      ]
     },
     "execution_count": 33,
     "metadata": {},
     "output_type": "execute_result"
    }
   ],
   "source": [
    "# let's take an example\n",
    "\n",
    "x = 87\n",
    "y = 76\n",
    "x<=y"
   ]
  },
  {
   "cell_type": "markdown",
   "id": "5498ec4c",
   "metadata": {},
   "source": [
    "# Logical Operator\n",
    "Logical operators are used to combine conditional statements."
   ]
  },
  {
   "cell_type": "markdown",
   "id": "5905c9fd",
   "metadata": {},
   "source": [
    "## 1. AND Operator\n",
    "And operator Returns True if both statements are true."
   ]
  },
  {
   "cell_type": "code",
   "execution_count": 34,
   "id": "96ff92f4",
   "metadata": {},
   "outputs": [
    {
     "data": {
      "text/plain": [
       "True"
      ]
     },
     "execution_count": 34,
     "metadata": {},
     "output_type": "execute_result"
    }
   ],
   "source": [
    "# let's take an example\n",
    "\n",
    "x = 6\n",
    "x < 10 and x > 1"
   ]
  },
  {
   "cell_type": "markdown",
   "id": "3eedf54e",
   "metadata": {},
   "source": [
    "# 2. OR Operator\n",
    "OR operator Returns True if one of the statements is true."
   ]
  },
  {
   "cell_type": "code",
   "execution_count": 35,
   "id": "6c6830a0",
   "metadata": {},
   "outputs": [
    {
     "data": {
      "text/plain": [
       "True"
      ]
     },
     "execution_count": 35,
     "metadata": {},
     "output_type": "execute_result"
    }
   ],
   "source": [
    "# let's take an example\n",
    "\n",
    "x = 8\n",
    "x<10 or x>12"
   ]
  },
  {
   "cell_type": "markdown",
   "id": "541d0a52",
   "metadata": {},
   "source": [
    "## 3. NOT Operator\n",
    "NOT operator Reverse the logical state of the operand."
   ]
  },
  {
   "cell_type": "code",
   "execution_count": 36,
   "id": "a21dd5b8",
   "metadata": {},
   "outputs": [
    {
     "data": {
      "text/plain": [
       "False"
      ]
     },
     "execution_count": 36,
     "metadata": {},
     "output_type": "execute_result"
    }
   ],
   "source": [
    "# let's take an example\n",
    "\n",
    "a = True\n",
    "not a"
   ]
  },
  {
   "cell_type": "code",
   "execution_count": null,
   "id": "b2b7a202",
   "metadata": {},
   "outputs": [],
   "source": []
  }
 ],
 "metadata": {
  "kernelspec": {
   "display_name": "Python 3 (ipykernel)",
   "language": "python",
   "name": "python3"
  },
  "language_info": {
   "codemirror_mode": {
    "name": "ipython",
    "version": 3
   },
   "file_extension": ".py",
   "mimetype": "text/x-python",
   "name": "python",
   "nbconvert_exporter": "python",
   "pygments_lexer": "ipython3",
   "version": "3.10.9"
  }
 },
 "nbformat": 4,
 "nbformat_minor": 5
}
