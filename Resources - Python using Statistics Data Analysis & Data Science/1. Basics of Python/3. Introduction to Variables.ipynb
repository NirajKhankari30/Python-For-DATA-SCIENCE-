{
 "cells": [
  {
   "cell_type": "markdown",
   "id": "9ec61781",
   "metadata": {},
   "source": [
    "# Variables"
   ]
  },
  {
   "cell_type": "markdown",
   "id": "7abb7f60",
   "metadata": {},
   "source": [
    "Variables are used to store and manipulate data. They act as containers that hold values, which can be of different types such as numbers, strings, lists, or objects. Here's an explanation of variables in Python with examples:\n",
    "\n",
    "**Variable Declaration and Assignment:**\n",
    "\n",
    "To declare and assign a value to a variable in Python, you simply write the variable name followed by an equals sign (=) and the value you want to assign. Here's an example:"
   ]
  },
  {
   "cell_type": "code",
   "execution_count": 8,
   "id": "69f4dfd0",
   "metadata": {},
   "outputs": [
    {
     "name": "stdout",
     "output_type": "stream",
     "text": [
      "85\n"
     ]
    }
   ],
   "source": [
    "# Variable declaration and assignment\n",
    "a = 85\n",
    "b = 75\n",
    "c = 25\n",
    "\n",
    "# Let's Print the Values of these Variables\n",
    "print(a)"
   ]
  },
  {
   "cell_type": "code",
   "execution_count": 9,
   "id": "1bf6029d",
   "metadata": {},
   "outputs": [
    {
     "name": "stdout",
     "output_type": "stream",
     "text": [
      "75\n",
      "25\n"
     ]
    }
   ],
   "source": [
    "print(b)\n",
    "print(c)"
   ]
  },
  {
   "cell_type": "markdown",
   "id": "310cf792",
   "metadata": {},
   "source": [
    "**Variable Naming Rules:**\n",
    "\n",
    "* A variable name can contain letters (a-z, A-Z), digits (0-9), and underscores (_). It must start with a letter or an underscore.\n",
    "* The Variable name cannot start with a Number.\n",
    "* A variable name can only contain alphanumeric characters and underscores.\n",
    "* Variables names are case sensitive.\n",
    "* It cannot be a reserved keyword in Python (e.g., if, for, while, etc.).\n",
    "* Avoid using special characters or spaces in variable names."
   ]
  },
  {
   "cell_type": "code",
   "execution_count": 10,
   "id": "7981d9e0",
   "metadata": {},
   "outputs": [],
   "source": [
    "#both of these variables will get accepted as both of them are following the rule.\n",
    "data = 2\n",
    "_data = 2 "
   ]
  },
  {
   "cell_type": "code",
   "execution_count": 11,
   "id": "3ab53061",
   "metadata": {},
   "outputs": [
    {
     "ename": "SyntaxError",
     "evalue": "invalid decimal literal (683601256.py, line 3)",
     "output_type": "error",
     "traceback": [
      "\u001b[1;36m  Cell \u001b[1;32mIn[11], line 3\u001b[1;36m\u001b[0m\n\u001b[1;33m    4data = 9\u001b[0m\n\u001b[1;37m    ^\u001b[0m\n\u001b[1;31mSyntaxError\u001b[0m\u001b[1;31m:\u001b[0m invalid decimal literal\n"
     ]
    }
   ],
   "source": [
    "# 4data cannot be accepted as a variable, as the variable name starts with a number\n",
    "\n",
    "4data = 9"
   ]
  },
  {
   "cell_type": "code",
   "execution_count": 12,
   "id": "b4bf2ec0",
   "metadata": {},
   "outputs": [
    {
     "ename": "SyntaxError",
     "evalue": "invalid syntax (2847661468.py, line 3)",
     "output_type": "error",
     "traceback": [
      "\u001b[1;36m  Cell \u001b[1;32mIn[12], line 3\u001b[1;36m\u001b[0m\n\u001b[1;33m    4% = 5\u001b[0m\n\u001b[1;37m       ^\u001b[0m\n\u001b[1;31mSyntaxError\u001b[0m\u001b[1;31m:\u001b[0m invalid syntax\n"
     ]
    }
   ],
   "source": [
    "# Variable names can only contain alphanumeric characters and underscores\n",
    "\n",
    "4% = 5"
   ]
  },
  {
   "cell_type": "code",
   "execution_count": 13,
   "id": "5013241d",
   "metadata": {},
   "outputs": [
    {
     "name": "stdout",
     "output_type": "stream",
     "text": [
      "5\n",
      "10\n"
     ]
    }
   ],
   "source": [
    "# variable names are case sensitive, Here both data & DATA are different variable storing different values.\n",
    "\n",
    "data = 5\n",
    "DATA = 10\n",
    "\n",
    "print(data)\n",
    "print(DATA)"
   ]
  },
  {
   "cell_type": "code",
   "execution_count": 14,
   "id": "0adc206e",
   "metadata": {},
   "outputs": [
    {
     "name": "stdout",
     "output_type": "stream",
     "text": [
      "5\n",
      "10\n"
     ]
    }
   ],
   "source": [
    "# variable names are case sensitive, Here both data & DATA are different variable storing different values.\n",
    "\n",
    "data = 5\n",
    "DATA = 10\n",
    "\n",
    "print(data)\n",
    "print(DATA)"
   ]
  }
 ],
 "metadata": {
  "kernelspec": {
   "display_name": "Python 3 (ipykernel)",
   "language": "python",
   "name": "python3"
  },
  "language_info": {
   "codemirror_mode": {
    "name": "ipython",
    "version": 3
   },
   "file_extension": ".py",
   "mimetype": "text/x-python",
   "name": "python",
   "nbconvert_exporter": "python",
   "pygments_lexer": "ipython3",
   "version": "3.10.9"
  }
 },
 "nbformat": 4,
 "nbformat_minor": 5
}
