{
 "cells": [
  {
   "cell_type": "markdown",
   "id": "edcb659d",
   "metadata": {},
   "source": [
    "# Time Complexity"
   ]
  },
  {
   "cell_type": "markdown",
   "id": "00de9ad5",
   "metadata": {},
   "source": [
    "Time complexity in Python refers to the measure of the amount of time or the number of operations required by an algorithm or a program to run, as the input size increases. It helps in understanding how the running time of an algorithm grows with the size of the input. Time complexity is typically expressed using \"big O\" notation.\n",
    "\n",
    "Here are some commonly encountered time complexities in Python:\n",
    "\n",
    "**O(1) - Constant Time Complexity:**\n",
    "\n",
    "An algorithm with constant time complexity takes a constant amount of time to execute, regardless of the input size. It is the most efficient time complexity.\n",
    "\n",
    "*Example:*"
   ]
  },
  {
   "cell_type": "code",
   "execution_count": 2,
   "id": "8f62e548",
   "metadata": {},
   "outputs": [],
   "source": [
    "# Let's take an Example, Where the Time Complexity remains constant, regardless of the Input Size.\n",
    "\n",
    "def print_first_element(lst):\n",
    "    print(lst[0])"
   ]
  },
  {
   "cell_type": "code",
   "execution_count": 3,
   "id": "e55069d0",
   "metadata": {},
   "outputs": [
    {
     "name": "stdout",
     "output_type": "stream",
     "text": [
      "1\n",
      "CPU times: total: 0 ns\n",
      "Wall time: 7.51 ms\n"
     ]
    }
   ],
   "source": [
    "%time print_first_element([1, 2, 3, 4])"
   ]
  },
  {
   "cell_type": "code",
   "execution_count": 4,
   "id": "ff93e171",
   "metadata": {},
   "outputs": [
    {
     "name": "stdout",
     "output_type": "stream",
     "text": [
      "1\n",
      "CPU times: total: 0 ns\n",
      "Wall time: 0 ns\n"
     ]
    }
   ],
   "source": [
    "%time print_first_element([1, 2, 3, 4, 5, 6, 7, 8, 9, 10])"
   ]
  },
  {
   "cell_type": "markdown",
   "id": "711620cc",
   "metadata": {},
   "source": [
    "In this example, the function print_first_element always accesses the first element of the list, regardless of the size of the list. So, it has a constant time complexity of O(1).\n",
    "\n",
    "**O(n) - Linear Time Complexity:**\n",
    "\n",
    "An algorithm with linear time complexity has a running time that increases linearly with the input size.\n",
    "\n",
    "*Example:*"
   ]
  },
  {
   "cell_type": "code",
   "execution_count": 4,
   "id": "c88eb74a",
   "metadata": {},
   "outputs": [],
   "source": [
    "# lets take an example, where the Time complexity increases linearly with the Input size.\n",
    "\n",
    "def print_list_elements(lst):\n",
    "    for item in lst:\n",
    "        print(item)"
   ]
  },
  {
   "cell_type": "code",
   "execution_count": 5,
   "id": "c05fe128",
   "metadata": {},
   "outputs": [
    {
     "name": "stdout",
     "output_type": "stream",
     "text": [
      "1\n",
      "CPU times: total: 0 ns\n",
      "Wall time: 0 ns\n"
     ]
    }
   ],
   "source": [
    "%time print_first_element([1, 2, 3, 4])"
   ]
  },
  {
   "cell_type": "code",
   "execution_count": 6,
   "id": "fa0fa12b",
   "metadata": {},
   "outputs": [
    {
     "name": "stdout",
     "output_type": "stream",
     "text": [
      "1\n",
      "CPU times: total: 0 ns\n",
      "Wall time: 0 ns\n"
     ]
    }
   ],
   "source": [
    "%time print_first_element([1, 2, 3, 4, 5, 6, 7, 8, 9, 10])"
   ]
  },
  {
   "cell_type": "markdown",
   "id": "8b284964",
   "metadata": {},
   "source": [
    "In this example, the function print_list_elements iterates over each element in the list and prints it. The running time of the loop is directly proportional to the size of the list, so it has a linear time complexity of O(n).\n",
    "\n",
    "**O(n^2) - Quadratic Time Complexity:**\n",
    "\n",
    "An algorithm with quadratic time complexity has a running time that increases quadratically with the input size. It usually occurs with nested loops.\n",
    "\n",
    "*Example:*"
   ]
  },
  {
   "cell_type": "code",
   "execution_count": 7,
   "id": "24a1d6cb",
   "metadata": {},
   "outputs": [],
   "source": [
    "# lets take an example, where the time complexity increases quadratically with the input size.\n",
    "\n",
    "def print_pairs(lst):\n",
    "    for i in lst:\n",
    "        for j in lst:\n",
    "            print(i, j)"
   ]
  },
  {
   "cell_type": "code",
   "execution_count": 8,
   "id": "2ea8ca91",
   "metadata": {},
   "outputs": [
    {
     "name": "stdout",
     "output_type": "stream",
     "text": [
      "1 1\n",
      "1 2\n",
      "2 1\n",
      "2 2\n",
      "CPU times: total: 0 ns\n",
      "Wall time: 1.27 ms\n"
     ]
    }
   ],
   "source": [
    "%time print_pairs([1, 2])"
   ]
  },
  {
   "cell_type": "code",
   "execution_count": 9,
   "id": "8819fa45",
   "metadata": {},
   "outputs": [
    {
     "name": "stdout",
     "output_type": "stream",
     "text": [
      "1 1\n",
      "1 2\n",
      "1 3\n",
      "1 4\n",
      "2 1\n",
      "2 2\n",
      "2 3\n",
      "2 4\n",
      "3 1\n",
      "3 2\n",
      "3 3\n",
      "3 4\n",
      "4 1\n",
      "4 2\n",
      "4 3\n",
      "4 4\n",
      "CPU times: total: 0 ns\n",
      "Wall time: 999 µs\n"
     ]
    }
   ],
   "source": [
    "%time print_pairs([1, 2, 3, 4])"
   ]
  },
  {
   "cell_type": "markdown",
   "id": "8756e0a9",
   "metadata": {},
   "source": [
    "In this example, the function print_pairs uses nested loops to print all possible pairs of elements from the list. As the size of the list increases, the number of iterations becomes the square of the input size, resulting in a quadratic time complexity of O(n^2)."
   ]
  },
  {
   "cell_type": "markdown",
   "id": "b67981af",
   "metadata": {},
   "source": [
    "# Space complexity\n",
    "Space complexity in Python refers to the measure of the amount of memory or space required by an algorithm or a program to run, as the input size increases. It helps in understanding how the memory usage of an algorithm grows with the size of the input. Space complexity is usually expressed in terms of the additional space required by the algorithm, excluding the input space.\n",
    "\n",
    "Here are some commonly encountered space complexities in Python:\n",
    "\n",
    "**O(1) - Constant Space Complexity:**\n",
    "\n",
    "An algorithm with constant space complexity uses a fixed amount of memory, regardless of the input size.\n",
    "\n",
    "*Example:*"
   ]
  },
  {
   "cell_type": "code",
   "execution_count": 10,
   "id": "5a3aa761",
   "metadata": {},
   "outputs": [],
   "source": [
    "# let's take an example for constant space complexity\n",
    "\n",
    "def sum_of_two_numbers(a, b):\n",
    "    total = a + b\n",
    "    return total"
   ]
  },
  {
   "cell_type": "code",
   "execution_count": 11,
   "id": "c7d09793",
   "metadata": {},
   "outputs": [
    {
     "data": {
      "text/plain": [
       "44"
      ]
     },
     "execution_count": 11,
     "metadata": {},
     "output_type": "execute_result"
    }
   ],
   "source": [
    "sum_of_two_numbers(4, 40)"
   ]
  },
  {
   "cell_type": "code",
   "execution_count": 12,
   "id": "6429be89",
   "metadata": {},
   "outputs": [
    {
     "data": {
      "text/plain": [
       "5054548"
      ]
     },
     "execution_count": 12,
     "metadata": {},
     "output_type": "execute_result"
    }
   ],
   "source": [
    "sum_of_two_numbers(488888, 4565660)"
   ]
  },
  {
   "cell_type": "markdown",
   "id": "44464bbb",
   "metadata": {},
   "source": [
    "In this example, the space complexity of the sum_of_two_numbers function is considered O(1) because it only uses a fixed amount of memory to store the sum of two numbers, regardless of the input values.\n",
    "\n",
    "**O(n) - Linear Space Complexity:**\n",
    "\n",
    "An algorithm with linear space complexity uses memory that grows linearly with the input size.\n",
    "\n",
    "*Example:*"
   ]
  },
  {
   "cell_type": "code",
   "execution_count": 13,
   "id": "9326389c",
   "metadata": {},
   "outputs": [],
   "source": [
    "# let's take an example for linear space complexity\n",
    "\n",
    "def create_list(n):\n",
    "    lst = []\n",
    "    for i in range(n):\n",
    "        lst.append(i)\n",
    "    return lst"
   ]
  },
  {
   "cell_type": "code",
   "execution_count": 14,
   "id": "67bd2683",
   "metadata": {},
   "outputs": [
    {
     "data": {
      "text/plain": [
       "[0, 1, 2, 3]"
      ]
     },
     "execution_count": 14,
     "metadata": {},
     "output_type": "execute_result"
    }
   ],
   "source": [
    "create_list(4)"
   ]
  },
  {
   "cell_type": "code",
   "execution_count": 15,
   "id": "73cde93d",
   "metadata": {},
   "outputs": [
    {
     "data": {
      "text/plain": [
       "[0, 1, 2, 3, 4, 5, 6, 7, 8, 9]"
      ]
     },
     "execution_count": 15,
     "metadata": {},
     "output_type": "execute_result"
    }
   ],
   "source": [
    "create_list(10)"
   ]
  },
  {
   "cell_type": "markdown",
   "id": "bd5ac1da",
   "metadata": {},
   "source": [
    "In this example, the create_list function creates a list of numbers from 0 to n-1. The memory required to store the list grows linearly with the input size n, so it has a linear space complexity of O(n).\n",
    "\n",
    "**O(n^2) - Quadratic Space Complexity:**\n",
    "\n",
    "An algorithm with quadratic space complexity uses memory that grows quadratically with the input size. It often occurs with nested data structures or when generating all possible combinations.\n",
    "\n",
    "*Example:*"
   ]
  },
  {
   "cell_type": "code",
   "execution_count": 16,
   "id": "ca868d40",
   "metadata": {},
   "outputs": [],
   "source": [
    "# Let's take an example, where the space complexity increase quadratically with the input size.\n",
    "\n",
    "def generate_matrix(n):\n",
    "    matrix = [[0] * n for _ in range(n)]\n",
    "    return matrix"
   ]
  },
  {
   "cell_type": "code",
   "execution_count": 17,
   "id": "f1193908",
   "metadata": {},
   "outputs": [
    {
     "data": {
      "text/plain": [
       "[[0, 0, 0, 0], [0, 0, 0, 0], [0, 0, 0, 0], [0, 0, 0, 0]]"
      ]
     },
     "execution_count": 17,
     "metadata": {},
     "output_type": "execute_result"
    }
   ],
   "source": [
    "generate_matrix(4)"
   ]
  },
  {
   "cell_type": "markdown",
   "id": "0f8abc45",
   "metadata": {},
   "source": [
    "In this example, the generate_matrix function creates a square matrix of size n by n. The memory required to store the matrix grows quadratically with the input size n, resulting in a quadratic space complexity of O(n^2)."
   ]
  },
  {
   "cell_type": "code",
   "execution_count": null,
   "id": "1121caee",
   "metadata": {},
   "outputs": [],
   "source": []
  }
 ],
 "metadata": {
  "kernelspec": {
   "display_name": "Python 3 (ipykernel)",
   "language": "python",
   "name": "python3"
  },
  "language_info": {
   "codemirror_mode": {
    "name": "ipython",
    "version": 3
   },
   "file_extension": ".py",
   "mimetype": "text/x-python",
   "name": "python",
   "nbconvert_exporter": "python",
   "pygments_lexer": "ipython3",
   "version": "3.10.9"
  }
 },
 "nbformat": 4,
 "nbformat_minor": 5
}
