{
 "cells": [
  {
   "cell_type": "markdown",
   "id": "daa2915c",
   "metadata": {},
   "source": [
    "# Sets\n",
    "A set is a built-in data type used to store an unordered collection of unique elements. Sets are mutable, meaning you can add or remove elements, but they do not allow duplicate values. Here's a beginner-level introduction to sets in Python:\n",
    "\n",
    "**Creating a Set:**\n",
    "\n",
    "To create a set, enclose the elements in curly braces {} or use the set() function.\n",
    "\n",
    "*For example:*"
   ]
  },
  {
   "cell_type": "code",
   "execution_count": 1,
   "id": "944051d8",
   "metadata": {},
   "outputs": [],
   "source": [
    "# creating sets\n",
    "\n",
    "fruits = {\"apple\", \"banana\", \"cherry\"}\n",
    "vowels = set(\"aeiou\")"
   ]
  },
  {
   "cell_type": "markdown",
   "id": "a5abff62",
   "metadata": {},
   "source": [
    "**Accessing Set Elements:**\n",
    "\n",
    "Since sets are unordered, you cannot access elements by index. Instead, you can check for the presence of an element using the in operator.\n",
    "\n",
    "*For example:*"
   ]
  },
  {
   "cell_type": "code",
   "execution_count": 2,
   "id": "8565f198",
   "metadata": {},
   "outputs": [
    {
     "data": {
      "text/plain": [
       "True"
      ]
     },
     "execution_count": 2,
     "metadata": {},
     "output_type": "execute_result"
    }
   ],
   "source": [
    "# Using the IN Operator to check, if \"i\" exists in the Vowels set.\n",
    "\n",
    "\"i\" in vowels"
   ]
  },
  {
   "cell_type": "markdown",
   "id": "c3437c93",
   "metadata": {},
   "source": [
    "**Modifying a Set:**\n",
    "\n",
    "Sets have methods to add and remove elements. Some common methods include:\n",
    "\n",
    "* add(): Adds a single element to the set.\n",
    "* update(): Adds multiple elements to the set.\n",
    "* remove(): Removes a specific element.\n",
    "* discard(): Removes an element if present, but does not raise an error if it is not found.\n",
    "* pop(): Removes and returns an arbitrary element from the set.\n",
    "\n",
    "*Example:*"
   ]
  },
  {
   "cell_type": "code",
   "execution_count": 3,
   "id": "eaf3e864",
   "metadata": {},
   "outputs": [
    {
     "name": "stdout",
     "output_type": "stream",
     "text": [
      "{'apple', 'mango', 'banana', 'cherry'}\n"
     ]
    }
   ],
   "source": [
    "# Adding elements in the set\n",
    "\n",
    "fruits.add(\"mango\")\n",
    "print(fruits)"
   ]
  },
  {
   "cell_type": "code",
   "execution_count": 4,
   "id": "742a1594",
   "metadata": {},
   "outputs": [
    {
     "name": "stdout",
     "output_type": "stream",
     "text": [
      "{'papaya', 'mango', 'watermelon', 'banana', 'cherry', 'apple'}\n"
     ]
    }
   ],
   "source": [
    "# Updating elements in the set\n",
    "\n",
    "fruits.update({'watermelon', 'papaya'})\n",
    "print(fruits)"
   ]
  },
  {
   "cell_type": "code",
   "execution_count": 5,
   "id": "21728004",
   "metadata": {},
   "outputs": [
    {
     "name": "stdout",
     "output_type": "stream",
     "text": [
      "{'papaya', 'watermelon', 'banana', 'cherry', 'apple'}\n"
     ]
    }
   ],
   "source": [
    "# Removing elements in the set\n",
    "\n",
    "fruits.remove(\"mango\")\n",
    "print(fruits)"
   ]
  },
  {
   "cell_type": "code",
   "execution_count": 6,
   "id": "ec81dd6a",
   "metadata": {},
   "outputs": [
    {
     "ename": "KeyError",
     "evalue": "'kiwi'",
     "output_type": "error",
     "traceback": [
      "\u001b[1;31m---------------------------------------------------------------------------\u001b[0m",
      "\u001b[1;31mKeyError\u001b[0m                                  Traceback (most recent call last)",
      "Cell \u001b[1;32mIn[6], line 3\u001b[0m\n\u001b[0;32m      1\u001b[0m \u001b[38;5;66;03m# Removing elements in the set\u001b[39;00m\n\u001b[1;32m----> 3\u001b[0m \u001b[43mfruits\u001b[49m\u001b[38;5;241;43m.\u001b[39;49m\u001b[43mremove\u001b[49m\u001b[43m(\u001b[49m\u001b[38;5;124;43m\"\u001b[39;49m\u001b[38;5;124;43mkiwi\u001b[39;49m\u001b[38;5;124;43m\"\u001b[39;49m\u001b[43m)\u001b[49m\n\u001b[0;32m      4\u001b[0m \u001b[38;5;28mprint\u001b[39m(fruits)\n",
      "\u001b[1;31mKeyError\u001b[0m: 'kiwi'"
     ]
    }
   ],
   "source": [
    "# Removing elements in the set\n",
    "\n",
    "fruits.remove(\"kiwi\")\n",
    "print(fruits)"
   ]
  },
  {
   "cell_type": "code",
   "execution_count": 7,
   "id": "01fa71a3",
   "metadata": {},
   "outputs": [
    {
     "name": "stdout",
     "output_type": "stream",
     "text": [
      "{'papaya', 'watermelon', 'banana', 'cherry', 'apple'}\n"
     ]
    }
   ],
   "source": [
    "# discaring elements from the set\n",
    "\n",
    "fruits.discard('kiwi')\n",
    "print(fruits)"
   ]
  },
  {
   "cell_type": "code",
   "execution_count": 8,
   "id": "dfddd068",
   "metadata": {},
   "outputs": [
    {
     "name": "stdout",
     "output_type": "stream",
     "text": [
      "{'watermelon', 'banana', 'cherry', 'apple'}\n"
     ]
    }
   ],
   "source": [
    "# popping an element from the set\n",
    "\n",
    "fruits.pop()\n",
    "print(fruits)"
   ]
  },
  {
   "cell_type": "code",
   "execution_count": 9,
   "id": "5ee0bb05",
   "metadata": {},
   "outputs": [
    {
     "name": "stdout",
     "output_type": "stream",
     "text": [
      "set()\n"
     ]
    }
   ],
   "source": [
    "# lets get the length of the set\n",
    "\n",
    "fruits.clear()\n",
    "print(fruits)"
   ]
  },
  {
   "cell_type": "markdown",
   "id": "02dfa460",
   "metadata": {},
   "source": [
    "**Set Operations:**\n",
    "\n",
    "Sets support various operations such as union (|), intersection (&), difference (-), and symmetric difference (^).\n",
    "\n",
    "*For example:*"
   ]
  },
  {
   "cell_type": "code",
   "execution_count": 10,
   "id": "227ddebb",
   "metadata": {},
   "outputs": [
    {
     "name": "stdout",
     "output_type": "stream",
     "text": [
      "{1, 2, 3}\n",
      "{3, 4, 5}\n"
     ]
    }
   ],
   "source": [
    "# lets create two sets for performing set operations\n",
    "\n",
    "set1 = {1, 2, 3}\n",
    "set2 = {3, 4, 5}\n",
    "\n",
    "print(set1)\n",
    "print(set2)"
   ]
  },
  {
   "cell_type": "code",
   "execution_count": 11,
   "id": "ac3993fe",
   "metadata": {},
   "outputs": [
    {
     "name": "stdout",
     "output_type": "stream",
     "text": [
      "{1, 2, 3, 4, 5}\n"
     ]
    }
   ],
   "source": [
    "# Union Operation\n",
    "\n",
    "union_set = set1 | set2\n",
    "print(union_set)"
   ]
  },
  {
   "cell_type": "code",
   "execution_count": 12,
   "id": "f3276b02",
   "metadata": {},
   "outputs": [
    {
     "name": "stdout",
     "output_type": "stream",
     "text": [
      "{3}\n"
     ]
    }
   ],
   "source": [
    "# Intersection Operation\n",
    "\n",
    "intersection_set = set1 & set2\n",
    "print(intersection_set)"
   ]
  },
  {
   "cell_type": "code",
   "execution_count": 13,
   "id": "65b8f302",
   "metadata": {},
   "outputs": [
    {
     "name": "stdout",
     "output_type": "stream",
     "text": [
      "{1, 2}\n"
     ]
    }
   ],
   "source": [
    "# Difference Operation\n",
    "difference_set = set1 - set2\n",
    "print(difference_set)"
   ]
  },
  {
   "cell_type": "markdown",
   "id": "e00789c6",
   "metadata": {},
   "source": [
    "# Dictionaries\n",
    "A dictionary is a built-in data type used to store a collection of key-value pairs. Dictionaries are also known as associative arrays or hash maps in other programming languages. Here's a beginner-level introduction to dictionaries in Python:\n",
    "\n",
    "**Creating a Dictionary:**\n",
    "\n",
    "To create a dictionary, enclose the key-value pairs in curly braces {} and separate them with commas. Each key-value pair is written as key: value.\n",
    "\n",
    "*Example:*"
   ]
  },
  {
   "cell_type": "code",
   "execution_count": 14,
   "id": "9f23f963",
   "metadata": {},
   "outputs": [
    {
     "name": "stdout",
     "output_type": "stream",
     "text": [
      "{'brand': 'Ford', 'model': 'Mustang', 'year': 1964}\n"
     ]
    }
   ],
   "source": [
    "# lets create a Dictionary\n",
    "\n",
    "car={\"brand\":\"Ford\",\"model\":\"Mustang\",\"year\":1964}\n",
    "print(car)"
   ]
  },
  {
   "cell_type": "markdown",
   "id": "78a7bac3",
   "metadata": {},
   "source": [
    "**Accessing Dictionary Elements:**\n",
    "\n",
    "You can access the value associated with a specific key by using the key as an index.\n",
    "\n",
    "*Example:*"
   ]
  },
  {
   "cell_type": "code",
   "execution_count": 15,
   "id": "0da38110",
   "metadata": {},
   "outputs": [
    {
     "name": "stdout",
     "output_type": "stream",
     "text": [
      "Ford\n"
     ]
    }
   ],
   "source": [
    "# using the get operator to access the dictionary elements\n",
    "\n",
    "print(car.get(\"brand\"))"
   ]
  },
  {
   "cell_type": "code",
   "execution_count": 16,
   "id": "226112fe",
   "metadata": {},
   "outputs": [
    {
     "name": "stdout",
     "output_type": "stream",
     "text": [
      "Ford\n"
     ]
    }
   ],
   "source": [
    "# using the Indexing method to accessing the dictionary elements\n",
    "\n",
    "print(car[\"brand\"])"
   ]
  },
  {
   "cell_type": "markdown",
   "id": "b961f77a",
   "metadata": {},
   "source": [
    "**Modifying a Dictionary:**\n",
    "\n",
    "Dictionaries are mutable, so you can modify the value associated with a key or add new key-value pairs.\n",
    "\n",
    "*Example:*"
   ]
  },
  {
   "cell_type": "code",
   "execution_count": 17,
   "id": "94a38224",
   "metadata": {},
   "outputs": [
    {
     "name": "stdout",
     "output_type": "stream",
     "text": [
      "{'brand': 'Maruti', 'model': 'Mustang', 'year': 1964}\n"
     ]
    }
   ],
   "source": [
    "# let's modify the value of the key value in a dictionary\n",
    "\n",
    "car[\"brand\"]=\"Maruti\"\n",
    "print(car)"
   ]
  },
  {
   "cell_type": "code",
   "execution_count": 18,
   "id": "af9a725d",
   "metadata": {},
   "outputs": [
    {
     "name": "stdout",
     "output_type": "stream",
     "text": [
      "{'brand': 'Maruti', 'model': 'Mustang', 'year': 1964, 'color': 'Red'}\n"
     ]
    }
   ],
   "source": [
    "# Adding a Key-Value in a Dictionary\n",
    "\n",
    "car[\"color\"]=\"Red\"\n",
    "print(car)"
   ]
  },
  {
   "cell_type": "markdown",
   "id": "cb77969d",
   "metadata": {},
   "source": [
    "# Nested Dictionaries"
   ]
  },
  {
   "cell_type": "code",
   "execution_count": 19,
   "id": "0f31f136",
   "metadata": {},
   "outputs": [
    {
     "name": "stdout",
     "output_type": "stream",
     "text": [
      "{'Ram': {'Maths': 75, 'Science': 80, 'English': 78}, 'Shyam': {'Maths': 60, 'Science': 65, 'English': 70}, 'Mohan': {'Maths': 80, 'Science': 50, 'English': 68}}\n"
     ]
    }
   ],
   "source": [
    "# Let's Create a Nested Dictionary\n",
    "\n",
    "students_marks={'Ram':{\"Maths\":75,\"Science\":80,\"English\":78},\n",
    "                 \"Shyam\":{\"Maths\":60,\"Science\":65,\"English\":70},\n",
    "                  \"Mohan\":{\"Maths\":80,\"Science\":50,\"English\":68}}\n",
    "\n",
    "print(students_marks)"
   ]
  },
  {
   "cell_type": "code",
   "execution_count": 20,
   "id": "ac61267e",
   "metadata": {},
   "outputs": [
    {
     "name": "stdout",
     "output_type": "stream",
     "text": [
      "{'Maths': 80, 'Science': 50, 'English': 68}\n",
      "Mohan's Score in Maths: 80\n"
     ]
    }
   ],
   "source": [
    "# accessing the values from a nested dictionary\n",
    "\n",
    "print(students_marks[\"Mohan\"])\n",
    "\n",
    "print(\"Mohan's Score in Maths:\",students_marks[\"Mohan\"][\"Maths\"])"
   ]
  },
  {
   "cell_type": "code",
   "execution_count": 21,
   "id": "64065992",
   "metadata": {},
   "outputs": [
    {
     "name": "stdout",
     "output_type": "stream",
     "text": [
      "{'Ram': {'Maths': 75, 'Science': 80, 'English': 78}, 'Shyam': {'Maths': 60, 'Science': 65, 'English': 70}, 'Mohan': {'Maths': 80, 'Science': 50, 'English': 68}, 'Rohan': {'Maths': 79, 'Science': 80, 'English': 90}}\n",
      "Rohan's Marks:  {'Maths': 79, 'Science': 80, 'English': 90}\n"
     ]
    }
   ],
   "source": [
    "# Adding key-values in a Nested Dictionary\n",
    "\n",
    "students_marks[\"Rohan\"]={}\n",
    "students_marks[\"Rohan\"][\"Maths\"]=79\n",
    "students_marks[\"Rohan\"][\"Science\"]=80\n",
    "students_marks[\"Rohan\"][\"English\"]=90\n",
    "\n",
    "print(students_marks)\n",
    "print(\"Rohan's Marks: \", students_marks[\"Rohan\"])"
   ]
  },
  {
   "cell_type": "code",
   "execution_count": 22,
   "id": "3ccf4870",
   "metadata": {},
   "outputs": [
    {
     "name": "stdout",
     "output_type": "stream",
     "text": [
      "{'Ram': {'Maths': 75, 'Science': 80, 'English': 78}, 'Mohan': {'Maths': 80, 'Science': 50, 'English': 68}, 'Rohan': {'Maths': 79, 'Science': 80, 'English': 90}}\n"
     ]
    }
   ],
   "source": [
    "# Removing an element from a Dictionary using pop\n",
    "\n",
    "students_marks.pop(\"Shyam\")\n",
    "print(students_marks)"
   ]
  },
  {
   "cell_type": "markdown",
   "id": "215bcbe7",
   "metadata": {},
   "source": [
    "Dictionaries are useful when you want to store and retrieve data based on specific keys. They are efficient for lookup operations and provide a flexible way to organize and manipulate data."
   ]
  },
  {
   "cell_type": "code",
   "execution_count": null,
   "id": "234844a3",
   "metadata": {},
   "outputs": [],
   "source": []
  }
 ],
 "metadata": {
  "kernelspec": {
   "display_name": "Python 3 (ipykernel)",
   "language": "python",
   "name": "python3"
  },
  "language_info": {
   "codemirror_mode": {
    "name": "ipython",
    "version": 3
   },
   "file_extension": ".py",
   "mimetype": "text/x-python",
   "name": "python",
   "nbconvert_exporter": "python",
   "pygments_lexer": "ipython3",
   "version": "3.10.9"
  }
 },
 "nbformat": 4,
 "nbformat_minor": 5
}
