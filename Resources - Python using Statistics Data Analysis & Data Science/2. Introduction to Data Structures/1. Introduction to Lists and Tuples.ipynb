{
 "cells": [
  {
   "cell_type": "markdown",
   "id": "6ce69ba2",
   "metadata": {},
   "source": [
    "# Data Structures"
   ]
  },
  {
   "cell_type": "markdown",
   "id": "fa16f672",
   "metadata": {},
   "source": [
    "# Lists\n",
    "A list is a built-in data type used to store a collection of items. Lists are mutable, which means you can modify them by adding, removing, or changing elements. Here's a beginner-level introduction to lists in Python:\n",
    "\n",
    "**Creating a List:**\n",
    "\n",
    "To create a list, enclose the items in square brackets [ ] and separate them with commas.\n",
    "\n",
    "*For example:*"
   ]
  },
  {
   "cell_type": "code",
   "execution_count": 1,
   "id": "54a46b9b",
   "metadata": {},
   "outputs": [
    {
     "name": "stdout",
     "output_type": "stream",
     "text": [
      "['apple', 'banana', 'cherry']\n"
     ]
    }
   ],
   "source": [
    "# creating a dictionary\n",
    "\n",
    "Fruits=['apple','banana','cherry']\n",
    "print(Fruits)"
   ]
  },
  {
   "cell_type": "markdown",
   "id": "f45bdb2a",
   "metadata": {},
   "source": [
    "**Accessing List Elements:**\n",
    "\n",
    "You can access individual elements of a list using their index. Indexing starts from 0 for the first element.\n",
    "\n",
    "*For example:*"
   ]
  },
  {
   "cell_type": "code",
   "execution_count": 2,
   "id": "2e90b05c",
   "metadata": {},
   "outputs": [
    {
     "name": "stdout",
     "output_type": "stream",
     "text": [
      "banana\n"
     ]
    }
   ],
   "source": [
    "# accessing the second item in the list\n",
    "\n",
    "print(Fruits[1])"
   ]
  },
  {
   "cell_type": "markdown",
   "id": "595a87fc",
   "metadata": {},
   "source": [
    "# **List Methods:**\n",
    "\n",
    "Lists have built-in methods that allow you to perform operations on them. Some common methods include:\n",
    "\n",
    "* append(): Adds an element to the end of the list.\n",
    "* insert(): Inserts an element at a specific index.\n",
    "* remove(): Removes the first occurrence of an element.\n",
    "* pop(): Removes and returns an element at a specific index.\n",
    "* sort(): Sorts the list in ascending order.\n",
    "* len(): Returns the length of the list."
   ]
  },
  {
   "cell_type": "markdown",
   "id": "20989d6f",
   "metadata": {},
   "source": [
    "**Modifying List Elements:**\n",
    "\n",
    "Lists are mutable, so you can modify elements by assigning new values to specific indices.\n",
    "\n",
    "*For example:*"
   ]
  },
  {
   "cell_type": "code",
   "execution_count": 3,
   "id": "cae98323",
   "metadata": {},
   "outputs": [
    {
     "name": "stdout",
     "output_type": "stream",
     "text": [
      "['apple', 'banana', 'cherry', 'grape']\n"
     ]
    }
   ],
   "source": [
    "# Adding an element to the end of the list\n",
    "\n",
    "Fruits.append(\"grape\")\n",
    "print(Fruits)"
   ]
  },
  {
   "cell_type": "code",
   "execution_count": 4,
   "id": "6908935e",
   "metadata": {},
   "outputs": [
    {
     "name": "stdout",
     "output_type": "stream",
     "text": [
      "['apple', 'banana', 'pineapple', 'cherry', 'grape']\n"
     ]
    }
   ],
   "source": [
    "# Inserting an element in the list\n",
    "\n",
    "Fruits.insert(2, \"pineapple\")\n",
    "print(Fruits)"
   ]
  },
  {
   "cell_type": "code",
   "execution_count": 5,
   "id": "686085d0",
   "metadata": {},
   "outputs": [
    {
     "name": "stdout",
     "output_type": "stream",
     "text": [
      "['apple', 'banana', 'pineapple', 'cherry']\n"
     ]
    }
   ],
   "source": [
    "# Removing an element from the list\n",
    "\n",
    "Fruits.remove(\"grape\")\n",
    "print(Fruits)"
   ]
  },
  {
   "cell_type": "code",
   "execution_count": 6,
   "id": "b89b5dcc",
   "metadata": {},
   "outputs": [
    {
     "name": "stdout",
     "output_type": "stream",
     "text": [
      "['apple', 'banana', 'pineapple']\n"
     ]
    }
   ],
   "source": [
    "# Removing an element from the list using pop\n",
    "\n",
    "# By default the pop function removes the last element of the list\n",
    "Fruits.pop()\n",
    "print(Fruits)"
   ]
  },
  {
   "cell_type": "code",
   "execution_count": 7,
   "id": "33ebacfd",
   "metadata": {},
   "outputs": [
    {
     "name": "stdout",
     "output_type": "stream",
     "text": [
      "['apple', 'banana', 'pineapple']\n"
     ]
    }
   ],
   "source": [
    "# Sorting the List\n",
    "\n",
    "Fruits.sort()\n",
    "print(Fruits)"
   ]
  },
  {
   "cell_type": "code",
   "execution_count": 8,
   "id": "267f5cff",
   "metadata": {},
   "outputs": [
    {
     "data": {
      "text/plain": [
       "3"
      ]
     },
     "execution_count": 8,
     "metadata": {},
     "output_type": "execute_result"
    }
   ],
   "source": [
    "# Getting the length of the List\n",
    "\n",
    "len(Fruits)"
   ]
  },
  {
   "cell_type": "markdown",
   "id": "28199af7",
   "metadata": {},
   "source": [
    "# Tuples"
   ]
  },
  {
   "cell_type": "markdown",
   "id": "17e43151",
   "metadata": {},
   "source": [
    "A tuple is a built-in data type used to store an ordered collection of items. Tuples are similar to lists, but they are immutable, meaning their elements cannot be modified once created. Here's a beginner-level introduction to tuples in Python:"
   ]
  },
  {
   "cell_type": "markdown",
   "id": "4c202f37",
   "metadata": {},
   "source": [
    "Tuples are useful when you have a collection of items that should not be modified after creation, such as coordinates or fixed sets of values. Their immutability provides benefits in terms of performance and data integrity."
   ]
  },
  {
   "cell_type": "markdown",
   "id": "f481e9d9",
   "metadata": {},
   "source": [
    "**Creating a Tuple:**\n",
    "\n",
    "To create a tuple, enclose the items in parentheses () and separate them with commas.\n",
    "\n",
    "*For example:*"
   ]
  },
  {
   "cell_type": "code",
   "execution_count": 9,
   "id": "0027ba74",
   "metadata": {},
   "outputs": [],
   "source": [
    "# lets create a Tuple\n",
    "\n",
    "fruits = (\"apple\", \"banana\", \"orange\")"
   ]
  },
  {
   "cell_type": "markdown",
   "id": "ea3852ee",
   "metadata": {},
   "source": [
    "**Accessing Tuple Elements:**\n",
    "\n",
    "You can access individual elements of a tuple using their index, similar to lists. Indexing starts from 0 for the first element.\n",
    "\n",
    "*For example:*"
   ]
  },
  {
   "cell_type": "code",
   "execution_count": 10,
   "id": "ee8a5419",
   "metadata": {},
   "outputs": [
    {
     "name": "stdout",
     "output_type": "stream",
     "text": [
      "banana\n"
     ]
    }
   ],
   "source": [
    "# lets try to access the tuple elements\n",
    "\n",
    "print(fruits[1])"
   ]
  },
  {
   "cell_type": "markdown",
   "id": "46047cba",
   "metadata": {},
   "source": [
    "**Tuple Operations:**\n",
    "\n",
    "Tuples support various operations such as concatenation (+), repetition (*), and slicing (:), similar to lists.\n",
    "\n",
    "*For example:*"
   ]
  },
  {
   "cell_type": "code",
   "execution_count": 11,
   "id": "518fe840",
   "metadata": {},
   "outputs": [
    {
     "name": "stdout",
     "output_type": "stream",
     "text": [
      "('tomato', 'potato', 'onion', 'apple', 'banana', 'orange')\n"
     ]
    }
   ],
   "source": [
    "# Concatenation Operation in Tuples\n",
    "\n",
    "fruits = (\"apple\", \"banana\", \"orange\")\n",
    "veg = (\"tomato\", \"potato\", \"onion\")\n",
    "\n",
    "combined_tuple = veg + fruits\n",
    "print(combined_tuple)"
   ]
  },
  {
   "cell_type": "code",
   "execution_count": 12,
   "id": "da3353ae",
   "metadata": {},
   "outputs": [
    {
     "name": "stdout",
     "output_type": "stream",
     "text": [
      "('apple', 'banana', 'orange', 'apple', 'banana', 'orange', 'apple', 'banana', 'orange')\n"
     ]
    }
   ],
   "source": [
    "# Repetition Operation in Tuples\n",
    "\n",
    "repeated_tuple = fruits * 3\n",
    "print(repeated_tuple)"
   ]
  },
  {
   "cell_type": "code",
   "execution_count": 13,
   "id": "1d181faf",
   "metadata": {},
   "outputs": [
    {
     "name": "stdout",
     "output_type": "stream",
     "text": [
      "('apple', 'banana', 'orange')\n",
      "('banana', 'orange')\n"
     ]
    }
   ],
   "source": [
    "# Slicing Operation in Tuples\n",
    "\n",
    "sliced_tuple = fruits[1:]\n",
    "print(fruits)\n",
    "print(sliced_tuple)"
   ]
  },
  {
   "cell_type": "markdown",
   "id": "92729b3b",
   "metadata": {},
   "source": [
    "# Sets\n",
    "A set is a built-in data type used to store an unordered collection of unique elements. Sets are mutable, meaning you can add or remove elements, but they do not allow duplicate values. Here's a beginner-level introduction to sets in Python:\n",
    "\n",
    "**Creating a Set:**\n",
    "\n",
    "To create a set, enclose the elements in curly braces {} or use the set() function.\n",
    "\n",
    "*For example:*"
   ]
  },
  {
   "cell_type": "code",
   "execution_count": 4,
   "id": "8169e070",
   "metadata": {},
   "outputs": [],
   "source": [
    "# creating sets\n",
    "\n",
    "fruits = {\"apple\", \"banana\", \"cherry\"}\n",
    "vowels = set(\"aeiou\")"
   ]
  },
  {
   "cell_type": "code",
   "execution_count": 6,
   "id": "3e67fc22",
   "metadata": {},
   "outputs": [
    {
     "ename": "NameError",
     "evalue": "name 'i' is not defined",
     "output_type": "error",
     "traceback": [
      "\u001b[1;31m---------------------------------------------------------------------------\u001b[0m",
      "\u001b[1;31mNameError\u001b[0m                                 Traceback (most recent call last)",
      "Cell \u001b[1;32mIn[6], line 3\u001b[0m\n\u001b[0;32m      1\u001b[0m \u001b[38;5;66;03m# Using the IN Operator to check, if \"i\" exists in the Vowels set.\u001b[39;00m\n\u001b[1;32m----> 3\u001b[0m \u001b[43mi\u001b[49m \u001b[38;5;129;01min\u001b[39;00m vowels\n",
      "\u001b[1;31mNameError\u001b[0m: name 'i' is not defined"
     ]
    }
   ],
   "source": [
    "# Using the IN Operator to check, if \"i\" exists in the Vowels set.\n",
    "\n",
    "i in vowels"
   ]
  },
  {
   "cell_type": "code",
   "execution_count": null,
   "id": "96116c9e",
   "metadata": {},
   "outputs": [],
   "source": []
  }
 ],
 "metadata": {
  "kernelspec": {
   "display_name": "Python 3 (ipykernel)",
   "language": "python",
   "name": "python3"
  },
  "language_info": {
   "codemirror_mode": {
    "name": "ipython",
    "version": 3
   },
   "file_extension": ".py",
   "mimetype": "text/x-python",
   "name": "python",
   "nbconvert_exporter": "python",
   "pygments_lexer": "ipython3",
   "version": "3.10.9"
  }
 },
 "nbformat": 4,
 "nbformat_minor": 5
}
