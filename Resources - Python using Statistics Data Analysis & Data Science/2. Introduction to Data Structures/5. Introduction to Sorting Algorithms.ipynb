{
 "cells": [
  {
   "cell_type": "markdown",
   "id": "465df656",
   "metadata": {},
   "source": [
    "# Sorting Algorithms"
   ]
  },
  {
   "cell_type": "markdown",
   "id": "044b9ff1",
   "metadata": {},
   "source": [
    "There are several sorting algorithms available that can be used to sort a list of elements. Here are some commonly used sorting algorithms along with their implementations in Python:"
   ]
  },
  {
   "cell_type": "markdown",
   "id": "a3524e11",
   "metadata": {},
   "source": [
    "### Bubble Sort:\n",
    "Bubble sort repeatedly compares adjacent elements and swaps them if they are in the wrong order. The largest element \"bubbles\" to the end of the list in each iteration."
   ]
  },
  {
   "cell_type": "code",
   "execution_count": 1,
   "id": "908ab842",
   "metadata": {},
   "outputs": [],
   "source": [
    "# Implementation of Bubble sort\n",
    "\n",
    "def bubble_sort(arr):\n",
    "    n = len(arr)\n",
    "    for i in range(n-1):\n",
    "        for j in range(n-1):\n",
    "            if arr[j] > arr[j+1]:\n",
    "                arr[j], arr[j+1] = arr[j+1], arr[j]"
   ]
  },
  {
   "cell_type": "markdown",
   "id": "2a182eca",
   "metadata": {},
   "source": [
    "### Selection Sort:\n",
    "Selection sort finds the minimum element from the unsorted part of the list and places it at the beginning. It repeatedly selects the smallest element and swaps it with the current position."
   ]
  },
  {
   "cell_type": "code",
   "execution_count": 2,
   "id": "12c9f820",
   "metadata": {},
   "outputs": [],
   "source": [
    "# Implementation of Selection sort\n",
    "\n",
    "def selection_sort(arr):\n",
    "    n = len(arr)\n",
    "    for i in range(n-1):\n",
    "        min_idx = i\n",
    "        for j in range(i+1, n):\n",
    "            if arr[j] < arr[min_idx]:\n",
    "                min_idx = j\n",
    "        arr[i], arr[min_idx] = arr[min_idx], arr[i]"
   ]
  },
  {
   "cell_type": "markdown",
   "id": "1fe30146",
   "metadata": {},
   "source": [
    "### Insertion Sort:\n",
    "Insertion sort builds the sorted list one element at a time. It iterates through the unsorted part and inserts each element into its correct position in the sorted part."
   ]
  },
  {
   "cell_type": "code",
   "execution_count": 3,
   "id": "9e6a923a",
   "metadata": {},
   "outputs": [],
   "source": [
    "# Implementation of Insertion sort\n",
    "\n",
    "def insertion_sort(arr):\n",
    "    n = len(arr)\n",
    "    for i in range(1, n):\n",
    "        key = arr[i]\n",
    "        j = i-1\n",
    "        while j >= 0 and arr[j] > key:\n",
    "            arr[j+1] = arr[j]\n",
    "            j -= 1\n",
    "        arr[j+1] = key"
   ]
  },
  {
   "cell_type": "code",
   "execution_count": null,
   "id": "5b771e7a",
   "metadata": {},
   "outputs": [],
   "source": []
  }
 ],
 "metadata": {
  "kernelspec": {
   "display_name": "Python 3 (ipykernel)",
   "language": "python",
   "name": "python3"
  },
  "language_info": {
   "codemirror_mode": {
    "name": "ipython",
    "version": 3
   },
   "file_extension": ".py",
   "mimetype": "text/x-python",
   "name": "python",
   "nbconvert_exporter": "python",
   "pygments_lexer": "ipython3",
   "version": "3.10.9"
  }
 },
 "nbformat": 4,
 "nbformat_minor": 5
}
