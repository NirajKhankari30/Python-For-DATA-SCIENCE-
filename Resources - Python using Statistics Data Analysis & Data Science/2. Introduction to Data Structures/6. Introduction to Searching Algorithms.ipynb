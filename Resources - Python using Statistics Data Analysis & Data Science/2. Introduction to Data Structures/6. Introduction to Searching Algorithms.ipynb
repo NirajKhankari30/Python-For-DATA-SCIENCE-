{
 "cells": [
  {
   "cell_type": "markdown",
   "id": "c42b3403",
   "metadata": {},
   "source": [
    "# Searching Algorithms"
   ]
  },
  {
   "cell_type": "markdown",
   "id": "fea67de1",
   "metadata": {},
   "source": [
    "## Linear Search:\n",
    "Linear search sequentially checks each element in a list until the target element is found or the end of the list is reached."
   ]
  },
  {
   "cell_type": "code",
   "execution_count": 1,
   "id": "373b96c4",
   "metadata": {},
   "outputs": [],
   "source": [
    "# Implementation of Linear Search\n",
    "\n",
    "def linear_search(arr, target):\n",
    "    for i in range(len(arr)):\n",
    "        if arr[i] == target:\n",
    "            return i\n",
    "    return -1"
   ]
  },
  {
   "cell_type": "code",
   "execution_count": 2,
   "id": "46d7dade",
   "metadata": {},
   "outputs": [
    {
     "name": "stdout",
     "output_type": "stream",
     "text": [
      "2\n"
     ]
    }
   ],
   "source": [
    "# let's take an example\n",
    "\n",
    "numbers = [4, 2, 9, 7, 1, 6]\n",
    "target = 9\n",
    "\n",
    "result = linear_search(numbers, target)\n",
    "print(result)"
   ]
  },
  {
   "cell_type": "markdown",
   "id": "9c89cfa2",
   "metadata": {},
   "source": [
    "## Binary Search:\n",
    "Binary search requires a sorted list and repeatedly divides the search space in half until the target element is found or the search space is empty. It compares the target element with the middle element and reduces the search space accordingly."
   ]
  },
  {
   "cell_type": "code",
   "execution_count": 3,
   "id": "a551f7fb",
   "metadata": {},
   "outputs": [],
   "source": [
    "# Implementation of Binary Search\n",
    "\n",
    "def binary_search(arr, target):\n",
    "    low = 0\n",
    "    high = len(arr) - 1\n",
    "    while low <= high:\n",
    "        mid = (low + high) // 2\n",
    "        if arr[mid] == target:\n",
    "            return mid\n",
    "        elif arr[mid] < target:\n",
    "            low = mid + 1\n",
    "        else:\n",
    "            high = mid - 1\n",
    "    return -1"
   ]
  },
  {
   "cell_type": "code",
   "execution_count": 4,
   "id": "2d42f366",
   "metadata": {},
   "outputs": [
    {
     "name": "stdout",
     "output_type": "stream",
     "text": [
      "Target found at index: 3\n"
     ]
    }
   ],
   "source": [
    "# let's take an example\n",
    "\n",
    "arr = [1, 3, 5, 7, 9, 11, 13]\n",
    "target = 7\n",
    "\n",
    "index = binary_search(arr, target)\n",
    "print(\"Target found at index:\", index)"
   ]
  },
  {
   "cell_type": "code",
   "execution_count": null,
   "id": "38cdd981",
   "metadata": {},
   "outputs": [],
   "source": []
  }
 ],
 "metadata": {
  "kernelspec": {
   "display_name": "Python 3 (ipykernel)",
   "language": "python",
   "name": "python3"
  },
  "language_info": {
   "codemirror_mode": {
    "name": "ipython",
    "version": 3
   },
   "file_extension": ".py",
   "mimetype": "text/x-python",
   "name": "python",
   "nbconvert_exporter": "python",
   "pygments_lexer": "ipython3",
   "version": "3.10.9"
  }
 },
 "nbformat": 4,
 "nbformat_minor": 5
}
