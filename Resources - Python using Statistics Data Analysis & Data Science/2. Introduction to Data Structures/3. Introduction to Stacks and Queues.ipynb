{
 "cells": [
  {
   "cell_type": "markdown",
   "id": "b580e64f",
   "metadata": {},
   "source": [
    "# Stacks and Queues\n",
    "Stacks and queues are abstract data types that allow you to organize and manipulate data in a specific order. Here's a brief explanation of stacks and queues in Python:\n",
    "\n",
    "### Stacks using list\n",
    "A stack is a data structure that follows the Last-In-First-Out (LIFO) principle. Elements are added and removed from the same end, called the \"top\" of the stack. In Python, you can use a list to implement a stack. Some common operations on stacks include:\n",
    "\n",
    "* push(item): Adds an item to the top of the stack.\n",
    "* pop(): Removes and returns the item from the top of the stack.\n",
    "* peek(): Returns the item at the top of the stack without removing it.\n",
    "* is_empty(): Checks if the stack is empty.\n",
    "\n",
    "*Example:*"
   ]
  },
  {
   "cell_type": "code",
   "execution_count": 1,
   "id": "e82764d6",
   "metadata": {},
   "outputs": [
    {
     "name": "stdout",
     "output_type": "stream",
     "text": [
      "[]\n"
     ]
    }
   ],
   "source": [
    "# Creating an Empty List\n",
    "\n",
    "letters=[]\n",
    "print(letters)"
   ]
  },
  {
   "cell_type": "code",
   "execution_count": 2,
   "id": "4fdd4d14",
   "metadata": {},
   "outputs": [
    {
     "name": "stdout",
     "output_type": "stream",
     "text": [
      "['a', 'e', 'f', 'h']\n"
     ]
    }
   ],
   "source": [
    "# Adding elements using the Push Operation\n",
    "\n",
    "letters.append('a')\n",
    "letters.append('e')\n",
    "letters.append('f')\n",
    "letters.append('h')\n",
    "\n",
    "print(letters)"
   ]
  },
  {
   "cell_type": "code",
   "execution_count": 3,
   "id": "c7a2267f",
   "metadata": {},
   "outputs": [
    {
     "name": "stdout",
     "output_type": "stream",
     "text": [
      "['a', 'e', 'f']\n"
     ]
    }
   ],
   "source": [
    "# Removing element using the Pop operation\n",
    "\n",
    "letters.pop()\n",
    "print(letters)"
   ]
  },
  {
   "cell_type": "markdown",
   "id": "d58af8ff",
   "metadata": {},
   "source": [
    "### Queues using list\n",
    "A queue is a data structure that follows the First-In-First-Out (FIFO) principle. Elements are added at the \"rear\" and removed from the \"front\" of the queue."
   ]
  },
  {
   "cell_type": "code",
   "execution_count": 4,
   "id": "88632a0f",
   "metadata": {},
   "outputs": [
    {
     "name": "stdout",
     "output_type": "stream",
     "text": [
      "[]\n"
     ]
    }
   ],
   "source": [
    "# Creating an Empty list\n",
    "\n",
    "fruits=[]\n",
    "print(fruits)"
   ]
  },
  {
   "cell_type": "code",
   "execution_count": 5,
   "id": "9e83872b",
   "metadata": {},
   "outputs": [
    {
     "name": "stdout",
     "output_type": "stream",
     "text": [
      "['mango', 'banana', 'guava', 'apple']\n"
     ]
    }
   ],
   "source": [
    "# Adding items using enqueue operation\n",
    "\n",
    "fruits.append('mango')\n",
    "fruits.append('banana')\n",
    "fruits.append('guava')\n",
    "fruits.append('apple')\n",
    "\n",
    "print(fruits)"
   ]
  },
  {
   "cell_type": "code",
   "execution_count": 6,
   "id": "f40692ef",
   "metadata": {},
   "outputs": [
    {
     "name": "stdout",
     "output_type": "stream",
     "text": [
      "['banana', 'guava', 'apple']\n"
     ]
    }
   ],
   "source": [
    "# Removing items using dequeue operation\n",
    "\n",
    "fruits.pop(0)\n",
    "print(fruits)"
   ]
  },
  {
   "cell_type": "markdown",
   "id": "522254ad",
   "metadata": {},
   "source": [
    "### Stack using deque"
   ]
  },
  {
   "cell_type": "code",
   "execution_count": 7,
   "id": "22530afe",
   "metadata": {},
   "outputs": [
    {
     "name": "stdout",
     "output_type": "stream",
     "text": [
      "deque([])\n"
     ]
    }
   ],
   "source": [
    "# creating a stack using deque\n",
    "from collections import deque\n",
    "\n",
    "numbers=deque()\n",
    "print(numbers)"
   ]
  },
  {
   "cell_type": "code",
   "execution_count": 8,
   "id": "a7ae0d93",
   "metadata": {},
   "outputs": [
    {
     "name": "stdout",
     "output_type": "stream",
     "text": [
      "deque([23, 45, 12, 54])\n"
     ]
    }
   ],
   "source": [
    "# Adding items Push\n",
    "\n",
    "numbers.append(23)\n",
    "numbers.append(45)\n",
    "numbers.append(12)\n",
    "numbers.append(54)\n",
    "\n",
    "print(numbers)"
   ]
  },
  {
   "cell_type": "code",
   "execution_count": 9,
   "id": "e3e3c5d3",
   "metadata": {},
   "outputs": [
    {
     "name": "stdout",
     "output_type": "stream",
     "text": [
      "deque([23, 45, 12])\n"
     ]
    }
   ],
   "source": [
    "#Removing items using Pop\n",
    "\n",
    "numbers.pop()\n",
    "print(numbers)"
   ]
  },
  {
   "cell_type": "markdown",
   "id": "44c67c7f",
   "metadata": {},
   "source": [
    "### Queues using deque"
   ]
  },
  {
   "cell_type": "code",
   "execution_count": 10,
   "id": "cab2ec38",
   "metadata": {},
   "outputs": [
    {
     "name": "stdout",
     "output_type": "stream",
     "text": [
      "deque([])\n"
     ]
    }
   ],
   "source": [
    "# Creating a Queue using deque\n",
    "from collections import deque\n",
    "\n",
    "names=deque()\n",
    "print(names)"
   ]
  },
  {
   "cell_type": "code",
   "execution_count": 11,
   "id": "2420d3b9",
   "metadata": {},
   "outputs": [
    {
     "name": "stdout",
     "output_type": "stream",
     "text": [
      "deque(['Radhika', 'Shyam', 'Ravi', 'Shivani'])\n"
     ]
    }
   ],
   "source": [
    "# Adding items using Enqueue\n",
    "\n",
    "names.append(\"Radhika\")\n",
    "names.append(\"Shyam\")\n",
    "names.append('Ravi')\n",
    "names.append(\"Shivani\")\n",
    "\n",
    "print(names)"
   ]
  },
  {
   "cell_type": "code",
   "execution_count": 12,
   "id": "dc5aa60c",
   "metadata": {},
   "outputs": [
    {
     "name": "stdout",
     "output_type": "stream",
     "text": [
      "deque(['Shyam', 'Ravi', 'Shivani'])\n"
     ]
    }
   ],
   "source": [
    "# Removing items using dequeue\n",
    "\n",
    "names.popleft()\n",
    "print(names)"
   ]
  },
  {
   "cell_type": "code",
   "execution_count": null,
   "id": "093df7f3",
   "metadata": {},
   "outputs": [],
   "source": []
  }
 ],
 "metadata": {
  "kernelspec": {
   "display_name": "Python 3 (ipykernel)",
   "language": "python",
   "name": "python3"
  },
  "language_info": {
   "codemirror_mode": {
    "name": "ipython",
    "version": 3
   },
   "file_extension": ".py",
   "mimetype": "text/x-python",
   "name": "python",
   "nbconvert_exporter": "python",
   "pygments_lexer": "ipython3",
   "version": "3.10.9"
  }
 },
 "nbformat": 4,
 "nbformat_minor": 5
}
