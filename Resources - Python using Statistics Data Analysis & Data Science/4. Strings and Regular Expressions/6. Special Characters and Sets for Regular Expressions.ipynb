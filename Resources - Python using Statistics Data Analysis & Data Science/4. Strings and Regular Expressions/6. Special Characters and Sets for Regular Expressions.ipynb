{
 "cells": [
  {
   "cell_type": "markdown",
   "id": "82f68af1",
   "metadata": {},
   "source": [
    "## Special Characters and Sets for Regular Expressions\n",
    "\n",
    "By utilizing special characters and sets, you can create more flexible and precise patterns to match and manipulate text. They enhance the versatility of regular expressions and enable you to handle various scenarios, such as validating input, extracting specific information, or transforming data."
   ]
  },
  {
   "cell_type": "markdown",
   "id": "101b4f35",
   "metadata": {},
   "source": [
    "* \\A: This special character represents the start of a string. It matches the position at the beginning of the entire string. It is different from the ^ character, which matches the start of a line within the string."
   ]
  },
  {
   "cell_type": "code",
   "execution_count": 8,
   "id": "fd9d3f90",
   "metadata": {},
   "outputs": [],
   "source": [
    "import re"
   ]
  },
  {
   "cell_type": "code",
   "execution_count": 9,
   "id": "0a9aca9e",
   "metadata": {},
   "outputs": [
    {
     "name": "stdout",
     "output_type": "stream",
     "text": [
      "[]\n"
     ]
    }
   ],
   "source": [
    "# lets take an example\n",
    "s1 = \"I love watching movies\"\n",
    "print(re.findall(\"\\AThe\", s1))"
   ]
  },
  {
   "cell_type": "markdown",
   "id": "b29282e9",
   "metadata": {},
   "source": [
    "* \\B: This special character matches a position that is not a word boundary. It is the opposite of \\b, which matches a word boundary. A word boundary is a position between a word character (e.g., alphabets, digits, underscores) and a non-word character (e.g., spaces, punctuation)."
   ]
  },
  {
   "cell_type": "code",
   "execution_count": 10,
   "id": "07425831",
   "metadata": {},
   "outputs": [
    {
     "name": "stdout",
     "output_type": "stream",
     "text": [
      "[]\n"
     ]
    }
   ],
   "source": [
    "# lets take an example\n",
    "s1 = \"I love watching movies\"\n",
    "print(re.findall('\\BI', s1))"
   ]
  },
  {
   "cell_type": "markdown",
   "id": "de4fa1f8",
   "metadata": {},
   "source": [
    "* \\D: This special character matches any non-digit character. It is the opposite of \\d, which matches any digit character from 0 to 9."
   ]
  },
  {
   "cell_type": "code",
   "execution_count": 11,
   "id": "60bbbc6b",
   "metadata": {},
   "outputs": [
    {
     "name": "stdout",
     "output_type": "stream",
     "text": [
      "['I', ' ', 'l', 'o', 'v', 'e', ' ', 'w', 'a', 't', 'c', 'h', 'i', 'n', 'g', ' ', 'm', 'o', 'v', 'i', 'e', 's']\n"
     ]
    }
   ],
   "source": [
    "# lets take an example\n",
    "s1 = \"I love watching movies\"\n",
    "print(re.findall('\\D', s1))"
   ]
  },
  {
   "cell_type": "markdown",
   "id": "81cba04e",
   "metadata": {},
   "source": [
    "* \\d: This special character matches any digit character from 0 to 9. It is commonly used to match numerical values or sequences of digits."
   ]
  },
  {
   "cell_type": "code",
   "execution_count": 12,
   "id": "ceb6eae1",
   "metadata": {},
   "outputs": [
    {
     "name": "stdout",
     "output_type": "stream",
     "text": [
      "[]\n"
     ]
    }
   ],
   "source": [
    "# lets take an example\n",
    "s1 = \"I love watching movies\"\n",
    "print(re.findall('\\d', s1))"
   ]
  },
  {
   "cell_type": "markdown",
   "id": "df1eb9dc",
   "metadata": {},
   "source": [
    "* \\s: This special character matches any whitespace character, including spaces, tabs, and newlines. It is commonly used to match and manipulate whitespace in strings."
   ]
  },
  {
   "cell_type": "code",
   "execution_count": 13,
   "id": "0d1f8f74",
   "metadata": {},
   "outputs": [
    {
     "name": "stdout",
     "output_type": "stream",
     "text": [
      "[' ', ' ', ' ']\n"
     ]
    }
   ],
   "source": [
    "# lets take an example\n",
    "s1 = \"I love watching movies\"\n",
    "print(re.findall('\\s', s1))"
   ]
  },
  {
   "cell_type": "markdown",
   "id": "4b636f5b",
   "metadata": {},
   "source": [
    "## Sets for Regular Expressions"
   ]
  },
  {
   "cell_type": "markdown",
   "id": "49b3351e",
   "metadata": {},
   "source": [
    "*  [arn], our first set which returns a match where one of the specified characters (a, r, or n) are present."
   ]
  },
  {
   "cell_type": "code",
   "execution_count": 14,
   "id": "35e918e4",
   "metadata": {},
   "outputs": [
    {
     "name": "stdout",
     "output_type": "stream",
     "text": [
      "['a', 'n']\n"
     ]
    }
   ],
   "source": [
    "# lets take an example\n",
    "s1 = \"I love watching movies\"\n",
    "print(re.findall('[arn]', s1))"
   ]
  },
  {
   "cell_type": "markdown",
   "id": "4cbc5f1d",
   "metadata": {},
   "source": [
    "*  [a-n] which returns a match for any lower case character, alphabetically between a and n."
   ]
  },
  {
   "cell_type": "code",
   "execution_count": 15,
   "id": "9e25e8ab",
   "metadata": {},
   "outputs": [
    {
     "name": "stdout",
     "output_type": "stream",
     "text": [
      "['l', 'e', 'a', 'c', 'h', 'i', 'n', 'g', 'm', 'i', 'e']\n"
     ]
    }
   ],
   "source": [
    "# lets take an example\n",
    "s1 = \"I love watching movies\"\n",
    "print(re.findall('[a-n]', s1))"
   ]
  },
  {
   "cell_type": "markdown",
   "id": "68e0e941",
   "metadata": {},
   "source": [
    "*  [^arn] which returns a match for any character except a, r, and n."
   ]
  },
  {
   "cell_type": "code",
   "execution_count": 16,
   "id": "282a8a74",
   "metadata": {},
   "outputs": [
    {
     "name": "stdout",
     "output_type": "stream",
     "text": [
      "['I', ' ', 'l', 'o', 'v', 'e', ' ', 'w', 't', 'c', 'h', 'i', 'g', ' ', 'm', 'o', 'v', 'i', 'e', 's']\n"
     ]
    }
   ],
   "source": [
    "# lets take an example\n",
    "s1 = \"I love watching movies\"\n",
    "print(re.findall('[^arn]', s1))"
   ]
  },
  {
   "cell_type": "markdown",
   "id": "acf76def",
   "metadata": {},
   "source": [
    " * [0-9] which returns a match for any digit between 0 and 9."
   ]
  },
  {
   "cell_type": "code",
   "execution_count": 17,
   "id": "7e79cfe6",
   "metadata": {},
   "outputs": [
    {
     "name": "stdout",
     "output_type": "stream",
     "text": [
      "['8']\n"
     ]
    }
   ],
   "source": [
    "# lets take an example\n",
    "s1 = \"I love watching movies after 8pm\"\n",
    "print(re.findall('[0-9]', s1))"
   ]
  },
  {
   "cell_type": "markdown",
   "id": "331dbfd1",
   "metadata": {},
   "source": [
    "* [a-zA-Z] which returns a match for any character alphabetically between a and z, lower case or upper case."
   ]
  },
  {
   "cell_type": "code",
   "execution_count": 18,
   "id": "3ef77cd5",
   "metadata": {},
   "outputs": [
    {
     "name": "stdout",
     "output_type": "stream",
     "text": [
      "['I', 'l', 'o', 'v', 'e', 'w', 'a', 't', 'c', 'h', 'i', 'n', 'g', 'm', 'o', 'v', 'i', 'e', 's']\n"
     ]
    }
   ],
   "source": [
    "# lets take an example\n",
    "s1 = \"I love watching movies\"\n",
    "print(re.findall('[a-zA-Z]', s1))"
   ]
  },
  {
   "cell_type": "markdown",
   "id": "0c9b55b0",
   "metadata": {},
   "source": [
    "*  [+] which return a match for any +(plus) character in the string."
   ]
  },
  {
   "cell_type": "code",
   "execution_count": 19,
   "id": "2da97709",
   "metadata": {},
   "outputs": [
    {
     "name": "stdout",
     "output_type": "stream",
     "text": [
      "[]\n"
     ]
    }
   ],
   "source": [
    "# lets take an example\n",
    "s = \"I love watching movies\"\n",
    "print(re.findall('[+]',s))"
   ]
  },
  {
   "cell_type": "code",
   "execution_count": null,
   "id": "0ea9ebe8",
   "metadata": {},
   "outputs": [],
   "source": []
  }
 ],
 "metadata": {
  "kernelspec": {
   "display_name": "Python 3 (ipykernel)",
   "language": "python",
   "name": "python3"
  },
  "language_info": {
   "codemirror_mode": {
    "name": "ipython",
    "version": 3
   },
   "file_extension": ".py",
   "mimetype": "text/x-python",
   "name": "python",
   "nbconvert_exporter": "python",
   "pygments_lexer": "ipython3",
   "version": "3.10.9"
  }
 },
 "nbformat": 4,
 "nbformat_minor": 5
}
