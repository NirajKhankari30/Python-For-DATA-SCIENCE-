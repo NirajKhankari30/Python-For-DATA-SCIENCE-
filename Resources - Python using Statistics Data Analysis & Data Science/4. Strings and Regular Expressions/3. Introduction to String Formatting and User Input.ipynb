{
 "cells": [
  {
   "cell_type": "markdown",
   "id": "632c280a",
   "metadata": {},
   "source": [
    "## String Formatting:\n",
    "\n",
    "String formatting refers to the process of constructing strings by inserting values or variables into predefined placeholders within the string. It allows you to create dynamic and more readable strings by incorporating values or variables directly into the text."
   ]
  },
  {
   "cell_type": "code",
   "execution_count": 1,
   "id": "fd463376",
   "metadata": {},
   "outputs": [
    {
     "name": "stdout",
     "output_type": "stream",
     "text": [
      "3.3333333333333335\n",
      "The output is 3.33\n"
     ]
    }
   ],
   "source": [
    "# lets take an example to understand string formatting\n",
    "x = 10\n",
    "y = 3\n",
    "z = x/y\n",
    "\n",
    "# lets print the output\n",
    "print(z)\n",
    "\n",
    "# lets try string formatting\n",
    "print(\"The output is {0:.2f}\".format(z))"
   ]
  },
  {
   "cell_type": "code",
   "execution_count": 2,
   "id": "40515adf",
   "metadata": {},
   "outputs": [
    {
     "name": "stdout",
     "output_type": "stream",
     "text": [
      "My name is Alice and I am 25 years old.\n"
     ]
    }
   ],
   "source": [
    "# let's take one more example for string formatting\n",
    "name = \"Alice\"\n",
    "age = 25\n",
    "\n",
    "# lets try to print the values of name and age.\n",
    "print(\"My name is {} and I am {} years old.\".format(name, age))"
   ]
  },
  {
   "cell_type": "markdown",
   "id": "88d061af",
   "metadata": {},
   "source": [
    "## User Input\n",
    "\n",
    "\n",
    "In Python, the input() function is used to allow users to enter data or provide input while a program is running. It prompts the user with a message or a question and waits for the user to enter a response from the keyboard."
   ]
  },
  {
   "cell_type": "code",
   "execution_count": 4,
   "id": "23f22d66",
   "metadata": {},
   "outputs": [
    {
     "name": "stdout",
     "output_type": "stream",
     "text": [
      "John\n",
      "My name is  John\n"
     ]
    }
   ],
   "source": [
    "# lets take an example to understand the Input Function\n",
    "\n",
    "# By default, the input function takes only string datatype\n",
    "name = input()\n",
    "\n",
    "# lets print the output\n",
    "print(\"My name is \", name)"
   ]
  },
  {
   "cell_type": "code",
   "execution_count": 5,
   "id": "6528f9fb",
   "metadata": {},
   "outputs": [
    {
     "name": "stdout",
     "output_type": "stream",
     "text": [
      "Enter an Integer: 10\n",
      "Enter a Float: 5\n",
      "The Product of x and y is:  50.0\n"
     ]
    }
   ],
   "source": [
    "# lets take an example for the input function to enter int and float values\n",
    "\n",
    "# lets take an integer input\n",
    "x = int(input(\"Enter an Integer: \"))\n",
    "\n",
    "# lets take an float input\n",
    "y = float(input(\"Enter a Float: \"))\n",
    "\n",
    "# lets calculate the product of two variables\n",
    "z = x*y\n",
    "\n",
    "# print the output\n",
    "print(\"The Product of x and y is: \", z)"
   ]
  },
  {
   "cell_type": "code",
   "execution_count": null,
   "id": "2148c76c",
   "metadata": {},
   "outputs": [],
   "source": []
  }
 ],
 "metadata": {
  "kernelspec": {
   "display_name": "Python 3 (ipykernel)",
   "language": "python",
   "name": "python3"
  },
  "language_info": {
   "codemirror_mode": {
    "name": "ipython",
    "version": 3
   },
   "file_extension": ".py",
   "mimetype": "text/x-python",
   "name": "python",
   "nbconvert_exporter": "python",
   "pygments_lexer": "ipython3",
   "version": "3.10.9"
  }
 },
 "nbformat": 4,
 "nbformat_minor": 5
}
