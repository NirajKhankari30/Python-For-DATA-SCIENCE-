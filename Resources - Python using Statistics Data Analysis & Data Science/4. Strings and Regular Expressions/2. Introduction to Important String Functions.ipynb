{
 "cells": [
  {
   "cell_type": "markdown",
   "id": "57981e5b",
   "metadata": {},
   "source": [
    "## String Methods\n",
    "\n",
    "String methods are in-built functions in python for manipulating strings. We have different string methods for different purposes."
   ]
  },
  {
   "cell_type": "code",
   "execution_count": 1,
   "id": "869789a2",
   "metadata": {},
   "outputs": [
    {
     "name": "stdout",
     "output_type": "stream",
     "text": [
      "14\n"
     ]
    }
   ],
   "source": [
    "# let's take a string\n",
    "text = \"Python is fun!\"\n",
    "\n",
    "# lets print the length of the text\n",
    "print(len(text))"
   ]
  },
  {
   "cell_type": "code",
   "execution_count": 2,
   "id": "21a85617",
   "metadata": {},
   "outputs": [
    {
     "name": "stdout",
     "output_type": "stream",
     "text": [
      "HELLO, WORLD!\n",
      "hello, world!\n",
      "Hi, World!\n"
     ]
    }
   ],
   "source": [
    "# lets explore the upper, lower, and replace methods for strings\n",
    "text = \"Hello, World!\"\n",
    "\n",
    "# Convert the string to uppercase\n",
    "print(text.upper())\n",
    "\n",
    "# Convert the string to lowercase\n",
    "print(text.lower())\n",
    "\n",
    "# Replace a substring\n",
    "print(text.replace(\"Hello\", \"Hi\"))"
   ]
  },
  {
   "cell_type": "markdown",
   "id": "abf1c325",
   "metadata": {},
   "source": [
    "* strip(): Removes leading and trailing whitespace from a string."
   ]
  },
  {
   "cell_type": "code",
   "execution_count": 3,
   "id": "3ecc4e2f",
   "metadata": {},
   "outputs": [
    {
     "name": "stdout",
     "output_type": "stream",
     "text": [
      "Hello, World!\n"
     ]
    }
   ],
   "source": [
    "# lets take a string with extra spaces\n",
    "my_string = \"   Hello, World!   \"\n",
    "\n",
    "# lets use the strip function to remove the extra spaces\n",
    "print(my_string.strip())"
   ]
  },
  {
   "cell_type": "markdown",
   "id": "9065f23d",
   "metadata": {},
   "source": [
    "* split(): Splits a string into a list of substrings based on a delimiter."
   ]
  },
  {
   "cell_type": "code",
   "execution_count": 4,
   "id": "5c23f649",
   "metadata": {},
   "outputs": [
    {
     "name": "stdout",
     "output_type": "stream",
     "text": [
      "['Hello', ' World!']\n"
     ]
    }
   ],
   "source": [
    "# let's explore the split function\n",
    "my_string = \"Hello, World!\"\n",
    "\n",
    "# let's use the split function to split through comma\n",
    "print(my_string.split(\",\"))"
   ]
  },
  {
   "cell_type": "markdown",
   "id": "10ccb0ef",
   "metadata": {},
   "source": [
    "* startswith(): Checks if a string starts with a specified substring.\n",
    "* endswith(): Checks if a string ends with a specified substring."
   ]
  },
  {
   "cell_type": "code",
   "execution_count": 5,
   "id": "2d6fb9cc",
   "metadata": {},
   "outputs": [
    {
     "name": "stdout",
     "output_type": "stream",
     "text": [
      "True\n",
      "True\n"
     ]
    }
   ],
   "source": [
    "# Lets explore the startswith and endswith functions\n",
    "my_string = \"Hello, World!\"\n",
    "\n",
    "# lets check the output for the startswith function\n",
    "print(my_string.startswith(\"Hello\"))\n",
    "\n",
    "# lets check the output for the endswith function\n",
    "print(my_string.endswith(\"World!\"))"
   ]
  },
  {
   "cell_type": "markdown",
   "id": "23c1cf17",
   "metadata": {},
   "source": [
    "* count(): Returns the number of occurrences of a substring in a string."
   ]
  },
  {
   "cell_type": "code",
   "execution_count": 6,
   "id": "b002e725",
   "metadata": {},
   "outputs": [
    {
     "name": "stdout",
     "output_type": "stream",
     "text": [
      "2\n"
     ]
    }
   ],
   "source": [
    "# lets explore the count function\n",
    "my_string = \"Hello, World!\"\n",
    "\n",
    "# lets check the occurence of \"o\"\n",
    "print(my_string.count(\"o\"))"
   ]
  },
  {
   "cell_type": "markdown",
   "id": "bda2c1be",
   "metadata": {},
   "source": [
    "* join(): Joins elements of a sequence with a specified string as a delimiter."
   ]
  },
  {
   "cell_type": "code",
   "execution_count": 7,
   "id": "3bb7e4a3",
   "metadata": {},
   "outputs": [
    {
     "name": "stdout",
     "output_type": "stream",
     "text": [
      "Hello, World!\n"
     ]
    }
   ],
   "source": [
    "# lets explore the join function\n",
    "my_list = [\"Hello\", \"World!\"]\n",
    "\n",
    "# lets join the strings in the my_list.\n",
    "my_string = \", \".join(my_list)\n",
    "print(my_string)"
   ]
  },
  {
   "cell_type": "code",
   "execution_count": null,
   "id": "08221a9f",
   "metadata": {},
   "outputs": [],
   "source": []
  }
 ],
 "metadata": {
  "kernelspec": {
   "display_name": "Python 3 (ipykernel)",
   "language": "python",
   "name": "python3"
  },
  "language_info": {
   "codemirror_mode": {
    "name": "ipython",
    "version": 3
   },
   "file_extension": ".py",
   "mimetype": "text/x-python",
   "name": "python",
   "nbconvert_exporter": "python",
   "pygments_lexer": "ipython3",
   "version": "3.10.9"
  }
 },
 "nbformat": 4,
 "nbformat_minor": 5
}
