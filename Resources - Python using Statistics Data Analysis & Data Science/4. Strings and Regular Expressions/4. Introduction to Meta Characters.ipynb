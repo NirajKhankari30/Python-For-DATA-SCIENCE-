{
 "cells": [
  {
   "cell_type": "markdown",
   "id": "5b6db2c1",
   "metadata": {},
   "source": [
    "## Meta Characters for Regular Expressions\n",
    "\n",
    "In regular expressions, meta characters are special characters that have a predefined meaning and are used to build patterns for matching strings. These meta characters provide powerful and flexible matching capabilities. Here are some commonly used meta characters in regular expressions:"
   ]
  },
  {
   "cell_type": "code",
   "execution_count": 3,
   "id": "52bec77a",
   "metadata": {},
   "outputs": [],
   "source": [
    "# lets the import the \"re\" package, which will help us to perform operations on regular expressions\n",
    "import re"
   ]
  },
  {
   "cell_type": "markdown",
   "id": "37add0b0",
   "metadata": {},
   "source": [
    "* . (dot): Matches any character except a newline. For example, the pattern c.t would match \"cat\", \"cut\", \"cot\", and so on."
   ]
  },
  {
   "cell_type": "code",
   "execution_count": 4,
   "id": "61adda46",
   "metadata": {},
   "outputs": [
    {
     "name": "stdout",
     "output_type": "stream",
     "text": [
      "<re.Match object; span=(0, 3), match='cat'>\n",
      "<re.Match object; span=(0, 3), match='cut'>\n",
      "<re.Match object; span=(0, 3), match='cot'>\n",
      "None\n"
     ]
    }
   ],
   "source": [
    "# lets take some strings\n",
    "s1 = \"cat\"\n",
    "s2 = \"cut\"\n",
    "s3 = \"cot\"\n",
    "s4 = \"pot\"\n",
    "\n",
    "# let's try to match characters using the dot Metacharacter\n",
    "print(re.search('c.t', s1))\n",
    "print(re.search('c.t', s2))\n",
    "print(re.search('c.t', s3))\n",
    "print(re.search('c.t', s4))"
   ]
  },
  {
   "cell_type": "markdown",
   "id": "24af19ca",
   "metadata": {},
   "source": [
    "* ^ (caret): Matches the start of a string. For example, the pattern ^Hello would match a string that starts with \"Hello\"."
   ]
  },
  {
   "cell_type": "code",
   "execution_count": 6,
   "id": "ef7281bf",
   "metadata": {},
   "outputs": [
    {
     "name": "stdout",
     "output_type": "stream",
     "text": [
      "<re.Match object; span=(0, 1), match='m'>\n",
      "None\n",
      "None\n",
      "None\n"
     ]
    }
   ],
   "source": [
    "# lets take some strings\n",
    "s1 = 'mumbai'\n",
    "s2 = 'kolkata'\n",
    "s3 = 'chennai'\n",
    "s4 = 'delhi'\n",
    "\n",
    "# lets use the caret meta character to match the string which starts with letter \"m\"\n",
    "print(re.search('^m', s1))\n",
    "print(re.search('^m', s2))\n",
    "print(re.search('^m', s3))\n",
    "print(re.search('^m', s4))"
   ]
  },
  {
   "cell_type": "markdown",
   "id": "73d8a6fc",
   "metadata": {},
   "source": [
    "* (dollar sign): Matches the end of a string. For example, the pattern world$ would match a string that ends with \"world\"."
   ]
  },
  {
   "cell_type": "code",
   "execution_count": 7,
   "id": "ffe623f5",
   "metadata": {},
   "outputs": [
    {
     "name": "stdout",
     "output_type": "stream",
     "text": [
      "None\n",
      "<re.Match object; span=(6, 7), match='a'>\n",
      "None\n",
      "None\n"
     ]
    }
   ],
   "source": [
    "# lets take some strings\n",
    "s1 = 'mumbai'\n",
    "s2 = 'kolkata'\n",
    "s3 = 'chennai'\n",
    "s4 = 'delhi'\n",
    "\n",
    "# lets use the dollar meta character to match the string which ends with letter \"a\"\n",
    "print(re.search('a$', s1))\n",
    "print(re.search('a$', s2))\n",
    "print(re.search('a$', s3))\n",
    "print(re.search('a$', s4))"
   ]
  },
  {
   "cell_type": "markdown",
   "id": "2c4ec177",
   "metadata": {},
   "source": [
    "* (asterisk): Matches zero or more occurrences of the preceding character. For example, the pattern ab*c would match \"ac\", \"abc\", \"abbc\", and so on."
   ]
  },
  {
   "cell_type": "code",
   "execution_count": 8,
   "id": "6b616f98",
   "metadata": {},
   "outputs": [
    {
     "name": "stdout",
     "output_type": "stream",
     "text": [
      "<re.Match object; span=(0, 2), match='ac'>\n",
      "<re.Match object; span=(0, 3), match='abc'>\n",
      "<re.Match object; span=(0, 4), match='abbc'>\n",
      "None\n"
     ]
    }
   ],
   "source": [
    "# lets take some strings\n",
    "s1 = \"ac\"\n",
    "s2 = \"abc\"\n",
    "s3 = \"abbc\"\n",
    "s4 = \"cab\"\n",
    "\n",
    "# let's use the asterisk meta character to match the string where we zero or more occurences of the preceding character.\n",
    "print(re.search('ab*c', s1))\n",
    "print(re.search('ab*c', s2))\n",
    "print(re.search('ab*c', s3))\n",
    "print(re.search('ab*c', s4))"
   ]
  },
  {
   "cell_type": "markdown",
   "id": "1e358ed5",
   "metadata": {},
   "source": [
    "* (plus): Matches one or more occurrences of the preceding character. For example, the pattern go+l would match \"gol\", \"gool\", \"goooool\", and so on."
   ]
  },
  {
   "cell_type": "code",
   "execution_count": 9,
   "id": "5d98fa22",
   "metadata": {},
   "outputs": [
    {
     "name": "stdout",
     "output_type": "stream",
     "text": [
      "None\n",
      "<re.Match object; span=(0, 3), match='abc'>\n",
      "<re.Match object; span=(0, 4), match='abbc'>\n",
      "None\n"
     ]
    }
   ],
   "source": [
    "# lets take some strings\n",
    "s1 = \"ac\"\n",
    "s2 = \"abc\"\n",
    "s3 = \"abbc\"\n",
    "s4 = \"cab\"\n",
    "\n",
    "# let's use the plus meta character to match the string where we one or more occurences of the preceding character.\n",
    "print(re.search('ab+c', s1))\n",
    "print(re.search('ab+c', s2))\n",
    "print(re.search('ab+c', s3))\n",
    "print(re.search('ab+c', s4))"
   ]
  },
  {
   "cell_type": "markdown",
   "id": "da60fda3",
   "metadata": {},
   "source": [
    "* ? (question mark): Matches zero or one occurrence of the preceding character. For example, the pattern colou?r would match \"color\" and \"colour\"."
   ]
  },
  {
   "cell_type": "code",
   "execution_count": 10,
   "id": "f40b1d3f",
   "metadata": {},
   "outputs": [
    {
     "name": "stdout",
     "output_type": "stream",
     "text": [
      "<re.Match object; span=(0, 5), match='color'>\n",
      "<re.Match object; span=(0, 6), match='colour'>\n",
      "None\n"
     ]
    }
   ],
   "source": [
    "# lets take some strings\n",
    "s1 = \"color\"\n",
    "s2 = \"colour\"\n",
    "s3 = \"colouur\"\n",
    "\n",
    "# let's use the plus meta character to match the string where we Zero or one occurence of the preceding character.\n",
    "print(re.search('colou?r', s1))\n",
    "print(re.search('colou?r', s2))\n",
    "print(re.search('colou?r', s3))"
   ]
  },
  {
   "cell_type": "markdown",
   "id": "336f5d02",
   "metadata": {},
   "source": [
    "* (square brackets): Matches any single character within the brackets. For example, the pattern [aeiou] would match any vowel character."
   ]
  },
  {
   "cell_type": "code",
   "execution_count": 11,
   "id": "8d67dea6",
   "metadata": {},
   "outputs": [
    {
     "name": "stdout",
     "output_type": "stream",
     "text": [
      "<re.Match object; span=(8, 9), match='i'>\n",
      "<re.Match object; span=(12, 13), match='i'>\n",
      "None\n"
     ]
    }
   ],
   "source": [
    "# lets take string\n",
    "s1 = \"My Name is Akash Khanna, I Live in Mumbai.\"\n",
    "s2 = \"I am a Hosewife\"\n",
    "s3 = \"He Nevers loves to cook \"\n",
    "\n",
    "# let's try to search for a set of Characters in the string using the []\n",
    "print(re.search('[in]', s1))\n",
    "print(re.search('[in]', s2))\n",
    "print(re.search('[in]', s3))"
   ]
  },
  {
   "cell_type": "markdown",
   "id": "c1cc70ff",
   "metadata": {},
   "source": [
    "* [^ ] (caret inside square brackets): Matches any single character that is not within the brackets. For example, the pattern [^0-9] would match any non-digit character."
   ]
  },
  {
   "cell_type": "code",
   "execution_count": 12,
   "id": "450bdcc9",
   "metadata": {},
   "outputs": [
    {
     "name": "stdout",
     "output_type": "stream",
     "text": [
      "<re.Match object; span=(0, 1), match='I'>\n",
      "<re.Match object; span=(0, 1), match='I'>\n",
      "<re.Match object; span=(0, 1), match='I'>\n",
      "None\n"
     ]
    }
   ],
   "source": [
    "# lets take some examples\n",
    "s1 = \"I am an actor\"\n",
    "s2 = \"I earn 25 Lakhs per annum\"\n",
    "s3 = \"I stay in Mumbai\"\n",
    "s4 = \"4590\"\n",
    "\n",
    "# lets use the caret inside square bracket meta character to match it has any numbers.\n",
    "print(re.search('[^0-9]', s1))\n",
    "print(re.search('[^0-9]', s2))\n",
    "print(re.search('[^0-9]', s3))\n",
    "print(re.search('[^0-9]', s4))"
   ]
  },
  {
   "cell_type": "markdown",
   "id": "2700c782",
   "metadata": {},
   "source": [
    "* | (pipe): Acts as an OR operator, allowing for multiple alternatives. For example, the pattern apple|orange would match either \"apple\" or \"orange\"."
   ]
  },
  {
   "cell_type": "code",
   "execution_count": null,
   "id": "d891c6cf",
   "metadata": {},
   "outputs": [],
   "source": [
    "# lets take some strings\n",
    "s1 = \"I love to eat mango\"\n",
    "s2 = \"I love to eat banana\"\n",
    "s3 = \"I love to eat orange\"\n",
    "s4 = \"I love to eat papaya\"\n",
    "\n",
    "# let's use the pipe operator to match multiple alternatives from given sentences.\n",
    "print(re.search('mango|papaya', s1))\n",
    "print(re.search('mango|papaya', s2))\n",
    "print(re.search('mango|papaya', s3))\n",
    "print(re.search('mango|papaya', s4))"
   ]
  },
  {
   "cell_type": "code",
   "execution_count": null,
   "id": "4c5e508c",
   "metadata": {},
   "outputs": [],
   "source": []
  }
 ],
 "metadata": {
  "kernelspec": {
   "display_name": "Python 3 (ipykernel)",
   "language": "python",
   "name": "python3"
  },
  "language_info": {
   "codemirror_mode": {
    "name": "ipython",
    "version": 3
   },
   "file_extension": ".py",
   "mimetype": "text/x-python",
   "name": "python",
   "nbconvert_exporter": "python",
   "pygments_lexer": "ipython3",
   "version": "3.10.9"
  }
 },
 "nbformat": 4,
 "nbformat_minor": 5
}
