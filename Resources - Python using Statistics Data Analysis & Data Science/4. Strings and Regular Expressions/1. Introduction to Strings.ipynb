{
 "cells": [
  {
   "cell_type": "markdown",
   "id": "8535276e",
   "metadata": {},
   "source": [
    "# Strings and Regular Expressions"
   ]
  },
  {
   "cell_type": "markdown",
   "id": "4b05ba18",
   "metadata": {},
   "source": [
    "## Strings"
   ]
  },
  {
   "cell_type": "markdown",
   "id": "90eb6080",
   "metadata": {},
   "source": [
    "A string is a sequence of characters enclosed in either single quotes ('') or double quotes (\"\"). Strings are one of the fundamental data types in Python and are used to represent text and alphanumeric data. Here are a few examples of working with strings in Python:\n",
    "\n",
    "**Creating a String:**"
   ]
  },
  {
   "cell_type": "code",
   "execution_count": 1,
   "id": "38f87e4c",
   "metadata": {},
   "outputs": [
    {
     "name": "stdout",
     "output_type": "stream",
     "text": [
      "Hello, World!\n"
     ]
    }
   ],
   "source": [
    "# lets create a string\n",
    "my_string = \"Hello, World!\"\n",
    "\n",
    "# lets print the string\n",
    "print(my_string)"
   ]
  },
  {
   "cell_type": "markdown",
   "id": "f1186d0a",
   "metadata": {},
   "source": [
    "**String Concatenation:**\n",
    "\n",
    "String concatenation is the process of combining multiple strings together into a single string. In Python, you can concatenate strings using the + operator or by using the += operator."
   ]
  },
  {
   "cell_type": "code",
   "execution_count": 2,
   "id": "add89b18",
   "metadata": {},
   "outputs": [
    {
     "name": "stdout",
     "output_type": "stream",
     "text": [
      "Harry Potter\n"
     ]
    }
   ],
   "source": [
    "# lets define two variables with string values\n",
    "first_name = \"Harry\"\n",
    "last_name = \"Potter\"\n",
    "\n",
    "# performing concatenation\n",
    "full_name = first_name + \" \" + last_name\n",
    "\n",
    "# printing the output\n",
    "print(full_name)"
   ]
  },
  {
   "cell_type": "markdown",
   "id": "a3322972",
   "metadata": {},
   "source": [
    "**Accessing Characters in a String:**\n",
    "\n",
    "To access characters from a string in Python, you can use indexing. The indexing starts from 0 for the first character and goes up to (length-1) for the last character. You can use positive indexing or negative indexing to access characters in different ways."
   ]
  },
  {
   "cell_type": "code",
   "execution_count": 3,
   "id": "9ec17c44",
   "metadata": {},
   "outputs": [
    {
     "name": "stdout",
     "output_type": "stream",
     "text": [
      "H\n",
      "!\n"
     ]
    }
   ],
   "source": [
    "# Accessing the first character\n",
    "message = \"Hello, World!\"\n",
    "\n",
    "# lets print the output\n",
    "print(message[0])\n",
    "\n",
    "# lets access the last character using negative indexing\n",
    "print(message[-1])"
   ]
  },
  {
   "cell_type": "markdown",
   "id": "6f3bf5ac",
   "metadata": {},
   "source": [
    "**Slicing Characters in a String**\n",
    "\n",
    "Slicing allows you to extract a portion of a string by specifying a range of indices. Here's an example to demonstrate slicing characters from a string:"
   ]
  },
  {
   "cell_type": "code",
   "execution_count": 4,
   "id": "48bce1b1",
   "metadata": {},
   "outputs": [
    {
     "name": "stdout",
     "output_type": "stream",
     "text": [
      "john\n",
      "junior\n"
     ]
    }
   ],
   "source": [
    "# Slicing the string to get a substring\n",
    "name = \"john wick junior\"\n",
    "\n",
    "# let's try to slice \"john\" from the name string\n",
    "print(name[0:4])  #last index is excluded\n",
    "\n",
    "# let's try to slice \"junior\" from the name string\n",
    "print(name[10:])"
   ]
  },
  {
   "cell_type": "code",
   "execution_count": null,
   "id": "f0dfba08",
   "metadata": {},
   "outputs": [],
   "source": []
  }
 ],
 "metadata": {
  "kernelspec": {
   "display_name": "Python 3 (ipykernel)",
   "language": "python",
   "name": "python3"
  },
  "language_info": {
   "codemirror_mode": {
    "name": "ipython",
    "version": 3
   },
   "file_extension": ".py",
   "mimetype": "text/x-python",
   "name": "python",
   "nbconvert_exporter": "python",
   "pygments_lexer": "ipython3",
   "version": "3.10.9"
  }
 },
 "nbformat": 4,
 "nbformat_minor": 5
}
