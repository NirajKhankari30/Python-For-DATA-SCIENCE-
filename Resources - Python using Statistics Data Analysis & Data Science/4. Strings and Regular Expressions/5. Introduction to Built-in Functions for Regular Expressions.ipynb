{
 "cells": [
  {
   "cell_type": "markdown",
   "id": "dce22eee",
   "metadata": {},
   "source": [
    "## Built-in Functions for Regular Expressions\n",
    "\n",
    "* The Built-in function serves a specific purpose in working with regular expressions in Python, allowing you to search, match, extract, split, and replace text based on specific patterns."
   ]
  },
  {
   "cell_type": "markdown",
   "id": "2294c2a8",
   "metadata": {},
   "source": [
    "* Findall Function: Returns all non-overlapping matches of the pattern in the string as a list."
   ]
  },
  {
   "cell_type": "code",
   "execution_count": 7,
   "id": "e994214f",
   "metadata": {},
   "outputs": [],
   "source": [
    "import re"
   ]
  },
  {
   "cell_type": "code",
   "execution_count": 8,
   "id": "845b69c6",
   "metadata": {},
   "outputs": [
    {
     "name": "stdout",
     "output_type": "stream",
     "text": [
      "['country', 'country']\n",
      "[]\n"
     ]
    }
   ],
   "source": [
    "# lets take an example\n",
    "s1 = \"India is my country, I love my country\"\n",
    "\n",
    "# lets use the findall function to check occurences of following patterns\n",
    "print(re.findall('country', s1))\n",
    "print(re.findall('she', s1))"
   ]
  },
  {
   "cell_type": "markdown",
   "id": "1455b312",
   "metadata": {},
   "source": [
    "* Search Function: Searches for a pattern match anywhere in the given string and returns a match object if found. It searches for the first occurrence of the pattern."
   ]
  },
  {
   "cell_type": "code",
   "execution_count": 9,
   "id": "bd2eaef8",
   "metadata": {},
   "outputs": [
    {
     "name": "stdout",
     "output_type": "stream",
     "text": [
      "<re.Match object; span=(31, 36), match='Delhi'>\n",
      "None\n",
      "<re.Match object; span=(0, 5), match='India'>\n"
     ]
    }
   ],
   "source": [
    "# lets take an example\n",
    "s1 = \"India is my country, I live in Delhi\"\n",
    "\n",
    "# lets use the search function to search for the given pattern.\n",
    "print(re.search('Delhi', s1))\n",
    "print(re.search('Mumbai', s1))\n",
    "print(re.search('India', s1))"
   ]
  },
  {
   "cell_type": "markdown",
   "id": "3e310204",
   "metadata": {},
   "source": [
    "* Split Function: Splits the string by the occurrences of the pattern and returns a list of substrings."
   ]
  },
  {
   "cell_type": "code",
   "execution_count": 10,
   "id": "bdeae68d",
   "metadata": {},
   "outputs": [
    {
     "name": "stdout",
     "output_type": "stream",
     "text": [
      "['I', 'love', 'watching', 'movies']\n"
     ]
    }
   ],
   "source": [
    "# lets take an example\n",
    "s1 = \"I love watching movies\"\n",
    "\n",
    "# lets use the split function to split the sentence based on whitespace\n",
    "print(re.split('\\s', s1))"
   ]
  },
  {
   "cell_type": "markdown",
   "id": "b50a611a",
   "metadata": {},
   "source": [
    "* Sub Function:  Searches for all occurrences of the pattern in the string and replaces them with the given replacement string (repl)."
   ]
  },
  {
   "cell_type": "code",
   "execution_count": 11,
   "id": "2892d2e2",
   "metadata": {},
   "outputs": [
    {
     "name": "stdout",
     "output_type": "stream",
     "text": [
      "I@love@watching@movies\n"
     ]
    }
   ],
   "source": [
    "# lets take an example\n",
    "s1 = \"I love watching movies\"\n",
    "\n",
    "# lets use the sub function, to replace whitespaces with @\n",
    "print(re.sub('\\s','@', s1))"
   ]
  },
  {
   "cell_type": "code",
   "execution_count": null,
   "id": "6798d1ab",
   "metadata": {},
   "outputs": [],
   "source": []
  }
 ],
 "metadata": {
  "kernelspec": {
   "display_name": "Python 3 (ipykernel)",
   "language": "python",
   "name": "python3"
  },
  "language_info": {
   "codemirror_mode": {
    "name": "ipython",
    "version": 3
   },
   "file_extension": ".py",
   "mimetype": "text/x-python",
   "name": "python",
   "nbconvert_exporter": "python",
   "pygments_lexer": "ipython3",
   "version": "3.10.9"
  }
 },
 "nbformat": 4,
 "nbformat_minor": 5
}
